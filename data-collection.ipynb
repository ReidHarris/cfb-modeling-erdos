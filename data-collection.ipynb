{
 "cells": [
  {
   "cell_type": "markdown",
   "metadata": {},
   "source": [
    "# Data Collection"
   ]
  },
  {
   "cell_type": "code",
   "execution_count": 7,
   "metadata": {},
   "outputs": [],
   "source": [
    "# Get general dependencies\n",
    "import pandas as pd\n",
    "import numpy as np\n",
    "import matplotlib.pyplot as plt\n",
    "import seaborn as sns"
   ]
  },
  {
   "cell_type": "code",
   "execution_count": 2,
   "metadata": {},
   "outputs": [],
   "source": [
    "# Import college football api\n",
    "!pip install --q cfbd python-dotenv"
   ]
  },
  {
   "cell_type": "code",
   "execution_count": 3,
   "metadata": {},
   "outputs": [],
   "source": [
    "# Install API from college football data\n",
    "import cfbd\n",
    "from dotenv import dotenv_values\n",
    "\n",
    "# Load stuff from .env file\n",
    "env_vars = dotenv_values('.env')\n",
    "\n",
    "configuration = cfbd.Configuration()\n",
    "configuration.api_key['Authorization'] = env_vars.get('CFBD_API_KEY')\n",
    "configuration.api_key_prefix['Authorization'] = env_vars.get('CFBD_API_KEY_PREFIX')\n",
    "\n",
    "api_config = cfbd.ApiClient(configuration)"
   ]
  },
  {
   "cell_type": "code",
   "execution_count": 16,
   "metadata": {},
   "outputs": [],
   "source": [
    "# Create a teams api instance and a games api instance and explore\n",
    "#teams_api = cfbd.TeamsApi(api_config)\n",
    "games_api = cfbd.GamesApi(api_config)\n",
    "#players_api = cfbd.PlayersApi(api_config)"
   ]
  },
  {
   "cell_type": "code",
   "execution_count": 28,
   "metadata": {},
   "outputs": [],
   "source": [
    "# Get team records\n",
    "def get_records(**kwargs):\n",
    "  records = []\n",
    "  for year in kwargs['years']:\n",
    "    for team in kwargs['teams']:    \n",
    "      records += kwargs['api'].get_team_records(year=year, team=team)\n",
    "  return records\n",
    "\n",
    "# Parse the plays into a dataframe\n",
    "def records_to_df(records): \n",
    "  records_dict = [dict(\n",
    "    team = r.team,\n",
    "    team_id = r.team_id,\n",
    "    conference = r.conference,\n",
    "    games_played = r.total.games,\n",
    "    wins = r.total.wins,\n",
    "    losses = r.total.losses,\n",
    "  ) for r in records if r.team is not None]\n",
    "  records_df = pd.DataFrame(records_dict)\n",
    "  return records_df "
   ]
  },
  {
   "cell_type": "code",
   "execution_count": 29,
   "metadata": {},
   "outputs": [
    {
     "data": {
      "text/html": [
       "<div>\n",
       "<style scoped>\n",
       "    .dataframe tbody tr th:only-of-type {\n",
       "        vertical-align: middle;\n",
       "    }\n",
       "\n",
       "    .dataframe tbody tr th {\n",
       "        vertical-align: top;\n",
       "    }\n",
       "\n",
       "    .dataframe thead th {\n",
       "        text-align: right;\n",
       "    }\n",
       "</style>\n",
       "<table border=\"1\" class=\"dataframe\">\n",
       "  <thead>\n",
       "    <tr style=\"text-align: right;\">\n",
       "      <th></th>\n",
       "      <th>team</th>\n",
       "      <th>team_id</th>\n",
       "      <th>conference</th>\n",
       "      <th>games_played</th>\n",
       "      <th>wins</th>\n",
       "      <th>losses</th>\n",
       "    </tr>\n",
       "  </thead>\n",
       "  <tbody>\n",
       "    <tr>\n",
       "      <th>0</th>\n",
       "      <td>South Carolina</td>\n",
       "      <td>2579</td>\n",
       "      <td>SEC</td>\n",
       "      <td>12</td>\n",
       "      <td>5</td>\n",
       "      <td>7</td>\n",
       "    </tr>\n",
       "  </tbody>\n",
       "</table>\n",
       "</div>"
      ],
      "text/plain": [
       "             team  team_id conference  games_played  wins  losses\n",
       "0  South Carolina     2579        SEC            12     5       7"
      ]
     },
     "execution_count": 29,
     "metadata": {},
     "output_type": "execute_result"
    }
   ],
   "source": [
    "#games_api.get_team_records(year=2023, team='South Carolina')\n",
    "records_df = records_to_df(\n",
    "    get_records(api=games_api, years=[2023], teams=['South Carolina'])\n",
    ")\n",
    "records_df.head()"
   ]
  },
  {
   "cell_type": "code",
   "execution_count": 27,
   "metadata": {},
   "outputs": [
    {
     "data": {
      "text/plain": [
       "[{'away_games': {'games': 4, 'losses': 4, 'ties': 0, 'wins': 0},\n",
       "  'conference': 'SEC',\n",
       "  'conference_games': {'games': 8, 'losses': 5, 'ties': 0, 'wins': 3},\n",
       "  'division': 'East',\n",
       "  'expected_wins': 5.6,\n",
       "  'home_games': {'games': 7, 'losses': 2, 'ties': 0, 'wins': 5},\n",
       "  'team': 'South Carolina',\n",
       "  'team_id': 2579,\n",
       "  'total': {'games': 12, 'losses': 7, 'ties': 0, 'wins': 5},\n",
       "  'year': 2023}]"
      ]
     },
     "execution_count": 27,
     "metadata": {},
     "output_type": "execute_result"
    }
   ],
   "source": [
    "games_api.get_team_records(year=2023, team='South Carolina')"
   ]
  },
  {
   "cell_type": "code",
   "execution_count": null,
   "metadata": {},
   "outputs": [],
   "source": []
  }
 ],
 "metadata": {
  "kernelspec": {
   "display_name": "erdos_may_2024",
   "language": "python",
   "name": "python3"
  },
  "language_info": {
   "codemirror_mode": {
    "name": "ipython",
    "version": 3
   },
   "file_extension": ".py",
   "mimetype": "text/x-python",
   "name": "python",
   "nbconvert_exporter": "python",
   "pygments_lexer": "ipython3",
   "version": "3.11.9"
  }
 },
 "nbformat": 4,
 "nbformat_minor": 2
}
