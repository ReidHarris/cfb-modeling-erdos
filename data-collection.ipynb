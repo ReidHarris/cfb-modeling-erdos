{
 "cells": [
  {
   "cell_type": "markdown",
   "metadata": {},
   "source": [
    "# Data Collection"
   ]
  },
  {
   "cell_type": "code",
   "execution_count": 40,
   "metadata": {},
   "outputs": [],
   "source": [
    "# Get general dependencies\n",
    "import pandas as pd\n",
    "import numpy as np\n",
    "import matplotlib.pyplot as plt\n",
    "import seaborn as sns\n",
    "import time"
   ]
  },
  {
   "cell_type": "code",
   "execution_count": 2,
   "metadata": {},
   "outputs": [],
   "source": [
    "# Import college football api\n",
    "!pip install --q cfbd python-dotenv"
   ]
  },
  {
   "cell_type": "code",
   "execution_count": 2,
   "metadata": {},
   "outputs": [],
   "source": [
    "# Install API from college football data\n",
    "import cfbd\n",
    "from dotenv import dotenv_values\n",
    "\n",
    "# Load stuff from .env file\n",
    "env_vars = dotenv_values('.env')\n",
    "\n",
    "configuration = cfbd.Configuration()\n",
    "configuration.api_key['Authorization'] = env_vars.get('CFBD_API_KEY')\n",
    "configuration.api_key_prefix['Authorization'] = env_vars.get('CFBD_API_KEY_PREFIX')\n",
    "\n",
    "api_config = cfbd.ApiClient(configuration)"
   ]
  },
  {
   "cell_type": "code",
   "execution_count": 8,
   "metadata": {},
   "outputs": [],
   "source": [
    "# Create a teams api instance and a games api instance and explore\n",
    "teams_api = cfbd.TeamsApi(api_config)\n",
    "games_api = cfbd.GamesApi(api_config)\n",
    "#players_api = cfbd.PlayersApi(api_config)"
   ]
  },
  {
   "cell_type": "code",
   "execution_count": 12,
   "metadata": {},
   "outputs": [],
   "source": [
    "# Get team info\n",
    "def get_team_info(**kwargs):\n",
    "  team_info = kwargs['api'].get_fbs_teams()\n",
    "  return team_info\n",
    "\n",
    "# Parse the plays into a dataframe\n",
    "def team_info_to_df(teams): \n",
    "  teams_dict = [dict(\n",
    "    team = t.school,\n",
    "    abbreviation = t.abbreviation,\n",
    "    team_id = t.id,\n",
    "    conference = t.conference,\n",
    "    stadium_capacity = t.location.capacity,\n",
    "    logo = t.logos[0]\n",
    "  ) for t in teams if t.id is not None]\n",
    "  teams_info_df = pd.DataFrame(teams_dict)\n",
    "  return teams_info_df"
   ]
  },
  {
   "cell_type": "code",
   "execution_count": 14,
   "metadata": {},
   "outputs": [
    {
     "data": {
      "text/html": [
       "<div>\n",
       "<style scoped>\n",
       "    .dataframe tbody tr th:only-of-type {\n",
       "        vertical-align: middle;\n",
       "    }\n",
       "\n",
       "    .dataframe tbody tr th {\n",
       "        vertical-align: top;\n",
       "    }\n",
       "\n",
       "    .dataframe thead th {\n",
       "        text-align: right;\n",
       "    }\n",
       "</style>\n",
       "<table border=\"1\" class=\"dataframe\">\n",
       "  <thead>\n",
       "    <tr style=\"text-align: right;\">\n",
       "      <th></th>\n",
       "      <th>team</th>\n",
       "      <th>abbreviation</th>\n",
       "      <th>team_id</th>\n",
       "      <th>conference</th>\n",
       "      <th>stadium_capacity</th>\n",
       "      <th>logo</th>\n",
       "    </tr>\n",
       "  </thead>\n",
       "  <tbody>\n",
       "    <tr>\n",
       "      <th>0</th>\n",
       "      <td>Air Force</td>\n",
       "      <td>AFA</td>\n",
       "      <td>2005</td>\n",
       "      <td>Mountain West</td>\n",
       "      <td>46692.0</td>\n",
       "      <td>http://a.espncdn.com/i/teamlogos/ncaa/500/2005...</td>\n",
       "    </tr>\n",
       "    <tr>\n",
       "      <th>1</th>\n",
       "      <td>Akron</td>\n",
       "      <td>AKR</td>\n",
       "      <td>2006</td>\n",
       "      <td>Mid-American</td>\n",
       "      <td>30000.0</td>\n",
       "      <td>http://a.espncdn.com/i/teamlogos/ncaa/500/2006...</td>\n",
       "    </tr>\n",
       "    <tr>\n",
       "      <th>2</th>\n",
       "      <td>Alabama</td>\n",
       "      <td>ALA</td>\n",
       "      <td>333</td>\n",
       "      <td>SEC</td>\n",
       "      <td>101821.0</td>\n",
       "      <td>http://a.espncdn.com/i/teamlogos/ncaa/500/333.png</td>\n",
       "    </tr>\n",
       "    <tr>\n",
       "      <th>3</th>\n",
       "      <td>Appalachian State</td>\n",
       "      <td>APP</td>\n",
       "      <td>2026</td>\n",
       "      <td>Sun Belt</td>\n",
       "      <td>30000.0</td>\n",
       "      <td>http://a.espncdn.com/i/teamlogos/ncaa/500/2026...</td>\n",
       "    </tr>\n",
       "    <tr>\n",
       "      <th>4</th>\n",
       "      <td>Arizona</td>\n",
       "      <td>ARIZ</td>\n",
       "      <td>12</td>\n",
       "      <td>Pac-12</td>\n",
       "      <td>50782.0</td>\n",
       "      <td>http://a.espncdn.com/i/teamlogos/ncaa/500/12.png</td>\n",
       "    </tr>\n",
       "  </tbody>\n",
       "</table>\n",
       "</div>"
      ],
      "text/plain": [
       "                team abbreviation  team_id     conference  stadium_capacity  \\\n",
       "0          Air Force          AFA     2005  Mountain West           46692.0   \n",
       "1              Akron          AKR     2006   Mid-American           30000.0   \n",
       "2            Alabama          ALA      333            SEC          101821.0   \n",
       "3  Appalachian State          APP     2026       Sun Belt           30000.0   \n",
       "4            Arizona         ARIZ       12         Pac-12           50782.0   \n",
       "\n",
       "                                                logo  \n",
       "0  http://a.espncdn.com/i/teamlogos/ncaa/500/2005...  \n",
       "1  http://a.espncdn.com/i/teamlogos/ncaa/500/2006...  \n",
       "2  http://a.espncdn.com/i/teamlogos/ncaa/500/333.png  \n",
       "3  http://a.espncdn.com/i/teamlogos/ncaa/500/2026...  \n",
       "4   http://a.espncdn.com/i/teamlogos/ncaa/500/12.png  "
      ]
     },
     "execution_count": 14,
     "metadata": {},
     "output_type": "execute_result"
    }
   ],
   "source": [
    "team_info_df = team_info_to_df(\n",
    "    get_team_info(api=teams_api)\n",
    ")\n",
    "team_info_df.head()"
   ]
  },
  {
   "cell_type": "code",
   "execution_count": 42,
   "metadata": {},
   "outputs": [],
   "source": [
    "team_info_df.to_csv('data/team_info.csv', index=False)"
   ]
  },
  {
   "cell_type": "code",
   "execution_count": 6,
   "metadata": {},
   "outputs": [],
   "source": [
    "# Get team records\n",
    "def get_records(**kwargs):\n",
    "  records = []\n",
    "  for year in kwargs['years']:\n",
    "    for team in kwargs['teams']:    \n",
    "      records += kwargs['api'].get_team_records(year=year, team=team)\n",
    "    time.sleep(1)  \n",
    "  return records\n",
    "\n",
    "# Parse the plays into a dataframe\n",
    "def records_to_df(records): \n",
    "  records_dict = [dict(\n",
    "    team = r.team,\n",
    "    team_id = r.team_id,\n",
    "    year = r.year,\n",
    "    conference = r.conference,\n",
    "    games_played = r.total.games,\n",
    "    expected_wins = r.expected_wins,\n",
    "    wins = r.total.wins,\n",
    "    losses = r.total.losses,\n",
    "    home_wins = r.home_games.wins,\n",
    "    home_losses = r.home_games.losses,\n",
    "    away_wins = r.away_games.wins,\n",
    "    away_losses = r.away_games.losses,\n",
    "  ) for r in records if r.team is not None]\n",
    "  records_df = pd.DataFrame(records_dict)\n",
    "  return records_df "
   ]
  },
  {
   "cell_type": "markdown",
   "metadata": {},
   "source": [
    "Note: The CFBD doesn't handle numpy.int64 types. You need to use range() rather than list(np.arange()) because the elements of a list from range will be regular python ints."
   ]
  },
  {
   "cell_type": "code",
   "execution_count": 38,
   "metadata": {},
   "outputs": [
    {
     "data": {
      "text/plain": [
       "numpy.int64"
      ]
     },
     "execution_count": 38,
     "metadata": {},
     "output_type": "execute_result"
    }
   ],
   "source": [
    "type(list(np.arange(2000,2002))[0])"
   ]
  },
  {
   "cell_type": "code",
   "execution_count": 39,
   "metadata": {},
   "outputs": [
    {
     "data": {
      "text/html": [
       "<div>\n",
       "<style scoped>\n",
       "    .dataframe tbody tr th:only-of-type {\n",
       "        vertical-align: middle;\n",
       "    }\n",
       "\n",
       "    .dataframe tbody tr th {\n",
       "        vertical-align: top;\n",
       "    }\n",
       "\n",
       "    .dataframe thead th {\n",
       "        text-align: right;\n",
       "    }\n",
       "</style>\n",
       "<table border=\"1\" class=\"dataframe\">\n",
       "  <thead>\n",
       "    <tr style=\"text-align: right;\">\n",
       "      <th></th>\n",
       "      <th>team</th>\n",
       "      <th>team_id</th>\n",
       "      <th>year</th>\n",
       "      <th>conference</th>\n",
       "      <th>games_played</th>\n",
       "      <th>expected_wins</th>\n",
       "      <th>wins</th>\n",
       "      <th>losses</th>\n",
       "      <th>home_wins</th>\n",
       "      <th>home_losses</th>\n",
       "      <th>away_wins</th>\n",
       "      <th>away_losses</th>\n",
       "    </tr>\n",
       "  </thead>\n",
       "  <tbody>\n",
       "    <tr>\n",
       "      <th>0</th>\n",
       "      <td>Air Force</td>\n",
       "      <td>2005</td>\n",
       "      <td>2000</td>\n",
       "      <td>Mountain West</td>\n",
       "      <td>12</td>\n",
       "      <td>0.0</td>\n",
       "      <td>9</td>\n",
       "      <td>3</td>\n",
       "      <td>5</td>\n",
       "      <td>1</td>\n",
       "      <td>3</td>\n",
       "      <td>2</td>\n",
       "    </tr>\n",
       "    <tr>\n",
       "      <th>1</th>\n",
       "      <td>Akron</td>\n",
       "      <td>2006</td>\n",
       "      <td>2000</td>\n",
       "      <td>Mid-American</td>\n",
       "      <td>11</td>\n",
       "      <td>0.0</td>\n",
       "      <td>6</td>\n",
       "      <td>5</td>\n",
       "      <td>3</td>\n",
       "      <td>3</td>\n",
       "      <td>3</td>\n",
       "      <td>2</td>\n",
       "    </tr>\n",
       "    <tr>\n",
       "      <th>2</th>\n",
       "      <td>Alabama</td>\n",
       "      <td>333</td>\n",
       "      <td>2000</td>\n",
       "      <td>SEC</td>\n",
       "      <td>11</td>\n",
       "      <td>0.0</td>\n",
       "      <td>3</td>\n",
       "      <td>8</td>\n",
       "      <td>3</td>\n",
       "      <td>3</td>\n",
       "      <td>0</td>\n",
       "      <td>5</td>\n",
       "    </tr>\n",
       "    <tr>\n",
       "      <th>3</th>\n",
       "      <td>Arizona</td>\n",
       "      <td>12</td>\n",
       "      <td>2000</td>\n",
       "      <td>Pac-10</td>\n",
       "      <td>11</td>\n",
       "      <td>0.0</td>\n",
       "      <td>5</td>\n",
       "      <td>6</td>\n",
       "      <td>2</td>\n",
       "      <td>4</td>\n",
       "      <td>3</td>\n",
       "      <td>2</td>\n",
       "    </tr>\n",
       "    <tr>\n",
       "      <th>4</th>\n",
       "      <td>Arizona State</td>\n",
       "      <td>9</td>\n",
       "      <td>2000</td>\n",
       "      <td>Pac-10</td>\n",
       "      <td>12</td>\n",
       "      <td>0.0</td>\n",
       "      <td>6</td>\n",
       "      <td>6</td>\n",
       "      <td>3</td>\n",
       "      <td>3</td>\n",
       "      <td>3</td>\n",
       "      <td>2</td>\n",
       "    </tr>\n",
       "  </tbody>\n",
       "</table>\n",
       "</div>"
      ],
      "text/plain": [
       "            team  team_id  year     conference  games_played  expected_wins  \\\n",
       "0      Air Force     2005  2000  Mountain West            12            0.0   \n",
       "1          Akron     2006  2000   Mid-American            11            0.0   \n",
       "2        Alabama      333  2000            SEC            11            0.0   \n",
       "3        Arizona       12  2000         Pac-10            11            0.0   \n",
       "4  Arizona State        9  2000         Pac-10            12            0.0   \n",
       "\n",
       "   wins  losses  home_wins  home_losses  away_wins  away_losses  \n",
       "0     9       3          5            1          3            2  \n",
       "1     6       5          3            3          3            2  \n",
       "2     3       8          3            3          0            5  \n",
       "3     5       6          2            4          3            2  \n",
       "4     6       6          3            3          3            2  "
      ]
     },
     "execution_count": 39,
     "metadata": {},
     "output_type": "execute_result"
    }
   ],
   "source": [
    "#games_api.get_team_records(year=2023, team='South Carolina')\n",
    "years = range(2000,2023+1)\n",
    "teams = [team for team in team_info_df.team]\n",
    "\n",
    "records_df = records_to_df(\n",
    "    get_records(api=games_api, years=years, teams=teams)\n",
    ")\n",
    "records_df.head()"
   ]
  },
  {
   "cell_type": "code",
   "execution_count": 41,
   "metadata": {},
   "outputs": [],
   "source": [
    "records_df.to_csv('data/team_records_by_year.csv', index=False)"
   ]
  },
  {
   "cell_type": "code",
   "execution_count": 27,
   "metadata": {},
   "outputs": [
    {
     "data": {
      "text/plain": [
       "[{'away_games': {'games': 4, 'losses': 4, 'ties': 0, 'wins': 0},\n",
       "  'conference': 'SEC',\n",
       "  'conference_games': {'games': 8, 'losses': 5, 'ties': 0, 'wins': 3},\n",
       "  'division': 'East',\n",
       "  'expected_wins': 5.6,\n",
       "  'home_games': {'games': 7, 'losses': 2, 'ties': 0, 'wins': 5},\n",
       "  'team': 'South Carolina',\n",
       "  'team_id': 2579,\n",
       "  'total': {'games': 12, 'losses': 7, 'ties': 0, 'wins': 5},\n",
       "  'year': 2023}]"
      ]
     },
     "execution_count": 27,
     "metadata": {},
     "output_type": "execute_result"
    }
   ],
   "source": [
    "games_api.get_team_records(year=2023, team='South Carolina')"
   ]
  },
  {
   "cell_type": "markdown",
   "metadata": {},
   "source": [
    "## On3 NIL Valuations\n",
    "https://www.on3.com/nil/news/about-on3-nil-valuation-per-post-value/"
   ]
  },
  {
   "cell_type": "code",
   "execution_count": 95,
   "metadata": {},
   "outputs": [],
   "source": [
    "# Function to format followers into integers\n",
    "def values_to_int(string):\n",
    "    if string[0] == '$':\n",
    "        string = string[1::]\n",
    "    if 'K' in string:\n",
    "        number = float(string[:-1])  # Convert the string to float, excluding the 'K' suffix\n",
    "        return int(number * 1000)    # Multiply the number by 1000 and convert it to an integer\n",
    "    elif 'M' in string:\n",
    "        number = float(string[:-1])\n",
    "        return int(number * 1000000)\n",
    "    else:\n",
    "        return int(float(string))     # Convert the string to float and then to an integer"
   ]
  },
  {
   "cell_type": "code",
   "execution_count": 128,
   "metadata": {},
   "outputs": [],
   "source": [
    "#scrape_NIL_100('https://www.on3.com/nil/rankings/player/nil-100/')\n",
    "url = 'https://www.on3.com/nil/rankings/player/college/football/'\n",
    "response = requests.get(url)\n",
    "soup = BeautifulSoup(response.content, 'html.parser')\n",
    "table = soup.find_all('div', {'class': 'NilPlayerRankingItem_itemContainer___Uo0_'})"
   ]
  },
  {
   "cell_type": "code",
   "execution_count": 164,
   "metadata": {},
   "outputs": [
    {
     "data": {
      "text/html": [
       "<div>\n",
       "<style scoped>\n",
       "    .dataframe tbody tr th:only-of-type {\n",
       "        vertical-align: middle;\n",
       "    }\n",
       "\n",
       "    .dataframe tbody tr th {\n",
       "        vertical-align: top;\n",
       "    }\n",
       "\n",
       "    .dataframe thead th {\n",
       "        text-align: right;\n",
       "    }\n",
       "</style>\n",
       "<table border=\"1\" class=\"dataframe\">\n",
       "  <thead>\n",
       "    <tr style=\"text-align: right;\">\n",
       "      <th></th>\n",
       "      <th>name</th>\n",
       "      <th>rank</th>\n",
       "      <th>school</th>\n",
       "      <th>position</th>\n",
       "      <th>follwers</th>\n",
       "      <th>valuation</th>\n",
       "    </tr>\n",
       "  </thead>\n",
       "  <tbody>\n",
       "    <tr>\n",
       "      <th>0</th>\n",
       "      <td>Shedeur Sanders</td>\n",
       "      <td>1</td>\n",
       "      <td>colorado buffaloes</td>\n",
       "      <td>QB</td>\n",
       "      <td>2500000</td>\n",
       "      <td>4600000.0</td>\n",
       "    </tr>\n",
       "    <tr>\n",
       "      <th>1</th>\n",
       "      <td>Travis Hunter</td>\n",
       "      <td>2</td>\n",
       "      <td>colorado buffaloes</td>\n",
       "      <td>CB</td>\n",
       "      <td>2300000</td>\n",
       "      <td>2700000.0</td>\n",
       "    </tr>\n",
       "    <tr>\n",
       "      <th>2</th>\n",
       "      <td>Arch Manning</td>\n",
       "      <td>3</td>\n",
       "      <td>texas longhorns</td>\n",
       "      <td>QB</td>\n",
       "      <td>301000</td>\n",
       "      <td>2400000.0</td>\n",
       "    </tr>\n",
       "    <tr>\n",
       "      <th>3</th>\n",
       "      <td>Quinn Ewers</td>\n",
       "      <td>4</td>\n",
       "      <td>texas longhorns</td>\n",
       "      <td>QB</td>\n",
       "      <td>265000</td>\n",
       "      <td>1900000.0</td>\n",
       "    </tr>\n",
       "    <tr>\n",
       "      <th>4</th>\n",
       "      <td>Jalen Milroe</td>\n",
       "      <td>5</td>\n",
       "      <td>alabama crimson tide</td>\n",
       "      <td>QB</td>\n",
       "      <td>223000</td>\n",
       "      <td>1600000.0</td>\n",
       "    </tr>\n",
       "  </tbody>\n",
       "</table>\n",
       "</div>"
      ],
      "text/plain": [
       "              name rank                school position  follwers  valuation\n",
       "0  Shedeur Sanders    1    colorado buffaloes       QB   2500000  4600000.0\n",
       "1    Travis Hunter    2    colorado buffaloes       CB   2300000  2700000.0\n",
       "2     Arch Manning    3       texas longhorns       QB    301000  2400000.0\n",
       "3      Quinn Ewers    4       texas longhorns       QB    265000  1900000.0\n",
       "4     Jalen Milroe    5  alabama crimson tide       QB    223000  1600000.0"
      ]
     },
     "execution_count": 164,
     "metadata": {},
     "output_type": "execute_result"
    }
   ],
   "source": [
    "names, ranks, schools, positions, followers, valuations = [], [], [], [], [], []\n",
    "for row in table:\n",
    "    \n",
    "    names.append(row.find('div', {'class': 'NilPlayerRankingItem_nameYearContainer__kVMqH'}).text)\n",
    "    \n",
    "    ranks.append(row.find('span', {'class': \"MuiTypography-root MuiTypography-body1 NilPlayerRankingItem_playerRank__NQmBq css-z52hnt\"}).text)\n",
    "    \n",
    "    school = row.find('div', {'class': 'NilPlayerRankingItem_statusItem__gikz_'})\n",
    "    if school:\n",
    "        schools.append(row.find('div', {'class': 'NilPlayerRankingItem_statusItem__gikz_'}).find('img')['title'])\n",
    "    else:\n",
    "        schools.append(None)    \n",
    "    \n",
    "    positions.append(row.find('span', {'class': \"MuiTypography-root MuiTypography-body1 NilPlayerRankingItem_position__WIvtI css-z52hnt\"}).text)\n",
    "    \n",
    "    followers.append(values_to_int(row.find('p', {'class': \"MuiTypography-root MuiTypography-body1 NilPlayerRankingItem_followersNumber__xG05J css-z52hnt\"}).text))\n",
    "    \n",
    "    valuation_container = row.find('div', {'class': 'NilPlayerRankingItem_valuationContainer__nV9Sj'})\n",
    "    valuation = valuation_container.find('p',{'class': 'MuiTypography-root MuiTypography-body1 NilPlayerRankingItem_valuationCurrency___Pa_U css-z52hnt'})\n",
    "    if valuation:\n",
    "        valuations.append(values_to_int(valuation.text))\n",
    "    else:\n",
    "        valuations.append(None)    \n",
    "\n",
    "nil_df = pd.DataFrame({'name': names, 'rank': ranks, 'school': schools,\n",
    "                       'position': positions, 'follwers': followers, 'valuation': valuations})\n",
    "nil_df.head() \n"
   ]
  },
  {
   "cell_type": "code",
   "execution_count": 167,
   "metadata": {},
   "outputs": [],
   "source": [
    "nil_df.to_csv('data/nil_data.csv', index=False)"
   ]
  }
 ],
 "metadata": {
  "kernelspec": {
   "display_name": "erdos_may_2024",
   "language": "python",
   "name": "python3"
  },
  "language_info": {
   "codemirror_mode": {
    "name": "ipython",
    "version": 3
   },
   "file_extension": ".py",
   "mimetype": "text/x-python",
   "name": "python",
   "nbconvert_exporter": "python",
   "pygments_lexer": "ipython3",
   "version": "3.11.9"
  }
 },
 "nbformat": 4,
 "nbformat_minor": 2
}
