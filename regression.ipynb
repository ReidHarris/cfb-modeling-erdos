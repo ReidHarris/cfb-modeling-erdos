{
 "cells": [
  {
   "cell_type": "markdown",
   "metadata": {},
   "source": [
    "# Modeling: Regression\n",
    "- Use n-1 year on-field stats and n year for talent stats to predict year n results\n",
    "- Treat data as set of features at start of each year and try to regress on various outcomes"
   ]
  },
  {
   "cell_type": "code",
   "execution_count": 128,
   "metadata": {},
   "outputs": [],
   "source": [
    "#!pip install --q xgboost\n",
    "#!pip install --q tabulate"
   ]
  },
  {
   "cell_type": "code",
   "execution_count": 85,
   "metadata": {},
   "outputs": [],
   "source": [
    "import pandas as pd\n",
    "import seaborn as sns\n",
    "import matplotlib.pyplot as plt\n",
    "import numpy as np"
   ]
  },
  {
   "cell_type": "code",
   "execution_count": 86,
   "metadata": {},
   "outputs": [
    {
     "data": {
      "text/html": [
       "<div>\n",
       "<style scoped>\n",
       "    .dataframe tbody tr th:only-of-type {\n",
       "        vertical-align: middle;\n",
       "    }\n",
       "\n",
       "    .dataframe tbody tr th {\n",
       "        vertical-align: top;\n",
       "    }\n",
       "\n",
       "    .dataframe thead th {\n",
       "        text-align: right;\n",
       "    }\n",
       "</style>\n",
       "<table border=\"1\" class=\"dataframe\">\n",
       "  <thead>\n",
       "    <tr style=\"text-align: right;\">\n",
       "      <th></th>\n",
       "      <th>team</th>\n",
       "      <th>year</th>\n",
       "      <th>conference</th>\n",
       "      <th>expected_wins</th>\n",
       "      <th>win_pct</th>\n",
       "      <th>recent_win_pct</th>\n",
       "      <th>prev_win_pct</th>\n",
       "      <th>elo</th>\n",
       "      <th>fpi</th>\n",
       "      <th>conference_rating</th>\n",
       "      <th>...</th>\n",
       "      <th>off_explode</th>\n",
       "      <th>def_explode</th>\n",
       "      <th>off_ppa</th>\n",
       "      <th>def_ppa</th>\n",
       "      <th>off_success_rate</th>\n",
       "      <th>def_success_rate</th>\n",
       "      <th>coach</th>\n",
       "      <th>career_win_pct</th>\n",
       "      <th>sor</th>\n",
       "      <th>sos</th>\n",
       "    </tr>\n",
       "  </thead>\n",
       "  <tbody>\n",
       "    <tr>\n",
       "      <th>0</th>\n",
       "      <td>Air Force</td>\n",
       "      <td>2014</td>\n",
       "      <td>Mountain West</td>\n",
       "      <td>9.7</td>\n",
       "      <td>0.769231</td>\n",
       "      <td>0.531792</td>\n",
       "      <td>0.166667</td>\n",
       "      <td>1071.0</td>\n",
       "      <td>-16.682</td>\n",
       "      <td>-5.908333</td>\n",
       "      <td>...</td>\n",
       "      <td>0.860561</td>\n",
       "      <td>0.902638</td>\n",
       "      <td>0.096601</td>\n",
       "      <td>0.214295</td>\n",
       "      <td>0.439644</td>\n",
       "      <td>0.518913</td>\n",
       "      <td>Troy Calhoun</td>\n",
       "      <td>0.544444</td>\n",
       "      <td>115.0</td>\n",
       "      <td>113</td>\n",
       "    </tr>\n",
       "    <tr>\n",
       "      <th>1</th>\n",
       "      <td>Air Force</td>\n",
       "      <td>2015</td>\n",
       "      <td>Mountain West</td>\n",
       "      <td>8.2</td>\n",
       "      <td>0.571429</td>\n",
       "      <td>0.548387</td>\n",
       "      <td>0.769231</td>\n",
       "      <td>1432.0</td>\n",
       "      <td>-2.584</td>\n",
       "      <td>-5.466667</td>\n",
       "      <td>...</td>\n",
       "      <td>1.089935</td>\n",
       "      <td>1.425767</td>\n",
       "      <td>0.207059</td>\n",
       "      <td>0.138795</td>\n",
       "      <td>0.451837</td>\n",
       "      <td>0.375831</td>\n",
       "      <td>Troy Calhoun</td>\n",
       "      <td>0.572816</td>\n",
       "      <td>48.0</td>\n",
       "      <td>86</td>\n",
       "    </tr>\n",
       "    <tr>\n",
       "      <th>2</th>\n",
       "      <td>Air Force</td>\n",
       "      <td>2016</td>\n",
       "      <td>Mountain West</td>\n",
       "      <td>9.4</td>\n",
       "      <td>0.769231</td>\n",
       "      <td>0.550000</td>\n",
       "      <td>0.571429</td>\n",
       "      <td>1533.0</td>\n",
       "      <td>1.846</td>\n",
       "      <td>-4.766667</td>\n",
       "      <td>...</td>\n",
       "      <td>1.154045</td>\n",
       "      <td>1.549206</td>\n",
       "      <td>0.272449</td>\n",
       "      <td>0.172654</td>\n",
       "      <td>0.474216</td>\n",
       "      <td>0.357631</td>\n",
       "      <td>Troy Calhoun</td>\n",
       "      <td>0.572650</td>\n",
       "      <td>71.0</td>\n",
       "      <td>113</td>\n",
       "    </tr>\n",
       "    <tr>\n",
       "      <th>3</th>\n",
       "      <td>Air Force</td>\n",
       "      <td>2017</td>\n",
       "      <td>Mountain West</td>\n",
       "      <td>4.4</td>\n",
       "      <td>0.416667</td>\n",
       "      <td>0.563380</td>\n",
       "      <td>0.769231</td>\n",
       "      <td>1593.0</td>\n",
       "      <td>0.881</td>\n",
       "      <td>-4.683333</td>\n",
       "      <td>...</td>\n",
       "      <td>1.027586</td>\n",
       "      <td>1.534094</td>\n",
       "      <td>0.227697</td>\n",
       "      <td>0.158770</td>\n",
       "      <td>0.483333</td>\n",
       "      <td>0.366048</td>\n",
       "      <td>Troy Calhoun</td>\n",
       "      <td>0.592308</td>\n",
       "      <td>49.0</td>\n",
       "      <td>82</td>\n",
       "    </tr>\n",
       "    <tr>\n",
       "      <th>4</th>\n",
       "      <td>Air Force</td>\n",
       "      <td>2018</td>\n",
       "      <td>Mountain West</td>\n",
       "      <td>6.4</td>\n",
       "      <td>0.416667</td>\n",
       "      <td>0.555556</td>\n",
       "      <td>0.416667</td>\n",
       "      <td>1422.0</td>\n",
       "      <td>-6.875</td>\n",
       "      <td>-7.083333</td>\n",
       "      <td>...</td>\n",
       "      <td>1.095699</td>\n",
       "      <td>1.374592</td>\n",
       "      <td>0.235542</td>\n",
       "      <td>0.247661</td>\n",
       "      <td>0.488398</td>\n",
       "      <td>0.422096</td>\n",
       "      <td>Troy Calhoun</td>\n",
       "      <td>0.577465</td>\n",
       "      <td>94.0</td>\n",
       "      <td>86</td>\n",
       "    </tr>\n",
       "  </tbody>\n",
       "</table>\n",
       "<p>5 rows × 34 columns</p>\n",
       "</div>"
      ],
      "text/plain": [
       "        team  year     conference  expected_wins   win_pct  recent_win_pct  \\\n",
       "0  Air Force  2014  Mountain West            9.7  0.769231        0.531792   \n",
       "1  Air Force  2015  Mountain West            8.2  0.571429        0.548387   \n",
       "2  Air Force  2016  Mountain West            9.4  0.769231        0.550000   \n",
       "3  Air Force  2017  Mountain West            4.4  0.416667        0.563380   \n",
       "4  Air Force  2018  Mountain West            6.4  0.416667        0.555556   \n",
       "\n",
       "   prev_win_pct     elo     fpi  conference_rating  ...  off_explode  \\\n",
       "0      0.166667  1071.0 -16.682          -5.908333  ...     0.860561   \n",
       "1      0.769231  1432.0  -2.584          -5.466667  ...     1.089935   \n",
       "2      0.571429  1533.0   1.846          -4.766667  ...     1.154045   \n",
       "3      0.769231  1593.0   0.881          -4.683333  ...     1.027586   \n",
       "4      0.416667  1422.0  -6.875          -7.083333  ...     1.095699   \n",
       "\n",
       "   def_explode   off_ppa   def_ppa  off_success_rate  def_success_rate  \\\n",
       "0     0.902638  0.096601  0.214295          0.439644          0.518913   \n",
       "1     1.425767  0.207059  0.138795          0.451837          0.375831   \n",
       "2     1.549206  0.272449  0.172654          0.474216          0.357631   \n",
       "3     1.534094  0.227697  0.158770          0.483333          0.366048   \n",
       "4     1.374592  0.235542  0.247661          0.488398          0.422096   \n",
       "\n",
       "          coach  career_win_pct    sor  sos  \n",
       "0  Troy Calhoun        0.544444  115.0  113  \n",
       "1  Troy Calhoun        0.572816   48.0   86  \n",
       "2  Troy Calhoun        0.572650   71.0  113  \n",
       "3  Troy Calhoun        0.592308   49.0   82  \n",
       "4  Troy Calhoun        0.577465   94.0   86  \n",
       "\n",
       "[5 rows x 34 columns]"
      ]
     },
     "execution_count": 86,
     "metadata": {},
     "output_type": "execute_result"
    }
   ],
   "source": [
    "df = pd.read_csv('data/working_df.csv')\n",
    "df.head()"
   ]
  },
  {
   "cell_type": "code",
   "execution_count": 87,
   "metadata": {},
   "outputs": [
    {
     "data": {
      "text/plain": [
       "Index(['team', 'year', 'conference', 'expected_wins', 'win_pct',\n",
       "       'recent_win_pct', 'prev_win_pct', 'elo', 'fpi', 'conference_rating',\n",
       "       'recruiting_rank', 'recruiting_rating', 'talent_level', 'blue_chip',\n",
       "       'blue_chip_ratio', 'passing_usage', 'rushing_usage', 'usages',\n",
       "       'totalYards', 'turnover_margin', 'total_tds', 'games', 'off_drives',\n",
       "       'def_drives', 'off_explode', 'def_explode', 'off_ppa', 'def_ppa',\n",
       "       'off_success_rate', 'def_success_rate', 'coach', 'career_win_pct',\n",
       "       'sor', 'sos'],\n",
       "      dtype='object')"
      ]
     },
     "execution_count": 87,
     "metadata": {},
     "output_type": "execute_result"
    }
   ],
   "source": [
    "df.columns"
   ]
  },
  {
   "cell_type": "code",
   "execution_count": 88,
   "metadata": {},
   "outputs": [],
   "source": [
    "# Sort the data in time order\n",
    "df = df.sort_values(by='year').reset_index(drop=True)"
   ]
  },
  {
   "cell_type": "code",
   "execution_count": 89,
   "metadata": {},
   "outputs": [
    {
     "data": {
      "text/plain": [
       "2023"
      ]
     },
     "execution_count": 89,
     "metadata": {},
     "output_type": "execute_result"
    }
   ],
   "source": [
    "df.year.max()"
   ]
  },
  {
   "cell_type": "markdown",
   "metadata": {},
   "source": [
    "#### Split Training/Testing Sets\n",
    "- We'll split by hand so we can do things in temporal order just to be safe\n",
    "- 2014 - 2023 is 10 years of data so we'll take 2014 to 2021 for trainig"
   ]
  },
  {
   "cell_type": "code",
   "execution_count": 90,
   "metadata": {},
   "outputs": [],
   "source": [
    "split_year = 2022\n",
    "df_train = df[df.year <= split_year]\n",
    "df_test = df[df.year > split_year]"
   ]
  },
  {
   "cell_type": "markdown",
   "metadata": {},
   "source": [
    "- Can't include coach_win_pct when doing regression"
   ]
  },
  {
   "cell_type": "code",
   "execution_count": 91,
   "metadata": {},
   "outputs": [],
   "source": [
    "# Grab features you want\n",
    "X_cols = ['elo', 'recent_win_pct','talent_level', 'turnover_margin', 'prev_win_pct',\n",
    "          'usages', 'off_success_rate', 'sos', 'career_win_pct']\n",
    "# Grab the target. Be careful as y_train needs to be a Pandas series or 1D numpy array\n",
    "y_cols = 'win_pct'\n",
    "\n",
    "X_train, X_test = df_train[X_cols], df_test[X_cols]\n",
    "y_train, y_test = df_train[y_cols], df_test[y_cols]"
   ]
  },
  {
   "cell_type": "code",
   "execution_count": 92,
   "metadata": {},
   "outputs": [
    {
     "data": {
      "text/plain": [
       "elo                 0\n",
       "recent_win_pct      0\n",
       "talent_level        0\n",
       "turnover_margin     0\n",
       "prev_win_pct        0\n",
       "usages              0\n",
       "off_success_rate    0\n",
       "sos                 0\n",
       "career_win_pct      0\n",
       "dtype: int64"
      ]
     },
     "execution_count": 92,
     "metadata": {},
     "output_type": "execute_result"
    }
   ],
   "source": [
    "X_train.isna().sum()"
   ]
  },
  {
   "cell_type": "markdown",
   "metadata": {},
   "source": [
    "#### Feature Selection"
   ]
  },
  {
   "cell_type": "code",
   "execution_count": 93,
   "metadata": {},
   "outputs": [
    {
     "data": {
      "text/html": [
       "<style>#sk-container-id-2 {\n",
       "  /* Definition of color scheme common for light and dark mode */\n",
       "  --sklearn-color-text: black;\n",
       "  --sklearn-color-line: gray;\n",
       "  /* Definition of color scheme for unfitted estimators */\n",
       "  --sklearn-color-unfitted-level-0: #fff5e6;\n",
       "  --sklearn-color-unfitted-level-1: #f6e4d2;\n",
       "  --sklearn-color-unfitted-level-2: #ffe0b3;\n",
       "  --sklearn-color-unfitted-level-3: chocolate;\n",
       "  /* Definition of color scheme for fitted estimators */\n",
       "  --sklearn-color-fitted-level-0: #f0f8ff;\n",
       "  --sklearn-color-fitted-level-1: #d4ebff;\n",
       "  --sklearn-color-fitted-level-2: #b3dbfd;\n",
       "  --sklearn-color-fitted-level-3: cornflowerblue;\n",
       "\n",
       "  /* Specific color for light theme */\n",
       "  --sklearn-color-text-on-default-background: var(--sg-text-color, var(--theme-code-foreground, var(--jp-content-font-color1, black)));\n",
       "  --sklearn-color-background: var(--sg-background-color, var(--theme-background, var(--jp-layout-color0, white)));\n",
       "  --sklearn-color-border-box: var(--sg-text-color, var(--theme-code-foreground, var(--jp-content-font-color1, black)));\n",
       "  --sklearn-color-icon: #696969;\n",
       "\n",
       "  @media (prefers-color-scheme: dark) {\n",
       "    /* Redefinition of color scheme for dark theme */\n",
       "    --sklearn-color-text-on-default-background: var(--sg-text-color, var(--theme-code-foreground, var(--jp-content-font-color1, white)));\n",
       "    --sklearn-color-background: var(--sg-background-color, var(--theme-background, var(--jp-layout-color0, #111)));\n",
       "    --sklearn-color-border-box: var(--sg-text-color, var(--theme-code-foreground, var(--jp-content-font-color1, white)));\n",
       "    --sklearn-color-icon: #878787;\n",
       "  }\n",
       "}\n",
       "\n",
       "#sk-container-id-2 {\n",
       "  color: var(--sklearn-color-text);\n",
       "}\n",
       "\n",
       "#sk-container-id-2 pre {\n",
       "  padding: 0;\n",
       "}\n",
       "\n",
       "#sk-container-id-2 input.sk-hidden--visually {\n",
       "  border: 0;\n",
       "  clip: rect(1px 1px 1px 1px);\n",
       "  clip: rect(1px, 1px, 1px, 1px);\n",
       "  height: 1px;\n",
       "  margin: -1px;\n",
       "  overflow: hidden;\n",
       "  padding: 0;\n",
       "  position: absolute;\n",
       "  width: 1px;\n",
       "}\n",
       "\n",
       "#sk-container-id-2 div.sk-dashed-wrapped {\n",
       "  border: 1px dashed var(--sklearn-color-line);\n",
       "  margin: 0 0.4em 0.5em 0.4em;\n",
       "  box-sizing: border-box;\n",
       "  padding-bottom: 0.4em;\n",
       "  background-color: var(--sklearn-color-background);\n",
       "}\n",
       "\n",
       "#sk-container-id-2 div.sk-container {\n",
       "  /* jupyter's `normalize.less` sets `[hidden] { display: none; }`\n",
       "     but bootstrap.min.css set `[hidden] { display: none !important; }`\n",
       "     so we also need the `!important` here to be able to override the\n",
       "     default hidden behavior on the sphinx rendered scikit-learn.org.\n",
       "     See: https://github.com/scikit-learn/scikit-learn/issues/21755 */\n",
       "  display: inline-block !important;\n",
       "  position: relative;\n",
       "}\n",
       "\n",
       "#sk-container-id-2 div.sk-text-repr-fallback {\n",
       "  display: none;\n",
       "}\n",
       "\n",
       "div.sk-parallel-item,\n",
       "div.sk-serial,\n",
       "div.sk-item {\n",
       "  /* draw centered vertical line to link estimators */\n",
       "  background-image: linear-gradient(var(--sklearn-color-text-on-default-background), var(--sklearn-color-text-on-default-background));\n",
       "  background-size: 2px 100%;\n",
       "  background-repeat: no-repeat;\n",
       "  background-position: center center;\n",
       "}\n",
       "\n",
       "/* Parallel-specific style estimator block */\n",
       "\n",
       "#sk-container-id-2 div.sk-parallel-item::after {\n",
       "  content: \"\";\n",
       "  width: 100%;\n",
       "  border-bottom: 2px solid var(--sklearn-color-text-on-default-background);\n",
       "  flex-grow: 1;\n",
       "}\n",
       "\n",
       "#sk-container-id-2 div.sk-parallel {\n",
       "  display: flex;\n",
       "  align-items: stretch;\n",
       "  justify-content: center;\n",
       "  background-color: var(--sklearn-color-background);\n",
       "  position: relative;\n",
       "}\n",
       "\n",
       "#sk-container-id-2 div.sk-parallel-item {\n",
       "  display: flex;\n",
       "  flex-direction: column;\n",
       "}\n",
       "\n",
       "#sk-container-id-2 div.sk-parallel-item:first-child::after {\n",
       "  align-self: flex-end;\n",
       "  width: 50%;\n",
       "}\n",
       "\n",
       "#sk-container-id-2 div.sk-parallel-item:last-child::after {\n",
       "  align-self: flex-start;\n",
       "  width: 50%;\n",
       "}\n",
       "\n",
       "#sk-container-id-2 div.sk-parallel-item:only-child::after {\n",
       "  width: 0;\n",
       "}\n",
       "\n",
       "/* Serial-specific style estimator block */\n",
       "\n",
       "#sk-container-id-2 div.sk-serial {\n",
       "  display: flex;\n",
       "  flex-direction: column;\n",
       "  align-items: center;\n",
       "  background-color: var(--sklearn-color-background);\n",
       "  padding-right: 1em;\n",
       "  padding-left: 1em;\n",
       "}\n",
       "\n",
       "\n",
       "/* Toggleable style: style used for estimator/Pipeline/ColumnTransformer box that is\n",
       "clickable and can be expanded/collapsed.\n",
       "- Pipeline and ColumnTransformer use this feature and define the default style\n",
       "- Estimators will overwrite some part of the style using the `sk-estimator` class\n",
       "*/\n",
       "\n",
       "/* Pipeline and ColumnTransformer style (default) */\n",
       "\n",
       "#sk-container-id-2 div.sk-toggleable {\n",
       "  /* Default theme specific background. It is overwritten whether we have a\n",
       "  specific estimator or a Pipeline/ColumnTransformer */\n",
       "  background-color: var(--sklearn-color-background);\n",
       "}\n",
       "\n",
       "/* Toggleable label */\n",
       "#sk-container-id-2 label.sk-toggleable__label {\n",
       "  cursor: pointer;\n",
       "  display: block;\n",
       "  width: 100%;\n",
       "  margin-bottom: 0;\n",
       "  padding: 0.5em;\n",
       "  box-sizing: border-box;\n",
       "  text-align: center;\n",
       "}\n",
       "\n",
       "#sk-container-id-2 label.sk-toggleable__label-arrow:before {\n",
       "  /* Arrow on the left of the label */\n",
       "  content: \"▸\";\n",
       "  float: left;\n",
       "  margin-right: 0.25em;\n",
       "  color: var(--sklearn-color-icon);\n",
       "}\n",
       "\n",
       "#sk-container-id-2 label.sk-toggleable__label-arrow:hover:before {\n",
       "  color: var(--sklearn-color-text);\n",
       "}\n",
       "\n",
       "/* Toggleable content - dropdown */\n",
       "\n",
       "#sk-container-id-2 div.sk-toggleable__content {\n",
       "  max-height: 0;\n",
       "  max-width: 0;\n",
       "  overflow: hidden;\n",
       "  text-align: left;\n",
       "  /* unfitted */\n",
       "  background-color: var(--sklearn-color-unfitted-level-0);\n",
       "}\n",
       "\n",
       "#sk-container-id-2 div.sk-toggleable__content.fitted {\n",
       "  /* fitted */\n",
       "  background-color: var(--sklearn-color-fitted-level-0);\n",
       "}\n",
       "\n",
       "#sk-container-id-2 div.sk-toggleable__content pre {\n",
       "  margin: 0.2em;\n",
       "  border-radius: 0.25em;\n",
       "  color: var(--sklearn-color-text);\n",
       "  /* unfitted */\n",
       "  background-color: var(--sklearn-color-unfitted-level-0);\n",
       "}\n",
       "\n",
       "#sk-container-id-2 div.sk-toggleable__content.fitted pre {\n",
       "  /* unfitted */\n",
       "  background-color: var(--sklearn-color-fitted-level-0);\n",
       "}\n",
       "\n",
       "#sk-container-id-2 input.sk-toggleable__control:checked~div.sk-toggleable__content {\n",
       "  /* Expand drop-down */\n",
       "  max-height: 200px;\n",
       "  max-width: 100%;\n",
       "  overflow: auto;\n",
       "}\n",
       "\n",
       "#sk-container-id-2 input.sk-toggleable__control:checked~label.sk-toggleable__label-arrow:before {\n",
       "  content: \"▾\";\n",
       "}\n",
       "\n",
       "/* Pipeline/ColumnTransformer-specific style */\n",
       "\n",
       "#sk-container-id-2 div.sk-label input.sk-toggleable__control:checked~label.sk-toggleable__label {\n",
       "  color: var(--sklearn-color-text);\n",
       "  background-color: var(--sklearn-color-unfitted-level-2);\n",
       "}\n",
       "\n",
       "#sk-container-id-2 div.sk-label.fitted input.sk-toggleable__control:checked~label.sk-toggleable__label {\n",
       "  background-color: var(--sklearn-color-fitted-level-2);\n",
       "}\n",
       "\n",
       "/* Estimator-specific style */\n",
       "\n",
       "/* Colorize estimator box */\n",
       "#sk-container-id-2 div.sk-estimator input.sk-toggleable__control:checked~label.sk-toggleable__label {\n",
       "  /* unfitted */\n",
       "  background-color: var(--sklearn-color-unfitted-level-2);\n",
       "}\n",
       "\n",
       "#sk-container-id-2 div.sk-estimator.fitted input.sk-toggleable__control:checked~label.sk-toggleable__label {\n",
       "  /* fitted */\n",
       "  background-color: var(--sklearn-color-fitted-level-2);\n",
       "}\n",
       "\n",
       "#sk-container-id-2 div.sk-label label.sk-toggleable__label,\n",
       "#sk-container-id-2 div.sk-label label {\n",
       "  /* The background is the default theme color */\n",
       "  color: var(--sklearn-color-text-on-default-background);\n",
       "}\n",
       "\n",
       "/* On hover, darken the color of the background */\n",
       "#sk-container-id-2 div.sk-label:hover label.sk-toggleable__label {\n",
       "  color: var(--sklearn-color-text);\n",
       "  background-color: var(--sklearn-color-unfitted-level-2);\n",
       "}\n",
       "\n",
       "/* Label box, darken color on hover, fitted */\n",
       "#sk-container-id-2 div.sk-label.fitted:hover label.sk-toggleable__label.fitted {\n",
       "  color: var(--sklearn-color-text);\n",
       "  background-color: var(--sklearn-color-fitted-level-2);\n",
       "}\n",
       "\n",
       "/* Estimator label */\n",
       "\n",
       "#sk-container-id-2 div.sk-label label {\n",
       "  font-family: monospace;\n",
       "  font-weight: bold;\n",
       "  display: inline-block;\n",
       "  line-height: 1.2em;\n",
       "}\n",
       "\n",
       "#sk-container-id-2 div.sk-label-container {\n",
       "  text-align: center;\n",
       "}\n",
       "\n",
       "/* Estimator-specific */\n",
       "#sk-container-id-2 div.sk-estimator {\n",
       "  font-family: monospace;\n",
       "  border: 1px dotted var(--sklearn-color-border-box);\n",
       "  border-radius: 0.25em;\n",
       "  box-sizing: border-box;\n",
       "  margin-bottom: 0.5em;\n",
       "  /* unfitted */\n",
       "  background-color: var(--sklearn-color-unfitted-level-0);\n",
       "}\n",
       "\n",
       "#sk-container-id-2 div.sk-estimator.fitted {\n",
       "  /* fitted */\n",
       "  background-color: var(--sklearn-color-fitted-level-0);\n",
       "}\n",
       "\n",
       "/* on hover */\n",
       "#sk-container-id-2 div.sk-estimator:hover {\n",
       "  /* unfitted */\n",
       "  background-color: var(--sklearn-color-unfitted-level-2);\n",
       "}\n",
       "\n",
       "#sk-container-id-2 div.sk-estimator.fitted:hover {\n",
       "  /* fitted */\n",
       "  background-color: var(--sklearn-color-fitted-level-2);\n",
       "}\n",
       "\n",
       "/* Specification for estimator info (e.g. \"i\" and \"?\") */\n",
       "\n",
       "/* Common style for \"i\" and \"?\" */\n",
       "\n",
       ".sk-estimator-doc-link,\n",
       "a:link.sk-estimator-doc-link,\n",
       "a:visited.sk-estimator-doc-link {\n",
       "  float: right;\n",
       "  font-size: smaller;\n",
       "  line-height: 1em;\n",
       "  font-family: monospace;\n",
       "  background-color: var(--sklearn-color-background);\n",
       "  border-radius: 1em;\n",
       "  height: 1em;\n",
       "  width: 1em;\n",
       "  text-decoration: none !important;\n",
       "  margin-left: 1ex;\n",
       "  /* unfitted */\n",
       "  border: var(--sklearn-color-unfitted-level-1) 1pt solid;\n",
       "  color: var(--sklearn-color-unfitted-level-1);\n",
       "}\n",
       "\n",
       ".sk-estimator-doc-link.fitted,\n",
       "a:link.sk-estimator-doc-link.fitted,\n",
       "a:visited.sk-estimator-doc-link.fitted {\n",
       "  /* fitted */\n",
       "  border: var(--sklearn-color-fitted-level-1) 1pt solid;\n",
       "  color: var(--sklearn-color-fitted-level-1);\n",
       "}\n",
       "\n",
       "/* On hover */\n",
       "div.sk-estimator:hover .sk-estimator-doc-link:hover,\n",
       ".sk-estimator-doc-link:hover,\n",
       "div.sk-label-container:hover .sk-estimator-doc-link:hover,\n",
       ".sk-estimator-doc-link:hover {\n",
       "  /* unfitted */\n",
       "  background-color: var(--sklearn-color-unfitted-level-3);\n",
       "  color: var(--sklearn-color-background);\n",
       "  text-decoration: none;\n",
       "}\n",
       "\n",
       "div.sk-estimator.fitted:hover .sk-estimator-doc-link.fitted:hover,\n",
       ".sk-estimator-doc-link.fitted:hover,\n",
       "div.sk-label-container:hover .sk-estimator-doc-link.fitted:hover,\n",
       ".sk-estimator-doc-link.fitted:hover {\n",
       "  /* fitted */\n",
       "  background-color: var(--sklearn-color-fitted-level-3);\n",
       "  color: var(--sklearn-color-background);\n",
       "  text-decoration: none;\n",
       "}\n",
       "\n",
       "/* Span, style for the box shown on hovering the info icon */\n",
       ".sk-estimator-doc-link span {\n",
       "  display: none;\n",
       "  z-index: 9999;\n",
       "  position: relative;\n",
       "  font-weight: normal;\n",
       "  right: .2ex;\n",
       "  padding: .5ex;\n",
       "  margin: .5ex;\n",
       "  width: min-content;\n",
       "  min-width: 20ex;\n",
       "  max-width: 50ex;\n",
       "  color: var(--sklearn-color-text);\n",
       "  box-shadow: 2pt 2pt 4pt #999;\n",
       "  /* unfitted */\n",
       "  background: var(--sklearn-color-unfitted-level-0);\n",
       "  border: .5pt solid var(--sklearn-color-unfitted-level-3);\n",
       "}\n",
       "\n",
       ".sk-estimator-doc-link.fitted span {\n",
       "  /* fitted */\n",
       "  background: var(--sklearn-color-fitted-level-0);\n",
       "  border: var(--sklearn-color-fitted-level-3);\n",
       "}\n",
       "\n",
       ".sk-estimator-doc-link:hover span {\n",
       "  display: block;\n",
       "}\n",
       "\n",
       "/* \"?\"-specific style due to the `<a>` HTML tag */\n",
       "\n",
       "#sk-container-id-2 a.estimator_doc_link {\n",
       "  float: right;\n",
       "  font-size: 1rem;\n",
       "  line-height: 1em;\n",
       "  font-family: monospace;\n",
       "  background-color: var(--sklearn-color-background);\n",
       "  border-radius: 1rem;\n",
       "  height: 1rem;\n",
       "  width: 1rem;\n",
       "  text-decoration: none;\n",
       "  /* unfitted */\n",
       "  color: var(--sklearn-color-unfitted-level-1);\n",
       "  border: var(--sklearn-color-unfitted-level-1) 1pt solid;\n",
       "}\n",
       "\n",
       "#sk-container-id-2 a.estimator_doc_link.fitted {\n",
       "  /* fitted */\n",
       "  border: var(--sklearn-color-fitted-level-1) 1pt solid;\n",
       "  color: var(--sklearn-color-fitted-level-1);\n",
       "}\n",
       "\n",
       "/* On hover */\n",
       "#sk-container-id-2 a.estimator_doc_link:hover {\n",
       "  /* unfitted */\n",
       "  background-color: var(--sklearn-color-unfitted-level-3);\n",
       "  color: var(--sklearn-color-background);\n",
       "  text-decoration: none;\n",
       "}\n",
       "\n",
       "#sk-container-id-2 a.estimator_doc_link.fitted:hover {\n",
       "  /* fitted */\n",
       "  background-color: var(--sklearn-color-fitted-level-3);\n",
       "}\n",
       "</style><div id=\"sk-container-id-2\" class=\"sk-top-container\"><div class=\"sk-text-repr-fallback\"><pre>RandomForestRegressor(max_depth=4, n_estimators=500)</pre><b>In a Jupyter environment, please rerun this cell to show the HTML representation or trust the notebook. <br />On GitHub, the HTML representation is unable to render, please try loading this page with nbviewer.org.</b></div><div class=\"sk-container\" hidden><div class=\"sk-item\"><div class=\"sk-estimator fitted sk-toggleable\"><input class=\"sk-toggleable__control sk-hidden--visually\" id=\"sk-estimator-id-2\" type=\"checkbox\" checked><label for=\"sk-estimator-id-2\" class=\"sk-toggleable__label fitted sk-toggleable__label-arrow fitted\">&nbsp;&nbsp;RandomForestRegressor<a class=\"sk-estimator-doc-link fitted\" rel=\"noreferrer\" target=\"_blank\" href=\"https://scikit-learn.org/1.4/modules/generated/sklearn.ensemble.RandomForestRegressor.html\">?<span>Documentation for RandomForestRegressor</span></a><span class=\"sk-estimator-doc-link fitted\">i<span>Fitted</span></span></label><div class=\"sk-toggleable__content fitted\"><pre>RandomForestRegressor(max_depth=4, n_estimators=500)</pre></div> </div></div></div></div>"
      ],
      "text/plain": [
       "RandomForestRegressor(max_depth=4, n_estimators=500)"
      ]
     },
     "execution_count": 93,
     "metadata": {},
     "output_type": "execute_result"
    }
   ],
   "source": [
    "from sklearn.ensemble import RandomForestClassifier, RandomForestRegressor\n",
    "\n",
    "rf = RandomForestRegressor(n_estimators=500, max_depth=4)\n",
    "X_feature_importance = X_train.drop(columns=['prev_win_pct'])\n",
    "rf.fit(X_feature_importance, y_train)"
   ]
  },
  {
   "cell_type": "code",
   "execution_count": 24,
   "metadata": {},
   "outputs": [
    {
     "data": {
      "image/png": "[encoded data removed]",
      "text/plain": [
       "<Figure size 800x400 with 1 Axes>"
      ]
     },
     "metadata": {},
     "output_type": "display_data"
    }
   ],
   "source": [
    "# Use my premade method for graphing feature importance\n",
    "def graph_feature_importance(model, data):\n",
    "    \"\"\"\n",
    "    model = trained model object from sklearn\n",
    "    data = Usually X_train\n",
    "    \"\"\"\n",
    "    importances = model.feature_importances_\n",
    "    indices = np.argsort(importances)[-10:] # Get top 10 most important features\n",
    "    features = data.columns\n",
    "    f, ax = plt.subplots(figsize=(8, 4))\n",
    "    plt.title('Feature Importances', fontweight='bold', fontsize=14)\n",
    "    plt.barh(range(len(indices)), importances[indices])#, color = colormap.colors)\n",
    "    plt.yticks(range(len(indices)), [features[i] for i in indices])\n",
    "    plt.xlabel('Relative Importance')\n",
    "    plt.tight_layout()\n",
    "    plt.savefig('images/feature_imporances.png')\n",
    "    plt.show()\n",
    "\n",
    "graph_feature_importance(rf, X_feature_importance)"
   ]
  },
  {
   "cell_type": "markdown",
   "metadata": {},
   "source": [
    "Let's setup a pipeline to scale our features"
   ]
  },
  {
   "cell_type": "code",
   "execution_count": 94,
   "metadata": {},
   "outputs": [
    {
     "data": {
      "text/html": [
       "<div>\n",
       "<style scoped>\n",
       "    .dataframe tbody tr th:only-of-type {\n",
       "        vertical-align: middle;\n",
       "    }\n",
       "\n",
       "    .dataframe tbody tr th {\n",
       "        vertical-align: top;\n",
       "    }\n",
       "\n",
       "    .dataframe thead th {\n",
       "        text-align: right;\n",
       "    }\n",
       "</style>\n",
       "<table border=\"1\" class=\"dataframe\">\n",
       "  <thead>\n",
       "    <tr style=\"text-align: right;\">\n",
       "      <th></th>\n",
       "      <th>elo</th>\n",
       "      <th>recent_win_pct</th>\n",
       "      <th>talent_level</th>\n",
       "      <th>turnover_margin</th>\n",
       "      <th>prev_win_pct</th>\n",
       "      <th>usages</th>\n",
       "      <th>off_success_rate</th>\n",
       "      <th>sos</th>\n",
       "      <th>career_win_pct</th>\n",
       "    </tr>\n",
       "  </thead>\n",
       "  <tbody>\n",
       "    <tr>\n",
       "      <th>0</th>\n",
       "      <td>-1.510068</td>\n",
       "      <td>0.085843</td>\n",
       "      <td>-1.335420</td>\n",
       "      <td>-0.649366</td>\n",
       "      <td>-1.589183</td>\n",
       "      <td>0.364177</td>\n",
       "      <td>0.213572</td>\n",
       "      <td>1.316892</td>\n",
       "      <td>0.289885</td>\n",
       "    </tr>\n",
       "    <tr>\n",
       "      <th>1</th>\n",
       "      <td>-0.123588</td>\n",
       "      <td>-0.695501</td>\n",
       "      <td>-0.640320</td>\n",
       "      <td>-1.553399</td>\n",
       "      <td>0.437170</td>\n",
       "      <td>-0.171471</td>\n",
       "      <td>-1.030597</td>\n",
       "      <td>1.077786</td>\n",
       "      <td>0.190762</td>\n",
       "    </tr>\n",
       "    <tr>\n",
       "      <th>2</th>\n",
       "      <td>1.423792</td>\n",
       "      <td>0.965173</td>\n",
       "      <td>1.379251</td>\n",
       "      <td>0.642109</td>\n",
       "      <td>1.479295</td>\n",
       "      <td>-1.581846</td>\n",
       "      <td>0.902212</td>\n",
       "      <td>-0.356852</td>\n",
       "      <td>0.882436</td>\n",
       "    </tr>\n",
       "    <tr>\n",
       "      <th>3</th>\n",
       "      <td>-0.315299</td>\n",
       "      <td>-1.162491</td>\n",
       "      <td>-0.576135</td>\n",
       "      <td>-1.036809</td>\n",
       "      <td>-0.460215</td>\n",
       "      <td>-1.178882</td>\n",
       "      <td>0.115205</td>\n",
       "      <td>-0.091178</td>\n",
       "      <td>0.424468</td>\n",
       "    </tr>\n",
       "    <tr>\n",
       "      <th>4</th>\n",
       "      <td>-1.379979</td>\n",
       "      <td>-0.807246</td>\n",
       "      <td>-0.214990</td>\n",
       "      <td>-0.520219</td>\n",
       "      <td>-0.836538</td>\n",
       "      <td>0.531260</td>\n",
       "      <td>-0.716986</td>\n",
       "      <td>-1.313277</td>\n",
       "      <td>-0.268018</td>\n",
       "    </tr>\n",
       "  </tbody>\n",
       "</table>\n",
       "</div>"
      ],
      "text/plain": [
       "        elo  recent_win_pct  talent_level  turnover_margin  prev_win_pct  \\\n",
       "0 -1.510068        0.085843     -1.335420        -0.649366     -1.589183   \n",
       "1 -0.123588       -0.695501     -0.640320        -1.553399      0.437170   \n",
       "2  1.423792        0.965173      1.379251         0.642109      1.479295   \n",
       "3 -0.315299       -1.162491     -0.576135        -1.036809     -0.460215   \n",
       "4 -1.379979       -0.807246     -0.214990        -0.520219     -0.836538   \n",
       "\n",
       "     usages  off_success_rate       sos  career_win_pct  \n",
       "0  0.364177          0.213572  1.316892        0.289885  \n",
       "1 -0.171471         -1.030597  1.077786        0.190762  \n",
       "2 -1.581846          0.902212 -0.356852        0.882436  \n",
       "3 -1.178882          0.115205 -0.091178        0.424468  \n",
       "4  0.531260         -0.716986 -1.313277       -0.268018  "
      ]
     },
     "execution_count": 94,
     "metadata": {},
     "output_type": "execute_result"
    }
   ],
   "source": [
    "from sklearn.preprocessing import StandardScaler\n",
    "\n",
    "# Scale data, retaining original column titles and structure. Scale on TRAINING data\n",
    "scaler = StandardScaler()\n",
    "# Fit and transform on TRAINING data\n",
    "X_train_scl = pd.DataFrame(scaler.fit_transform(X_train.copy()), \n",
    "                            columns = X_train.columns)\n",
    "# Now transform TEST data\n",
    "X_test_scl = pd.DataFrame(scaler.transform(X_test.copy()),\n",
    "                            columns = X_test.columns)\n",
    "\n",
    "X_train_scl.head()"
   ]
  },
  {
   "cell_type": "code",
   "execution_count": 95,
   "metadata": {},
   "outputs": [
    {
     "data": {
      "text/html": [
       "<div>\n",
       "<style scoped>\n",
       "    .dataframe tbody tr th:only-of-type {\n",
       "        vertical-align: middle;\n",
       "    }\n",
       "\n",
       "    .dataframe tbody tr th {\n",
       "        vertical-align: top;\n",
       "    }\n",
       "\n",
       "    .dataframe thead th {\n",
       "        text-align: right;\n",
       "    }\n",
       "</style>\n",
       "<table border=\"1\" class=\"dataframe\">\n",
       "  <thead>\n",
       "    <tr style=\"text-align: right;\">\n",
       "      <th></th>\n",
       "      <th>elo</th>\n",
       "      <th>recent_win_pct</th>\n",
       "      <th>talent_level</th>\n",
       "      <th>turnover_margin</th>\n",
       "      <th>prev_win_pct</th>\n",
       "      <th>usages</th>\n",
       "      <th>off_success_rate</th>\n",
       "      <th>sos</th>\n",
       "      <th>career_win_pct</th>\n",
       "    </tr>\n",
       "  </thead>\n",
       "  <tbody>\n",
       "    <tr>\n",
       "      <th>0</th>\n",
       "      <td>0.516589</td>\n",
       "      <td>-0.220381</td>\n",
       "      <td>-0.004413</td>\n",
       "      <td>-0.132776</td>\n",
       "      <td>0.437170</td>\n",
       "      <td>-1.213281</td>\n",
       "      <td>0.834517</td>\n",
       "      <td>-0.330284</td>\n",
       "      <td>0.177720</td>\n",
       "    </tr>\n",
       "    <tr>\n",
       "      <th>1</th>\n",
       "      <td>-2.235830</td>\n",
       "      <td>-1.244807</td>\n",
       "      <td>-0.378041</td>\n",
       "      <td>-0.261923</td>\n",
       "      <td>-0.836538</td>\n",
       "      <td>0.835941</td>\n",
       "      <td>-1.201582</td>\n",
       "      <td>1.848239</td>\n",
       "      <td>-0.274810</td>\n",
       "    </tr>\n",
       "    <tr>\n",
       "      <th>2</th>\n",
       "      <td>-0.089354</td>\n",
       "      <td>-1.127756</td>\n",
       "      <td>-0.850670</td>\n",
       "      <td>1.546142</td>\n",
       "      <td>-0.836538</td>\n",
       "      <td>0.364177</td>\n",
       "      <td>-0.845487</td>\n",
       "      <td>0.679275</td>\n",
       "      <td>-0.101996</td>\n",
       "    </tr>\n",
       "    <tr>\n",
       "      <th>3</th>\n",
       "      <td>-1.342321</td>\n",
       "      <td>-0.143603</td>\n",
       "      <td>-1.303463</td>\n",
       "      <td>-1.165956</td>\n",
       "      <td>-1.299704</td>\n",
       "      <td>0.270807</td>\n",
       "      <td>-0.704876</td>\n",
       "      <td>0.280765</td>\n",
       "      <td>-0.994227</td>\n",
       "    </tr>\n",
       "    <tr>\n",
       "      <th>4</th>\n",
       "      <td>0.811002</td>\n",
       "      <td>-0.970291</td>\n",
       "      <td>0.055778</td>\n",
       "      <td>2.062732</td>\n",
       "      <td>0.437170</td>\n",
       "      <td>-1.680130</td>\n",
       "      <td>0.112477</td>\n",
       "      <td>0.041659</td>\n",
       "      <td>0.562803</td>\n",
       "    </tr>\n",
       "  </tbody>\n",
       "</table>\n",
       "</div>"
      ],
      "text/plain": [
       "        elo  recent_win_pct  talent_level  turnover_margin  prev_win_pct  \\\n",
       "0  0.516589       -0.220381     -0.004413        -0.132776      0.437170   \n",
       "1 -2.235830       -1.244807     -0.378041        -0.261923     -0.836538   \n",
       "2 -0.089354       -1.127756     -0.850670         1.546142     -0.836538   \n",
       "3 -1.342321       -0.143603     -1.303463        -1.165956     -1.299704   \n",
       "4  0.811002       -0.970291      0.055778         2.062732      0.437170   \n",
       "\n",
       "     usages  off_success_rate       sos  career_win_pct  \n",
       "0 -1.213281          0.834517 -0.330284        0.177720  \n",
       "1  0.835941         -1.201582  1.848239       -0.274810  \n",
       "2  0.364177         -0.845487  0.679275       -0.101996  \n",
       "3  0.270807         -0.704876  0.280765       -0.994227  \n",
       "4 -1.680130          0.112477  0.041659        0.562803  "
      ]
     },
     "execution_count": 95,
     "metadata": {},
     "output_type": "execute_result"
    }
   ],
   "source": [
    "X_test_scl.head()"
   ]
  },
  {
   "cell_type": "markdown",
   "metadata": {},
   "source": [
    "### Modeling\n",
    "- Implement classical ML\n",
    "- Use k fold cross validation"
   ]
  },
  {
   "cell_type": "code",
   "execution_count": 96,
   "metadata": {},
   "outputs": [],
   "source": [
    "from sklearn.model_selection import TimeSeriesSplit, GridSearchCV\n",
    "from sklearn.metrics import mean_squared_error\n",
    "from sklearn.linear_model import LinearRegression\n",
    "from sklearn.neighbors import KNeighborsRegressor\n",
    "from sklearn.ensemble import RandomForestRegressor\n",
    "from xgboost import XGBRegressor\n",
    "from tensorflow.keras.models import Sequential\n",
    "from tensorflow.keras.layers import LSTM, Dense\n",
    "from keras.callbacks import EarlyStopping"
   ]
  },
  {
   "cell_type": "code",
   "execution_count": 134,
   "metadata": {},
   "outputs": [],
   "source": [
    "# Make kfold object. Set shuffle=True to maintain time ordering and prevent data leakage from ELO\n",
    "kfold = TimeSeriesSplit(5)\n",
    "\n",
    "mses = np.zeros((5,5))\n",
    "i = 0\n",
    "for i, (train_index, test_index) in enumerate(kfold.split(X_train)):\n",
    "\n",
    "    X_tt, y_tt = X_train_scl.iloc[train_index], y_train.iloc[train_index]\n",
    "    X_ho, y_ho = X_train_scl.iloc[test_index], y_train.iloc[test_index]\n",
    "    X_ho_base, y_ho_base = X_train.iloc[test_index], y_train.iloc[test_index]\n",
    "\n",
    "    # Baseline model, take previous winning percentage\n",
    "    pred0 = X_ho_base['prev_win_pct']\n",
    "\n",
    "    # Declare Models\n",
    "    model1 = LinearRegression() # All features\n",
    "    model2 = KNeighborsRegressor() \n",
    "    model3 = RandomForestRegressor()\n",
    "    model4 = XGBRegressor() # Do XGB but with fine tuning\n",
    "\n",
    "    # Train Models\n",
    "    model1.fit(X_tt, y_tt)\n",
    "    model2.fit(X_tt, y_tt)\n",
    "    model3.fit(X_tt, y_tt)\n",
    "    model4.fit(X_tt, y_tt)\n",
    "\n",
    "    # add models to list\n",
    "    models = [\"Baseline\", model1, model2, model3, model4]\n",
    "\n",
    "    # Get predictions\n",
    "    pred1 = model1.predict(X_ho)\n",
    "    pred2 = model2.predict(X_ho)\n",
    "    pred3 = model3.predict(X_ho)\n",
    "    pred4 = model4.predict(X_ho)\n",
    "\n",
    "    mses[0,i] = mean_squared_error(y_ho_base, pred0)\n",
    "    mses[1,i] = mean_squared_error(y_ho, pred1)\n",
    "    mses[2,i] = mean_squared_error(y_ho, pred2)\n",
    "    mses[3,i] = mean_squared_error(y_ho, pred3)\n",
    "    mses[4,i] = mean_squared_error(y_ho, pred4)\n",
    "    "
   ]
  },
  {
   "cell_type": "code",
   "execution_count": 135,
   "metadata": {},
   "outputs": [],
   "source": [
    "def percent_diff(a, b):\n",
    "    return np.abs((a - b) / ((a + b) / 2)) * 100\n",
    "def percent_improve(a,b):\n",
    "    return np.abs((a-b) / b) * 100"
   ]
  },
  {
   "cell_type": "code",
   "execution_count": 153,
   "metadata": {},
   "outputs": [
    {
     "data": {
      "text/html": [
       "<div>\n",
       "<style scoped>\n",
       "    .dataframe tbody tr th:only-of-type {\n",
       "        vertical-align: middle;\n",
       "    }\n",
       "\n",
       "    .dataframe tbody tr th {\n",
       "        vertical-align: top;\n",
       "    }\n",
       "\n",
       "    .dataframe thead th {\n",
       "        text-align: right;\n",
       "    }\n",
       "</style>\n",
       "<table border=\"1\" class=\"dataframe\">\n",
       "  <thead>\n",
       "    <tr style=\"text-align: right;\">\n",
       "      <th></th>\n",
       "      <th>model</th>\n",
       "      <th>avg_mse</th>\n",
       "      <th>avg_rmse</th>\n",
       "      <th>pct_improve_mse</th>\n",
       "      <th>pct_improve_rmse</th>\n",
       "    </tr>\n",
       "  </thead>\n",
       "  <tbody>\n",
       "    <tr>\n",
       "      <th>0</th>\n",
       "      <td>Baseline Naive Forecast</td>\n",
       "      <td>0.048402</td>\n",
       "      <td>0.220004</td>\n",
       "      <td>0.000000</td>\n",
       "      <td>0.000000</td>\n",
       "    </tr>\n",
       "    <tr>\n",
       "      <th>1</th>\n",
       "      <td>LinearRegression</td>\n",
       "      <td>0.030737</td>\n",
       "      <td>0.175319</td>\n",
       "      <td>36.497022</td>\n",
       "      <td>20.311244</td>\n",
       "    </tr>\n",
       "    <tr>\n",
       "      <th>2</th>\n",
       "      <td>KNeighborsRegressor</td>\n",
       "      <td>0.038067</td>\n",
       "      <td>0.195109</td>\n",
       "      <td>21.351520</td>\n",
       "      <td>11.316022</td>\n",
       "    </tr>\n",
       "    <tr>\n",
       "      <th>3</th>\n",
       "      <td>RandomForestRegressor</td>\n",
       "      <td>0.032943</td>\n",
       "      <td>0.181503</td>\n",
       "      <td>31.937845</td>\n",
       "      <td>17.500209</td>\n",
       "    </tr>\n",
       "    <tr>\n",
       "      <th>4</th>\n",
       "      <td>XGBRegressor</td>\n",
       "      <td>0.038238</td>\n",
       "      <td>0.195546</td>\n",
       "      <td>20.998344</td>\n",
       "      <td>11.117124</td>\n",
       "    </tr>\n",
       "  </tbody>\n",
       "</table>\n",
       "</div>"
      ],
      "text/plain": [
       "                     model   avg_mse  avg_rmse  pct_improve_mse  \\\n",
       "0  Baseline Naive Forecast  0.048402  0.220004         0.000000   \n",
       "1         LinearRegression  0.030737  0.175319        36.497022   \n",
       "2      KNeighborsRegressor  0.038067  0.195109        21.351520   \n",
       "3    RandomForestRegressor  0.032943  0.181503        31.937845   \n",
       "4             XGBRegressor  0.038238  0.195546        20.998344   \n",
       "\n",
       "   pct_improve_rmse  \n",
       "0          0.000000  \n",
       "1         20.311244  \n",
       "2         11.316022  \n",
       "3         17.500209  \n",
       "4         11.117124  "
      ]
     },
     "execution_count": 153,
     "metadata": {},
     "output_type": "execute_result"
    }
   ],
   "source": [
    "# Get names of models\n",
    "model_names = [type(model).__name__ for model in models]\n",
    "# Set first to baseline\n",
    "model_names[0] = 'Baseline Naive Forecast'\n",
    "\n",
    "# Add mses to a list\n",
    "avg_mses = np.mean(mses, axis=1)\n",
    "pct_improve_mses = [percent_improve(m, np.mean(mses[0])) for m in np.mean(mses, axis=1)]\n",
    "avg_rmses = np.sqrt(np.mean(mses, axis=1))\n",
    "pct_improve_rmses = [percent_improve(m, np.sqrt(np.mean(mses[0]))) for m in np.sqrt(np.mean(mses, axis=1))]\n",
    "\n",
    "# Add to a dataframe\n",
    "performance_df = pd.DataFrame({'model': model_names, 'avg_mse': avg_mses, 'avg_rmse': avg_rmses, \n",
    "                               'pct_improve_mse': pct_improve_mses, 'pct_improve_rmse': pct_improve_rmses})\n",
    "performance_df"
   ]
  },
  {
   "cell_type": "code",
   "execution_count": 137,
   "metadata": {},
   "outputs": [
    {
     "name": "stdout",
     "output_type": "stream",
     "text": [
      "Best Model: 1\n",
      "Percent Improvement: 36.49702228360844\n"
     ]
    }
   ],
   "source": [
    "# Find the best model\n",
    "best_model_num = np.argmin(np.mean(mses, axis=1))\n",
    "print(f'Best Model: {best_model_num}')\n",
    "print(f'Percent Improvement: {percent_improve(min(np.mean(mses, axis=1)), np.mean(mses[0]))}')"
   ]
  },
  {
   "cell_type": "code",
   "execution_count": 130,
   "metadata": {},
   "outputs": [
    {
     "data": {
      "image/png": "[encoded data removed]",
      "text/plain": [
       "<Figure size 900x500 with 1 Axes>"
      ]
     },
     "metadata": {},
     "output_type": "display_data"
    }
   ],
   "source": [
    "## From Erdos lecture, this figure will graphically compare the performance\n",
    "plt.figure(figsize=(9,5))\n",
    "\n",
    "plt.scatter(np.zeros(5), mses[0,:], s=60, c='white', edgecolor='black', label=\"Single Split\")\n",
    "plt.scatter(np.ones(5), mses[1,:], s=60, c='white', edgecolor='black')\n",
    "plt.scatter(2*np.ones(5), mses[2,:], s=60, c='white', edgecolor='black')\n",
    "plt.scatter(3*np.ones(5), mses[3,:], s=60, c='white', edgecolor='black')\n",
    "plt.scatter(4*np.ones(5), mses[3,:], s=60, c='white', edgecolor='black')\n",
    "plt.scatter([0,1,2,3,4], np.mean(mses, axis=1), s=60, c='g',marker='X',label=\"Mean\")\n",
    "\n",
    "plt.legend(fontsize=12)\n",
    "\n",
    "plt.xticks([0,1,2,3, 4],[\"Baseline (Naive)\", \"Linear Regression\", \"KNeighborsRegressor\", \"Random Forest\", \"XGBoost\"], fontsize=10)\n",
    "plt.yticks(fontsize=10)\n",
    "plt.title('Mean Squared Errors for Cross Validation', fontweight='bold')\n",
    "plt.ylabel(\"MSE\", fontsize=12)\n",
    "plt.savefig('images/cross-val-mses.png')\n",
    "plt.show()"
   ]
  },
  {
   "cell_type": "markdown",
   "metadata": {},
   "source": [
    "### Testing the Model\n",
    "- Take the best performing model and use for prediction"
   ]
  },
  {
   "cell_type": "code",
   "execution_count": 126,
   "metadata": {},
   "outputs": [
    {
     "name": "stdout",
     "output_type": "stream",
     "text": [
      "Best Model MSE = 0.025275408331086584\n"
     ]
    }
   ],
   "source": [
    "# Get the best model\n",
    "best_model = models[best_model_num]\n",
    "\n",
    "y_pred = best_model.predict(X_test_scl)\n",
    "mse_test = mean_squared_error(y_pred, y_test)\n",
    "print(f'Best Model MSE = {mse_test}')"
   ]
  },
  {
   "cell_type": "markdown",
   "metadata": {},
   "source": [
    "To interpret the error, we did the following:\n",
    "1. Multiply the win percentage by 12 season games and round to the nearest number of wins\n",
    "2. Find the RMSE of the predicted vs. actual wins"
   ]
  },
  {
   "cell_type": "code",
   "execution_count": 67,
   "metadata": {},
   "outputs": [
    {
     "name": "stdout",
     "output_type": "stream",
     "text": [
      "RMSE of Best Model x 12 = 1.9077889819569847\n"
     ]
    }
   ],
   "source": [
    "print(f'RMSE of Best Model x 12 = {12*np.sqrt(mse_test)}')"
   ]
  },
  {
   "cell_type": "markdown",
   "metadata": {},
   "source": [
    "Compared to the baseline model RMSE (multiply by 12 to get number of games)"
   ]
  },
  {
   "cell_type": "code",
   "execution_count": 78,
   "metadata": {},
   "outputs": [
    {
     "name": "stdout",
     "output_type": "stream",
     "text": [
      "MSE of Baseline Model = 0.036192618868255734\n",
      "RMSE of Baseline Model x 12 = 2.282922932783502\n"
     ]
    }
   ],
   "source": [
    "y_pred_base = X_test['prev_win_pct']\n",
    "mse_base = mean_squared_error(y_test, y_pred_base)\n",
    "print(f'MSE of Baseline Model = {mse_base}')\n",
    "print(f'RMSE of Baseline Model x 12 = {12*np.sqrt(mse_base)}')"
   ]
  },
  {
   "cell_type": "markdown",
   "metadata": {},
   "source": [
    "So we see an improvement over the baseline of..."
   ]
  },
  {
   "cell_type": "code",
   "execution_count": 69,
   "metadata": {},
   "outputs": [
    {
     "name": "stdout",
     "output_type": "stream",
     "text": [
      " Percent Improvement of Best Model Over Baseline: 35.5216\n"
     ]
    }
   ],
   "source": [
    "print(f' Percent Improvement of Best Model Over Baseline: {percent_diff(mse_test,mse_base):.4f}%')"
   ]
  },
  {
   "cell_type": "code",
   "execution_count": 158,
   "metadata": {},
   "outputs": [
    {
     "data": {
      "text/html": [
       "<div>\n",
       "<style scoped>\n",
       "    .dataframe tbody tr th:only-of-type {\n",
       "        vertical-align: middle;\n",
       "    }\n",
       "\n",
       "    .dataframe tbody tr th {\n",
       "        vertical-align: top;\n",
       "    }\n",
       "\n",
       "    .dataframe thead th {\n",
       "        text-align: right;\n",
       "    }\n",
       "</style>\n",
       "<table border=\"1\" class=\"dataframe\">\n",
       "  <thead>\n",
       "    <tr style=\"text-align: right;\">\n",
       "      <th></th>\n",
       "      <th>model</th>\n",
       "      <th>test_mse</th>\n",
       "      <th>test_rmse</th>\n",
       "      <th>pct_improve_mse</th>\n",
       "      <th>pct_improve_rmse</th>\n",
       "    </tr>\n",
       "  </thead>\n",
       "  <tbody>\n",
       "    <tr>\n",
       "      <th>0</th>\n",
       "      <td>LinearRegression</td>\n",
       "      <td>0.025275</td>\n",
       "      <td>0.158982</td>\n",
       "      <td>35.521591</td>\n",
       "      <td>17.903113</td>\n",
       "    </tr>\n",
       "  </tbody>\n",
       "</table>\n",
       "</div>"
      ],
      "text/plain": [
       "              model  test_mse  test_rmse  pct_improve_mse  pct_improve_rmse\n",
       "0  LinearRegression  0.025275   0.158982        35.521591         17.903113"
      ]
     },
     "execution_count": 158,
     "metadata": {},
     "output_type": "execute_result"
    }
   ],
   "source": [
    "test_performance_df = pd.DataFrame({'model': ['LinearRegression'], \n",
    "                                    'test_mse': [mse_test], \n",
    "                                    'test_rmse': [np.sqrt(mse_test)], \n",
    "                                    'pct_improve_mse': [percent_diff(mse_test, mse_base)],\n",
    "                                    'pct_improve_rmse': [percent_diff(np.sqrt(mse_test), np.sqrt(mse_base))]\n",
    "                                    })\n",
    "test_performance_df"
   ]
  },
  {
   "cell_type": "markdown",
   "metadata": {},
   "source": [
    "### Hyperparameter Tuning using XGBoost"
   ]
  },
  {
   "cell_type": "code",
   "execution_count": 35,
   "metadata": {},
   "outputs": [],
   "source": [
    "param_grid = {\n",
    "    'n_estimators': [100, 200, 300],\n",
    "    'learning_rate': [0.05, 0.1, 0.2],\n",
    "    'max_depth': [3, 4, 5]\n",
    "    # Add more parameters as needed\n",
    "}"
   ]
  },
  {
   "cell_type": "markdown",
   "metadata": {},
   "source": [
    "### Deep Learning Methods\n",
    "- LSTMs often used for time series"
   ]
  },
  {
   "cell_type": "code",
   "execution_count": 138,
   "metadata": {},
   "outputs": [],
   "source": [
    "# Reshape data from (samples, features) to (samples, time steps, features)\n",
    "X_train_scl_reshape = np.reshape(X_train_scl , (X_train_scl.shape[0], 1, X_train_scl.shape[1]))\n",
    "X_test_scl_reshape = np.reshape(X_test_scl , (X_test_scl.shape[0], 1, X_test_scl.shape[1]))"
   ]
  },
  {
   "cell_type": "code",
   "execution_count": 139,
   "metadata": {},
   "outputs": [],
   "source": [
    "BATCH_SIZE = 32\n",
    "N_EPOCHS = 50\n",
    "num_batches = len(X_train_scl) // BATCH_SIZE"
   ]
  },
  {
   "cell_type": "code",
   "execution_count": 140,
   "metadata": {},
   "outputs": [],
   "source": [
    "# Make kfold object. Set shuffle=True to maintain time ordering and prevent data leakage from ELO\n",
    "kfold = TimeSeriesSplit(5)\n",
    "\n",
    "lstm_mses = []\n",
    "histories = []\n",
    "i = 0\n",
    "for i, (train_index, test_index) in enumerate(kfold.split(X_train)):\n",
    "\n",
    "    X_tt, y_tt = X_train_scl.iloc[train_index], y_train.iloc[train_index]\n",
    "    X_ho, y_ho = X_train_scl.iloc[test_index], y_train.iloc[test_index]\n",
    "    X_ho_base, y_ho_base = X_train.iloc[test_index], y_train.iloc[test_index]\n",
    "\n",
    "    # Reshape data from (samples, features) to (samples, time steps, features)\n",
    "    X_tt_reshape = np.reshape(X_tt , (X_tt.shape[0], 1, X_tt.shape[1]))\n",
    "    X_ho_reshape = np.reshape(X_ho , (X_ho.shape[0], 1, X_ho.shape[1]))\n",
    "\n",
    "    # Baseline model, take previous winning percentage\n",
    "    pred0 = X_ho_base['prev_win_pct']\n",
    "\n",
    "    # Declare and Compile Models\n",
    "    model_lstm = Sequential([\n",
    "        LSTM(50, activation='relu'),\n",
    "        Dense(1)\n",
    "    ])\n",
    "    model_lstm.compile(optimizer='adam', loss='mse')\n",
    "    early_stop = EarlyStopping(monitor='val_loss', patience=3, verbose=0)\n",
    "\n",
    "    # Train and store history (which includes predictions)\n",
    "    history = model_lstm.fit(X_tt_reshape, \n",
    "            y_tt, \n",
    "            epochs=N_EPOCHS, \n",
    "            batch_size=BATCH_SIZE, \n",
    "            validation_data=(X_ho_reshape, y_ho),\n",
    "            callbacks=[early_stop],\n",
    "            verbose=0)\n",
    "    histories.append(history)\n",
    "\n",
    "    # Get mses\n",
    "    lstm_mses.append(min(history.history['val_loss']))\n",
    "    "
   ]
  },
  {
   "cell_type": "code",
   "execution_count": 142,
   "metadata": {},
   "outputs": [
    {
     "name": "stdout",
     "output_type": "stream",
     "text": [
      "MSEs for Each Cross Val: [0.02863560989499092, 0.03303379565477371, 0.028962938115000725, 0.04525909200310707, 0.03267255052924156]\n",
      "Average MSE: 0.0337127972394228\n",
      "Percent Improvement Over Baseline: 35.77708273290916\n"
     ]
    }
   ],
   "source": [
    "# Print results\n",
    "print(f\"MSEs for Each Cross Val: {lstm_mses}\")\n",
    "print(f'Average MSE: {np.mean(lstm_mses)}')\n",
    "print(f\"Percent Improvement Over Baseline: {percent_diff(np.mean(lstm_mses), np.mean(mses[0]))}\")"
   ]
  },
  {
   "cell_type": "code",
   "execution_count": 154,
   "metadata": {},
   "outputs": [
    {
     "data": {
      "text/html": [
       "<div>\n",
       "<style scoped>\n",
       "    .dataframe tbody tr th:only-of-type {\n",
       "        vertical-align: middle;\n",
       "    }\n",
       "\n",
       "    .dataframe tbody tr th {\n",
       "        vertical-align: top;\n",
       "    }\n",
       "\n",
       "    .dataframe thead th {\n",
       "        text-align: right;\n",
       "    }\n",
       "</style>\n",
       "<table border=\"1\" class=\"dataframe\">\n",
       "  <thead>\n",
       "    <tr style=\"text-align: right;\">\n",
       "      <th></th>\n",
       "      <th>model</th>\n",
       "      <th>avg_mse</th>\n",
       "      <th>avg_rmse</th>\n",
       "      <th>pct_improve_mse</th>\n",
       "      <th>pct_improve_rmse</th>\n",
       "    </tr>\n",
       "  </thead>\n",
       "  <tbody>\n",
       "    <tr>\n",
       "      <th>0</th>\n",
       "      <td>Baseline Naive Forecast</td>\n",
       "      <td>0.048402</td>\n",
       "      <td>0.220004</td>\n",
       "      <td>0.000000</td>\n",
       "      <td>0.000000</td>\n",
       "    </tr>\n",
       "    <tr>\n",
       "      <th>1</th>\n",
       "      <td>LinearRegression</td>\n",
       "      <td>0.030737</td>\n",
       "      <td>0.175319</td>\n",
       "      <td>36.497022</td>\n",
       "      <td>20.311244</td>\n",
       "    </tr>\n",
       "    <tr>\n",
       "      <th>2</th>\n",
       "      <td>KNeighborsRegressor</td>\n",
       "      <td>0.038067</td>\n",
       "      <td>0.195109</td>\n",
       "      <td>21.351520</td>\n",
       "      <td>11.316022</td>\n",
       "    </tr>\n",
       "    <tr>\n",
       "      <th>3</th>\n",
       "      <td>RandomForestRegressor</td>\n",
       "      <td>0.032943</td>\n",
       "      <td>0.181503</td>\n",
       "      <td>31.937845</td>\n",
       "      <td>17.500209</td>\n",
       "    </tr>\n",
       "    <tr>\n",
       "      <th>4</th>\n",
       "      <td>XGBRegressor</td>\n",
       "      <td>0.038238</td>\n",
       "      <td>0.195546</td>\n",
       "      <td>20.998344</td>\n",
       "      <td>11.117124</td>\n",
       "    </tr>\n",
       "    <tr>\n",
       "      <th>5</th>\n",
       "      <td>LSTM</td>\n",
       "      <td>0.033713</td>\n",
       "      <td>0.183610</td>\n",
       "      <td>30.348228</td>\n",
       "      <td>16.542363</td>\n",
       "    </tr>\n",
       "  </tbody>\n",
       "</table>\n",
       "</div>"
      ],
      "text/plain": [
       "                     model   avg_mse  avg_rmse  pct_improve_mse  \\\n",
       "0  Baseline Naive Forecast  0.048402  0.220004         0.000000   \n",
       "1         LinearRegression  0.030737  0.175319        36.497022   \n",
       "2      KNeighborsRegressor  0.038067  0.195109        21.351520   \n",
       "3    RandomForestRegressor  0.032943  0.181503        31.937845   \n",
       "4             XGBRegressor  0.038238  0.195546        20.998344   \n",
       "5                     LSTM  0.033713  0.183610        30.348228   \n",
       "\n",
       "   pct_improve_rmse  \n",
       "0          0.000000  \n",
       "1         20.311244  \n",
       "2         11.316022  \n",
       "3         17.500209  \n",
       "4         11.117124  \n",
       "5         16.542363  "
      ]
     },
     "execution_count": 154,
     "metadata": {},
     "output_type": "execute_result"
    }
   ],
   "source": [
    "# Add these cross val lstm results to our dataframe\n",
    "new_row = pd.DataFrame({'model': ['LSTM'], \n",
    "                     'avg_mse': [np.mean(lstm_mses)], \n",
    "                     'avg_rmse': [np.sqrt(np.mean(lstm_mses))],\n",
    "                     'pct_improve_mse': [percent_improve(np.mean(lstm_mses), np.mean(mses[0]))],\n",
    "                     'pct_improve_rmse': [percent_improve(np.sqrt(np.mean(lstm_mses)), np.sqrt(np.mean(mses[0])))]\n",
    "                    })\n",
    "\n",
    "performance_df = pd.concat([performance_df, new_row], ignore_index=True)\n",
    "performance_df"
   ]
  },
  {
   "cell_type": "code",
   "execution_count": 155,
   "metadata": {},
   "outputs": [
    {
     "name": "stdout",
     "output_type": "stream",
     "text": [
      "| model                   |   avg_mse |   avg_rmse |   pct_improve_mse |   pct_improve_rmse |\n",
      "|:------------------------|----------:|-----------:|------------------:|-------------------:|\n",
      "| Baseline Naive Forecast | 0.0484019 |   0.220004 |            0      |             0      |\n",
      "| LinearRegression        | 0.0307367 |   0.175319 |           36.497  |            20.3112 |\n",
      "| KNeighborsRegressor     | 0.0380674 |   0.195109 |           21.3515 |            11.316  |\n",
      "| RandomForestRegressor   | 0.0329434 |   0.181503 |           31.9378 |            17.5002 |\n",
      "| XGBRegressor            | 0.0382383 |   0.195546 |           20.9983 |            11.1171 |\n",
      "| LSTM                    | 0.0337128 |   0.18361  |           30.3482 |            16.5424 |\n"
     ]
    }
   ],
   "source": [
    "# Save the dataframe to markdown code\n",
    "markdown_table = performance_df.to_markdown(index=False)\n",
    "\n",
    "# Print or save the Markdown table string\n",
    "print(markdown_table)\n",
    "# Or save to a file\n",
    "with open('out/cross_validation_performance.md', 'w') as f:\n",
    "    f.write(markdown_table)"
   ]
  },
  {
   "cell_type": "code",
   "execution_count": 41,
   "metadata": {},
   "outputs": [
    {
     "name": "stdout",
     "output_type": "stream",
     "text": [
      "4/4 [==============================] - 1s 7ms/step\n",
      "LSTM Test MSE: 0.024866087346538997\n"
     ]
    }
   ],
   "source": [
    "# Get results for test set\n",
    "y_pred = model_lstm.predict(X_test_scl_reshape)\n",
    "lstm_error = mean_squared_error(y_pred, y_test)\n",
    "print(f'LSTM Test MSE: {lstm_error}')"
   ]
  },
  {
   "cell_type": "code",
   "execution_count": 72,
   "metadata": {},
   "outputs": [
    {
     "data": {
      "text/plain": [
       "37.100463550183385"
      ]
     },
     "execution_count": 72,
     "metadata": {},
     "output_type": "execute_result"
    }
   ],
   "source": [
    "# Compare to baseline\n",
    "percent_diff(lstm_error,mean_squared_error(y_test, y_pred_base))"
   ]
  },
  {
   "cell_type": "code",
   "execution_count": 43,
   "metadata": {},
   "outputs": [
    {
     "name": "stderr",
     "output_type": "stream",
     "text": [
      "/var/folders/70/g0t97b0x2r964_f_p7d3sgwc0000gn/T/ipykernel_29314/3215021690.py:11: UserWarning: Tight layout not applied. tight_layout cannot make axes width small enough to accommodate all axes decorations\n",
      "  plt.tight_layout()\n"
     ]
    },
    {
     "data": {
      "image/png": "[encoded data removed]",
      "text/plain": [
       "<Figure size 1500x400 with 5 Axes>"
      ]
     },
     "metadata": {},
     "output_type": "display_data"
    }
   ],
   "source": [
    "# Plot the loss history\n",
    "fig, axes = plt.subplots(1,5, figsize=(15,4))\n",
    "for i, history in enumerate(histories):\n",
    "    axes[i].plot(history.history['loss'], label='train')\n",
    "    axes[i].plot(history.history['val_loss'], label='validation')\n",
    "    axes[i].text(0.95, 0.8, f\"Best LSTM MSE: {min(history.history['val_loss']):.4f}\", ha='right', va='center', transform=plt.gca().transAxes, fontweight='bold')\n",
    "    axes[i].text(0.95, 0.75, f\"Baseline MSE: {np.sqrt(mean_squared_error(y_test, y_pred_base)):.4f}\", ha='right', va='center', transform=plt.gca().transAxes, fontweight='bold')\n",
    "    axes[i].legend()\n",
    "\n",
    "plt.suptitle('MSE vs. Epochs for LSTM with Cross Validation', fontweight='bold')\n",
    "plt.tight_layout()\n",
    "plt.savefig('images/lstm_loss.png')\n",
    "plt.show()"
   ]
  },
  {
   "cell_type": "markdown",
   "metadata": {},
   "source": [
    "#### LSTM w/o Cross Validation\n",
    "- Cross validation, given our relatively short window of time for our data, is struggling with the 2020 season, where many teams didn't play or played abbreviated schedules, lots of players sitting out for the entire season or strings of games for covid, etc."
   ]
  },
  {
   "cell_type": "code",
   "execution_count": 44,
   "metadata": {},
   "outputs": [
    {
     "name": "stdout",
     "output_type": "stream",
     "text": [
      "Epoch 25: early stopping\n",
      "4/4 [==============================] - 0s 3ms/step\n"
     ]
    }
   ],
   "source": [
    "BATCH_SIZE = 32\n",
    "N_EPOCHS = 50\n",
    "num_batches = len(X_train_scl) // BATCH_SIZE\n",
    "\n",
    "model = Sequential([\n",
    "    LSTM(50, activation='relu'),\n",
    "    Dense(1)\n",
    "])\n",
    "\n",
    "early_stop = EarlyStopping(monitor='val_loss', patience=3, verbose=1)\n",
    "\n",
    "model.compile(optimizer='adam', loss='mse')\n",
    "history = model.fit(X_train_scl_reshape, \n",
    "            y_train, \n",
    "            epochs=N_EPOCHS, \n",
    "            batch_size=BATCH_SIZE, \n",
    "            validation_data=(X_test_scl_reshape, y_test),\n",
    "            callbacks=[early_stop],\n",
    "            verbose=0)\n",
    "y_pred = model.predict(X_test_scl_reshape)"
   ]
  },
  {
   "cell_type": "code",
   "execution_count": 70,
   "metadata": {},
   "outputs": [
    {
     "name": "stdout",
     "output_type": "stream",
     "text": [
      "Improvement over baseline: 40.68%\n"
     ]
    }
   ],
   "source": [
    "# Take the best val_loss convert into % difference with base model\n",
    "best_mse = min(history.history['val_loss'])\n",
    "\n",
    "lstm_percent_diff = percent_diff(best_mse,mean_squared_error(y_test, y_pred_base))\n",
    "print(f'Improvement over baseline: {lstm_percent_diff:.2f}%')"
   ]
  },
  {
   "cell_type": "code",
   "execution_count": 71,
   "metadata": {},
   "outputs": [
    {
     "data": {
      "image/png": "[encoded data removed]",
      "text/plain": [
       "<Figure size 640x480 with 1 Axes>"
      ]
     },
     "metadata": {},
     "output_type": "display_data"
    }
   ],
   "source": [
    "# Plot the loss history\n",
    "plt.plot(history.history['loss'], label='train')\n",
    "plt.plot(history.history['val_loss'], label='validation')\n",
    "plt.title('MSE vs. Epochs for LSTM', fontweight='bold')\n",
    "plt.text(0.95, 0.8, f\"Best LSTM MSE: {min(history.history['val_loss']):.4f}\", ha='right', va='center', transform=plt.gca().transAxes, fontweight='bold')\n",
    "plt.text(0.95, 0.75, f\"Baseline MSE: {mean_squared_error(y_test, y_pred_base):.4f}\", ha='right', va='center', transform=plt.gca().transAxes, fontweight='bold')\n",
    "plt.text(0.95, 0.7, f\"Improvement: {lstm_percent_diff:.2f}%\", ha='right', va='center', transform=plt.gca().transAxes, fontweight='bold')\n",
    "plt.legend()\n",
    "plt.savefig('images/lstm_loss.png')\n",
    "plt.show()"
   ]
  },
  {
   "cell_type": "code",
   "execution_count": 159,
   "metadata": {},
   "outputs": [
    {
     "data": {
      "text/html": [
       "<div>\n",
       "<style scoped>\n",
       "    .dataframe tbody tr th:only-of-type {\n",
       "        vertical-align: middle;\n",
       "    }\n",
       "\n",
       "    .dataframe tbody tr th {\n",
       "        vertical-align: top;\n",
       "    }\n",
       "\n",
       "    .dataframe thead th {\n",
       "        text-align: right;\n",
       "    }\n",
       "</style>\n",
       "<table border=\"1\" class=\"dataframe\">\n",
       "  <thead>\n",
       "    <tr style=\"text-align: right;\">\n",
       "      <th></th>\n",
       "      <th>model</th>\n",
       "      <th>test_mse</th>\n",
       "      <th>test_rmse</th>\n",
       "      <th>pct_improve_mse</th>\n",
       "      <th>pct_improve_rmse</th>\n",
       "    </tr>\n",
       "  </thead>\n",
       "  <tbody>\n",
       "    <tr>\n",
       "      <th>0</th>\n",
       "      <td>LinearRegression</td>\n",
       "      <td>0.025275</td>\n",
       "      <td>0.158982</td>\n",
       "      <td>35.521591</td>\n",
       "      <td>17.903113</td>\n",
       "    </tr>\n",
       "    <tr>\n",
       "      <th>1</th>\n",
       "      <td>LSTM</td>\n",
       "      <td>0.023959</td>\n",
       "      <td>0.154787</td>\n",
       "      <td>40.675638</td>\n",
       "      <td>20.552591</td>\n",
       "    </tr>\n",
       "  </tbody>\n",
       "</table>\n",
       "</div>"
      ],
      "text/plain": [
       "              model  test_mse  test_rmse  pct_improve_mse  pct_improve_rmse\n",
       "0  LinearRegression  0.025275   0.158982        35.521591         17.903113\n",
       "1              LSTM  0.023959   0.154787        40.675638         20.552591"
      ]
     },
     "execution_count": 159,
     "metadata": {},
     "output_type": "execute_result"
    }
   ],
   "source": [
    "# Add to our test performance df since it did better\n",
    "new_row_test = pd.DataFrame({'model': ['LSTM'], \n",
    "                                    'test_mse': [best_mse], \n",
    "                                    'test_rmse': [np.sqrt(best_mse)], \n",
    "                                    'pct_improve_mse': [percent_diff(best_mse, mse_base)],\n",
    "                                    'pct_improve_rmse': [percent_diff(np.sqrt(best_mse), np.sqrt(mse_base))]\n",
    "                                    })\n",
    "test_performance_df = pd.concat([test_performance_df, new_row_test], ignore_index=True)\n",
    "test_performance_df"
   ]
  },
  {
   "cell_type": "code",
   "execution_count": 160,
   "metadata": {},
   "outputs": [
    {
     "name": "stdout",
     "output_type": "stream",
     "text": [
      "| model            |   test_mse |   test_rmse |   pct_improve_mse |   pct_improve_rmse |\n",
      "|:-----------------|-----------:|------------:|------------------:|-------------------:|\n",
      "| LinearRegression |  0.0252754 |    0.158982 |           35.5216 |            17.9031 |\n",
      "| LSTM             |  0.0239591 |    0.154787 |           40.6756 |            20.5526 |\n"
     ]
    }
   ],
   "source": [
    "# Save the dataframe to markdown code\n",
    "markdown_table_test = test_performance_df.to_markdown(index=False)\n",
    "\n",
    "# Print or save the Markdown table string\n",
    "print(markdown_table_test)\n",
    "# Or save to a file\n",
    "with open('out/test_set_performance.md', 'w') as f:\n",
    "    f.write(markdown_table_test)"
   ]
  },
  {
   "cell_type": "code",
   "execution_count": null,
   "metadata": {},
   "outputs": [],
   "source": []
  }
 ],
 "metadata": {
  "kernelspec": {
   "display_name": "erdos_may_2024",
   "language": "python",
   "name": "python3"
  },
  "language_info": {
   "codemirror_mode": {
    "name": "ipython",
    "version": 3
   },
   "file_extension": ".py",
   "mimetype": "text/x-python",
   "name": "python",
   "nbconvert_exporter": "python",
   "pygments_lexer": "ipython3",
   "version": "3.11.9"
  }
 },
 "nbformat": 4,
 "nbformat_minor": 2
}
