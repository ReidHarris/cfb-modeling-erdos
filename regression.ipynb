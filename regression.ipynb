{
 "cells": [
  {
   "cell_type": "markdown",
   "metadata": {},
   "source": [
    "# Modeling: Regression\n",
    "- Use n-1 year on-field stats and n year for talent stats to predict year n results\n",
    "- Treat data as set of features at start of each year and try to regress on various outcomes"
   ]
  },
  {
   "cell_type": "code",
   "execution_count": 10,
   "metadata": {},
   "outputs": [],
   "source": [
    "#!pip install --q xgboost"
   ]
  },
  {
   "cell_type": "code",
   "execution_count": 6,
   "metadata": {},
   "outputs": [],
   "source": [
    "import pandas as pd\n",
    "import seaborn as sns\n",
    "import matplotlib.pyplot as plt\n",
    "import numpy as np"
   ]
  },
  {
   "cell_type": "code",
   "execution_count": 40,
   "metadata": {},
   "outputs": [
    {
     "data": {
      "text/html": [
       "<div>\n",
       "<style scoped>\n",
       "    .dataframe tbody tr th:only-of-type {\n",
       "        vertical-align: middle;\n",
       "    }\n",
       "\n",
       "    .dataframe tbody tr th {\n",
       "        vertical-align: top;\n",
       "    }\n",
       "\n",
       "    .dataframe thead th {\n",
       "        text-align: right;\n",
       "    }\n",
       "</style>\n",
       "<table border=\"1\" class=\"dataframe\">\n",
       "  <thead>\n",
       "    <tr style=\"text-align: right;\">\n",
       "      <th></th>\n",
       "      <th>team</th>\n",
       "      <th>team_id</th>\n",
       "      <th>year</th>\n",
       "      <th>conference</th>\n",
       "      <th>games_played</th>\n",
       "      <th>expected_wins</th>\n",
       "      <th>wins</th>\n",
       "      <th>losses</th>\n",
       "      <th>win_pct</th>\n",
       "      <th>prev_win_pct</th>\n",
       "      <th>...</th>\n",
       "      <th>off_explode</th>\n",
       "      <th>def_explode</th>\n",
       "      <th>off_ppa</th>\n",
       "      <th>def_ppa</th>\n",
       "      <th>off_success_rate</th>\n",
       "      <th>def_success_rate</th>\n",
       "      <th>coach</th>\n",
       "      <th>career_win_pct</th>\n",
       "      <th>sor</th>\n",
       "      <th>sos</th>\n",
       "    </tr>\n",
       "  </thead>\n",
       "  <tbody>\n",
       "    <tr>\n",
       "      <th>0</th>\n",
       "      <td>Air Force</td>\n",
       "      <td>2005</td>\n",
       "      <td>2014</td>\n",
       "      <td>Mountain West</td>\n",
       "      <td>13</td>\n",
       "      <td>9.7</td>\n",
       "      <td>10</td>\n",
       "      <td>3</td>\n",
       "      <td>0.769231</td>\n",
       "      <td>0.166667</td>\n",
       "      <td>...</td>\n",
       "      <td>0.860561</td>\n",
       "      <td>0.902638</td>\n",
       "      <td>0.096601</td>\n",
       "      <td>0.214295</td>\n",
       "      <td>0.439644</td>\n",
       "      <td>0.518913</td>\n",
       "      <td>Troy Calhoun</td>\n",
       "      <td>0.544444</td>\n",
       "      <td>115.0</td>\n",
       "      <td>113</td>\n",
       "    </tr>\n",
       "    <tr>\n",
       "      <th>1</th>\n",
       "      <td>Air Force</td>\n",
       "      <td>2005</td>\n",
       "      <td>2015</td>\n",
       "      <td>Mountain West</td>\n",
       "      <td>14</td>\n",
       "      <td>8.2</td>\n",
       "      <td>8</td>\n",
       "      <td>6</td>\n",
       "      <td>0.571429</td>\n",
       "      <td>0.769231</td>\n",
       "      <td>...</td>\n",
       "      <td>1.089935</td>\n",
       "      <td>1.425767</td>\n",
       "      <td>0.207059</td>\n",
       "      <td>0.138795</td>\n",
       "      <td>0.451837</td>\n",
       "      <td>0.375831</td>\n",
       "      <td>Troy Calhoun</td>\n",
       "      <td>0.572816</td>\n",
       "      <td>48.0</td>\n",
       "      <td>86</td>\n",
       "    </tr>\n",
       "    <tr>\n",
       "      <th>2</th>\n",
       "      <td>Air Force</td>\n",
       "      <td>2005</td>\n",
       "      <td>2016</td>\n",
       "      <td>Mountain West</td>\n",
       "      <td>13</td>\n",
       "      <td>9.4</td>\n",
       "      <td>10</td>\n",
       "      <td>3</td>\n",
       "      <td>0.769231</td>\n",
       "      <td>0.571429</td>\n",
       "      <td>...</td>\n",
       "      <td>1.154045</td>\n",
       "      <td>1.549206</td>\n",
       "      <td>0.272449</td>\n",
       "      <td>0.172654</td>\n",
       "      <td>0.474216</td>\n",
       "      <td>0.357631</td>\n",
       "      <td>Troy Calhoun</td>\n",
       "      <td>0.572650</td>\n",
       "      <td>71.0</td>\n",
       "      <td>113</td>\n",
       "    </tr>\n",
       "    <tr>\n",
       "      <th>3</th>\n",
       "      <td>Air Force</td>\n",
       "      <td>2005</td>\n",
       "      <td>2017</td>\n",
       "      <td>Mountain West</td>\n",
       "      <td>12</td>\n",
       "      <td>4.4</td>\n",
       "      <td>5</td>\n",
       "      <td>7</td>\n",
       "      <td>0.416667</td>\n",
       "      <td>0.769231</td>\n",
       "      <td>...</td>\n",
       "      <td>1.027586</td>\n",
       "      <td>1.534094</td>\n",
       "      <td>0.227697</td>\n",
       "      <td>0.158770</td>\n",
       "      <td>0.483333</td>\n",
       "      <td>0.366048</td>\n",
       "      <td>Troy Calhoun</td>\n",
       "      <td>0.592308</td>\n",
       "      <td>49.0</td>\n",
       "      <td>82</td>\n",
       "    </tr>\n",
       "    <tr>\n",
       "      <th>4</th>\n",
       "      <td>Air Force</td>\n",
       "      <td>2005</td>\n",
       "      <td>2018</td>\n",
       "      <td>Mountain West</td>\n",
       "      <td>12</td>\n",
       "      <td>6.4</td>\n",
       "      <td>5</td>\n",
       "      <td>7</td>\n",
       "      <td>0.416667</td>\n",
       "      <td>0.416667</td>\n",
       "      <td>...</td>\n",
       "      <td>1.095699</td>\n",
       "      <td>1.374592</td>\n",
       "      <td>0.235542</td>\n",
       "      <td>0.247661</td>\n",
       "      <td>0.488398</td>\n",
       "      <td>0.422096</td>\n",
       "      <td>Troy Calhoun</td>\n",
       "      <td>0.577465</td>\n",
       "      <td>94.0</td>\n",
       "      <td>86</td>\n",
       "    </tr>\n",
       "  </tbody>\n",
       "</table>\n",
       "<p>5 rows × 33 columns</p>\n",
       "</div>"
      ],
      "text/plain": [
       "        team  team_id  year     conference  games_played  expected_wins  wins  \\\n",
       "0  Air Force     2005  2014  Mountain West            13            9.7    10   \n",
       "1  Air Force     2005  2015  Mountain West            14            8.2     8   \n",
       "2  Air Force     2005  2016  Mountain West            13            9.4    10   \n",
       "3  Air Force     2005  2017  Mountain West            12            4.4     5   \n",
       "4  Air Force     2005  2018  Mountain West            12            6.4     5   \n",
       "\n",
       "   losses   win_pct  prev_win_pct  ...  off_explode  def_explode   off_ppa  \\\n",
       "0       3  0.769231      0.166667  ...     0.860561     0.902638  0.096601   \n",
       "1       6  0.571429      0.769231  ...     1.089935     1.425767  0.207059   \n",
       "2       3  0.769231      0.571429  ...     1.154045     1.549206  0.272449   \n",
       "3       7  0.416667      0.769231  ...     1.027586     1.534094  0.227697   \n",
       "4       7  0.416667      0.416667  ...     1.095699     1.374592  0.235542   \n",
       "\n",
       "    def_ppa  off_success_rate  def_success_rate         coach  career_win_pct  \\\n",
       "0  0.214295          0.439644          0.518913  Troy Calhoun        0.544444   \n",
       "1  0.138795          0.451837          0.375831  Troy Calhoun        0.572816   \n",
       "2  0.172654          0.474216          0.357631  Troy Calhoun        0.572650   \n",
       "3  0.158770          0.483333          0.366048  Troy Calhoun        0.592308   \n",
       "4  0.247661          0.488398          0.422096  Troy Calhoun        0.577465   \n",
       "\n",
       "     sor  sos  \n",
       "0  115.0  113  \n",
       "1   48.0   86  \n",
       "2   71.0  113  \n",
       "3   49.0   82  \n",
       "4   94.0   86  \n",
       "\n",
       "[5 rows x 33 columns]"
      ]
     },
     "execution_count": 40,
     "metadata": {},
     "output_type": "execute_result"
    }
   ],
   "source": [
    "df = pd.read_csv('data/working_df.csv')\n",
    "df.head()"
   ]
  },
  {
   "cell_type": "code",
   "execution_count": 41,
   "metadata": {},
   "outputs": [],
   "source": [
    "# Sort the data in time order\n",
    "df = df.sort_values(by='year').reset_index(drop=True)"
   ]
  },
  {
   "cell_type": "code",
   "execution_count": 25,
   "metadata": {},
   "outputs": [
    {
     "data": {
      "text/plain": [
       "2022"
      ]
     },
     "execution_count": 25,
     "metadata": {},
     "output_type": "execute_result"
    }
   ],
   "source": [
    "df.year.max()"
   ]
  },
  {
   "cell_type": "markdown",
   "metadata": {},
   "source": [
    "#### Split Training/Testing Sets\n",
    "- We'll split by hand so we can do things in temporal order just to be safe\n",
    "- 2014 - 2023 is 10 years of data so we'll take 2014 to 2021 for trainig"
   ]
  },
  {
   "cell_type": "code",
   "execution_count": 42,
   "metadata": {},
   "outputs": [],
   "source": [
    "split_year = 2022\n",
    "df_train = df[df.year <= split_year]\n",
    "df_test = df[df.year > split_year]"
   ]
  },
  {
   "cell_type": "markdown",
   "metadata": {},
   "source": [
    "- Can't include coach_win_pct when doing regression"
   ]
  },
  {
   "cell_type": "code",
   "execution_count": 43,
   "metadata": {},
   "outputs": [],
   "source": [
    "# Grab features you want\n",
    "X_cols = ['elo', 'prev_win_pct', 'conference_rating', 'talent_level', \n",
    "          'usages', 'off_success_rate', 'sos', 'sor', 'career_win_pct']\n",
    "# Grab the target. Be careful as y_train needs to be a Pandas series or 1D numpy array\n",
    "y_cols = 'win_pct'\n",
    "\n",
    "X_train, X_test = df_train[X_cols], df_test[X_cols]\n",
    "y_train, y_test = df_train[y_cols], df_test[y_cols]"
   ]
  },
  {
   "cell_type": "markdown",
   "metadata": {},
   "source": [
    "#### Feature Selection"
   ]
  },
  {
   "cell_type": "code",
   "execution_count": 44,
   "metadata": {},
   "outputs": [
    {
     "data": {
      "text/html": [
       "<style>#sk-container-id-4 {\n",
       "  /* Definition of color scheme common for light and dark mode */\n",
       "  --sklearn-color-text: black;\n",
       "  --sklearn-color-line: gray;\n",
       "  /* Definition of color scheme for unfitted estimators */\n",
       "  --sklearn-color-unfitted-level-0: #fff5e6;\n",
       "  --sklearn-color-unfitted-level-1: #f6e4d2;\n",
       "  --sklearn-color-unfitted-level-2: #ffe0b3;\n",
       "  --sklearn-color-unfitted-level-3: chocolate;\n",
       "  /* Definition of color scheme for fitted estimators */\n",
       "  --sklearn-color-fitted-level-0: #f0f8ff;\n",
       "  --sklearn-color-fitted-level-1: #d4ebff;\n",
       "  --sklearn-color-fitted-level-2: #b3dbfd;\n",
       "  --sklearn-color-fitted-level-3: cornflowerblue;\n",
       "\n",
       "  /* Specific color for light theme */\n",
       "  --sklearn-color-text-on-default-background: var(--sg-text-color, var(--theme-code-foreground, var(--jp-content-font-color1, black)));\n",
       "  --sklearn-color-background: var(--sg-background-color, var(--theme-background, var(--jp-layout-color0, white)));\n",
       "  --sklearn-color-border-box: var(--sg-text-color, var(--theme-code-foreground, var(--jp-content-font-color1, black)));\n",
       "  --sklearn-color-icon: #696969;\n",
       "\n",
       "  @media (prefers-color-scheme: dark) {\n",
       "    /* Redefinition of color scheme for dark theme */\n",
       "    --sklearn-color-text-on-default-background: var(--sg-text-color, var(--theme-code-foreground, var(--jp-content-font-color1, white)));\n",
       "    --sklearn-color-background: var(--sg-background-color, var(--theme-background, var(--jp-layout-color0, #111)));\n",
       "    --sklearn-color-border-box: var(--sg-text-color, var(--theme-code-foreground, var(--jp-content-font-color1, white)));\n",
       "    --sklearn-color-icon: #878787;\n",
       "  }\n",
       "}\n",
       "\n",
       "#sk-container-id-4 {\n",
       "  color: var(--sklearn-color-text);\n",
       "}\n",
       "\n",
       "#sk-container-id-4 pre {\n",
       "  padding: 0;\n",
       "}\n",
       "\n",
       "#sk-container-id-4 input.sk-hidden--visually {\n",
       "  border: 0;\n",
       "  clip: rect(1px 1px 1px 1px);\n",
       "  clip: rect(1px, 1px, 1px, 1px);\n",
       "  height: 1px;\n",
       "  margin: -1px;\n",
       "  overflow: hidden;\n",
       "  padding: 0;\n",
       "  position: absolute;\n",
       "  width: 1px;\n",
       "}\n",
       "\n",
       "#sk-container-id-4 div.sk-dashed-wrapped {\n",
       "  border: 1px dashed var(--sklearn-color-line);\n",
       "  margin: 0 0.4em 0.5em 0.4em;\n",
       "  box-sizing: border-box;\n",
       "  padding-bottom: 0.4em;\n",
       "  background-color: var(--sklearn-color-background);\n",
       "}\n",
       "\n",
       "#sk-container-id-4 div.sk-container {\n",
       "  /* jupyter's `normalize.less` sets `[hidden] { display: none; }`\n",
       "     but bootstrap.min.css set `[hidden] { display: none !important; }`\n",
       "     so we also need the `!important` here to be able to override the\n",
       "     default hidden behavior on the sphinx rendered scikit-learn.org.\n",
       "     See: https://github.com/scikit-learn/scikit-learn/issues/21755 */\n",
       "  display: inline-block !important;\n",
       "  position: relative;\n",
       "}\n",
       "\n",
       "#sk-container-id-4 div.sk-text-repr-fallback {\n",
       "  display: none;\n",
       "}\n",
       "\n",
       "div.sk-parallel-item,\n",
       "div.sk-serial,\n",
       "div.sk-item {\n",
       "  /* draw centered vertical line to link estimators */\n",
       "  background-image: linear-gradient(var(--sklearn-color-text-on-default-background), var(--sklearn-color-text-on-default-background));\n",
       "  background-size: 2px 100%;\n",
       "  background-repeat: no-repeat;\n",
       "  background-position: center center;\n",
       "}\n",
       "\n",
       "/* Parallel-specific style estimator block */\n",
       "\n",
       "#sk-container-id-4 div.sk-parallel-item::after {\n",
       "  content: \"\";\n",
       "  width: 100%;\n",
       "  border-bottom: 2px solid var(--sklearn-color-text-on-default-background);\n",
       "  flex-grow: 1;\n",
       "}\n",
       "\n",
       "#sk-container-id-4 div.sk-parallel {\n",
       "  display: flex;\n",
       "  align-items: stretch;\n",
       "  justify-content: center;\n",
       "  background-color: var(--sklearn-color-background);\n",
       "  position: relative;\n",
       "}\n",
       "\n",
       "#sk-container-id-4 div.sk-parallel-item {\n",
       "  display: flex;\n",
       "  flex-direction: column;\n",
       "}\n",
       "\n",
       "#sk-container-id-4 div.sk-parallel-item:first-child::after {\n",
       "  align-self: flex-end;\n",
       "  width: 50%;\n",
       "}\n",
       "\n",
       "#sk-container-id-4 div.sk-parallel-item:last-child::after {\n",
       "  align-self: flex-start;\n",
       "  width: 50%;\n",
       "}\n",
       "\n",
       "#sk-container-id-4 div.sk-parallel-item:only-child::after {\n",
       "  width: 0;\n",
       "}\n",
       "\n",
       "/* Serial-specific style estimator block */\n",
       "\n",
       "#sk-container-id-4 div.sk-serial {\n",
       "  display: flex;\n",
       "  flex-direction: column;\n",
       "  align-items: center;\n",
       "  background-color: var(--sklearn-color-background);\n",
       "  padding-right: 1em;\n",
       "  padding-left: 1em;\n",
       "}\n",
       "\n",
       "\n",
       "/* Toggleable style: style used for estimator/Pipeline/ColumnTransformer box that is\n",
       "clickable and can be expanded/collapsed.\n",
       "- Pipeline and ColumnTransformer use this feature and define the default style\n",
       "- Estimators will overwrite some part of the style using the `sk-estimator` class\n",
       "*/\n",
       "\n",
       "/* Pipeline and ColumnTransformer style (default) */\n",
       "\n",
       "#sk-container-id-4 div.sk-toggleable {\n",
       "  /* Default theme specific background. It is overwritten whether we have a\n",
       "  specific estimator or a Pipeline/ColumnTransformer */\n",
       "  background-color: var(--sklearn-color-background);\n",
       "}\n",
       "\n",
       "/* Toggleable label */\n",
       "#sk-container-id-4 label.sk-toggleable__label {\n",
       "  cursor: pointer;\n",
       "  display: block;\n",
       "  width: 100%;\n",
       "  margin-bottom: 0;\n",
       "  padding: 0.5em;\n",
       "  box-sizing: border-box;\n",
       "  text-align: center;\n",
       "}\n",
       "\n",
       "#sk-container-id-4 label.sk-toggleable__label-arrow:before {\n",
       "  /* Arrow on the left of the label */\n",
       "  content: \"▸\";\n",
       "  float: left;\n",
       "  margin-right: 0.25em;\n",
       "  color: var(--sklearn-color-icon);\n",
       "}\n",
       "\n",
       "#sk-container-id-4 label.sk-toggleable__label-arrow:hover:before {\n",
       "  color: var(--sklearn-color-text);\n",
       "}\n",
       "\n",
       "/* Toggleable content - dropdown */\n",
       "\n",
       "#sk-container-id-4 div.sk-toggleable__content {\n",
       "  max-height: 0;\n",
       "  max-width: 0;\n",
       "  overflow: hidden;\n",
       "  text-align: left;\n",
       "  /* unfitted */\n",
       "  background-color: var(--sklearn-color-unfitted-level-0);\n",
       "}\n",
       "\n",
       "#sk-container-id-4 div.sk-toggleable__content.fitted {\n",
       "  /* fitted */\n",
       "  background-color: var(--sklearn-color-fitted-level-0);\n",
       "}\n",
       "\n",
       "#sk-container-id-4 div.sk-toggleable__content pre {\n",
       "  margin: 0.2em;\n",
       "  border-radius: 0.25em;\n",
       "  color: var(--sklearn-color-text);\n",
       "  /* unfitted */\n",
       "  background-color: var(--sklearn-color-unfitted-level-0);\n",
       "}\n",
       "\n",
       "#sk-container-id-4 div.sk-toggleable__content.fitted pre {\n",
       "  /* unfitted */\n",
       "  background-color: var(--sklearn-color-fitted-level-0);\n",
       "}\n",
       "\n",
       "#sk-container-id-4 input.sk-toggleable__control:checked~div.sk-toggleable__content {\n",
       "  /* Expand drop-down */\n",
       "  max-height: 200px;\n",
       "  max-width: 100%;\n",
       "  overflow: auto;\n",
       "}\n",
       "\n",
       "#sk-container-id-4 input.sk-toggleable__control:checked~label.sk-toggleable__label-arrow:before {\n",
       "  content: \"▾\";\n",
       "}\n",
       "\n",
       "/* Pipeline/ColumnTransformer-specific style */\n",
       "\n",
       "#sk-container-id-4 div.sk-label input.sk-toggleable__control:checked~label.sk-toggleable__label {\n",
       "  color: var(--sklearn-color-text);\n",
       "  background-color: var(--sklearn-color-unfitted-level-2);\n",
       "}\n",
       "\n",
       "#sk-container-id-4 div.sk-label.fitted input.sk-toggleable__control:checked~label.sk-toggleable__label {\n",
       "  background-color: var(--sklearn-color-fitted-level-2);\n",
       "}\n",
       "\n",
       "/* Estimator-specific style */\n",
       "\n",
       "/* Colorize estimator box */\n",
       "#sk-container-id-4 div.sk-estimator input.sk-toggleable__control:checked~label.sk-toggleable__label {\n",
       "  /* unfitted */\n",
       "  background-color: var(--sklearn-color-unfitted-level-2);\n",
       "}\n",
       "\n",
       "#sk-container-id-4 div.sk-estimator.fitted input.sk-toggleable__control:checked~label.sk-toggleable__label {\n",
       "  /* fitted */\n",
       "  background-color: var(--sklearn-color-fitted-level-2);\n",
       "}\n",
       "\n",
       "#sk-container-id-4 div.sk-label label.sk-toggleable__label,\n",
       "#sk-container-id-4 div.sk-label label {\n",
       "  /* The background is the default theme color */\n",
       "  color: var(--sklearn-color-text-on-default-background);\n",
       "}\n",
       "\n",
       "/* On hover, darken the color of the background */\n",
       "#sk-container-id-4 div.sk-label:hover label.sk-toggleable__label {\n",
       "  color: var(--sklearn-color-text);\n",
       "  background-color: var(--sklearn-color-unfitted-level-2);\n",
       "}\n",
       "\n",
       "/* Label box, darken color on hover, fitted */\n",
       "#sk-container-id-4 div.sk-label.fitted:hover label.sk-toggleable__label.fitted {\n",
       "  color: var(--sklearn-color-text);\n",
       "  background-color: var(--sklearn-color-fitted-level-2);\n",
       "}\n",
       "\n",
       "/* Estimator label */\n",
       "\n",
       "#sk-container-id-4 div.sk-label label {\n",
       "  font-family: monospace;\n",
       "  font-weight: bold;\n",
       "  display: inline-block;\n",
       "  line-height: 1.2em;\n",
       "}\n",
       "\n",
       "#sk-container-id-4 div.sk-label-container {\n",
       "  text-align: center;\n",
       "}\n",
       "\n",
       "/* Estimator-specific */\n",
       "#sk-container-id-4 div.sk-estimator {\n",
       "  font-family: monospace;\n",
       "  border: 1px dotted var(--sklearn-color-border-box);\n",
       "  border-radius: 0.25em;\n",
       "  box-sizing: border-box;\n",
       "  margin-bottom: 0.5em;\n",
       "  /* unfitted */\n",
       "  background-color: var(--sklearn-color-unfitted-level-0);\n",
       "}\n",
       "\n",
       "#sk-container-id-4 div.sk-estimator.fitted {\n",
       "  /* fitted */\n",
       "  background-color: var(--sklearn-color-fitted-level-0);\n",
       "}\n",
       "\n",
       "/* on hover */\n",
       "#sk-container-id-4 div.sk-estimator:hover {\n",
       "  /* unfitted */\n",
       "  background-color: var(--sklearn-color-unfitted-level-2);\n",
       "}\n",
       "\n",
       "#sk-container-id-4 div.sk-estimator.fitted:hover {\n",
       "  /* fitted */\n",
       "  background-color: var(--sklearn-color-fitted-level-2);\n",
       "}\n",
       "\n",
       "/* Specification for estimator info (e.g. \"i\" and \"?\") */\n",
       "\n",
       "/* Common style for \"i\" and \"?\" */\n",
       "\n",
       ".sk-estimator-doc-link,\n",
       "a:link.sk-estimator-doc-link,\n",
       "a:visited.sk-estimator-doc-link {\n",
       "  float: right;\n",
       "  font-size: smaller;\n",
       "  line-height: 1em;\n",
       "  font-family: monospace;\n",
       "  background-color: var(--sklearn-color-background);\n",
       "  border-radius: 1em;\n",
       "  height: 1em;\n",
       "  width: 1em;\n",
       "  text-decoration: none !important;\n",
       "  margin-left: 1ex;\n",
       "  /* unfitted */\n",
       "  border: var(--sklearn-color-unfitted-level-1) 1pt solid;\n",
       "  color: var(--sklearn-color-unfitted-level-1);\n",
       "}\n",
       "\n",
       ".sk-estimator-doc-link.fitted,\n",
       "a:link.sk-estimator-doc-link.fitted,\n",
       "a:visited.sk-estimator-doc-link.fitted {\n",
       "  /* fitted */\n",
       "  border: var(--sklearn-color-fitted-level-1) 1pt solid;\n",
       "  color: var(--sklearn-color-fitted-level-1);\n",
       "}\n",
       "\n",
       "/* On hover */\n",
       "div.sk-estimator:hover .sk-estimator-doc-link:hover,\n",
       ".sk-estimator-doc-link:hover,\n",
       "div.sk-label-container:hover .sk-estimator-doc-link:hover,\n",
       ".sk-estimator-doc-link:hover {\n",
       "  /* unfitted */\n",
       "  background-color: var(--sklearn-color-unfitted-level-3);\n",
       "  color: var(--sklearn-color-background);\n",
       "  text-decoration: none;\n",
       "}\n",
       "\n",
       "div.sk-estimator.fitted:hover .sk-estimator-doc-link.fitted:hover,\n",
       ".sk-estimator-doc-link.fitted:hover,\n",
       "div.sk-label-container:hover .sk-estimator-doc-link.fitted:hover,\n",
       ".sk-estimator-doc-link.fitted:hover {\n",
       "  /* fitted */\n",
       "  background-color: var(--sklearn-color-fitted-level-3);\n",
       "  color: var(--sklearn-color-background);\n",
       "  text-decoration: none;\n",
       "}\n",
       "\n",
       "/* Span, style for the box shown on hovering the info icon */\n",
       ".sk-estimator-doc-link span {\n",
       "  display: none;\n",
       "  z-index: 9999;\n",
       "  position: relative;\n",
       "  font-weight: normal;\n",
       "  right: .2ex;\n",
       "  padding: .5ex;\n",
       "  margin: .5ex;\n",
       "  width: min-content;\n",
       "  min-width: 20ex;\n",
       "  max-width: 50ex;\n",
       "  color: var(--sklearn-color-text);\n",
       "  box-shadow: 2pt 2pt 4pt #999;\n",
       "  /* unfitted */\n",
       "  background: var(--sklearn-color-unfitted-level-0);\n",
       "  border: .5pt solid var(--sklearn-color-unfitted-level-3);\n",
       "}\n",
       "\n",
       ".sk-estimator-doc-link.fitted span {\n",
       "  /* fitted */\n",
       "  background: var(--sklearn-color-fitted-level-0);\n",
       "  border: var(--sklearn-color-fitted-level-3);\n",
       "}\n",
       "\n",
       ".sk-estimator-doc-link:hover span {\n",
       "  display: block;\n",
       "}\n",
       "\n",
       "/* \"?\"-specific style due to the `<a>` HTML tag */\n",
       "\n",
       "#sk-container-id-4 a.estimator_doc_link {\n",
       "  float: right;\n",
       "  font-size: 1rem;\n",
       "  line-height: 1em;\n",
       "  font-family: monospace;\n",
       "  background-color: var(--sklearn-color-background);\n",
       "  border-radius: 1rem;\n",
       "  height: 1rem;\n",
       "  width: 1rem;\n",
       "  text-decoration: none;\n",
       "  /* unfitted */\n",
       "  color: var(--sklearn-color-unfitted-level-1);\n",
       "  border: var(--sklearn-color-unfitted-level-1) 1pt solid;\n",
       "}\n",
       "\n",
       "#sk-container-id-4 a.estimator_doc_link.fitted {\n",
       "  /* fitted */\n",
       "  border: var(--sklearn-color-fitted-level-1) 1pt solid;\n",
       "  color: var(--sklearn-color-fitted-level-1);\n",
       "}\n",
       "\n",
       "/* On hover */\n",
       "#sk-container-id-4 a.estimator_doc_link:hover {\n",
       "  /* unfitted */\n",
       "  background-color: var(--sklearn-color-unfitted-level-3);\n",
       "  color: var(--sklearn-color-background);\n",
       "  text-decoration: none;\n",
       "}\n",
       "\n",
       "#sk-container-id-4 a.estimator_doc_link.fitted:hover {\n",
       "  /* fitted */\n",
       "  background-color: var(--sklearn-color-fitted-level-3);\n",
       "}\n",
       "</style><div id=\"sk-container-id-4\" class=\"sk-top-container\"><div class=\"sk-text-repr-fallback\"><pre>RandomForestRegressor(max_depth=4, n_estimators=500)</pre><b>In a Jupyter environment, please rerun this cell to show the HTML representation or trust the notebook. <br />On GitHub, the HTML representation is unable to render, please try loading this page with nbviewer.org.</b></div><div class=\"sk-container\" hidden><div class=\"sk-item\"><div class=\"sk-estimator fitted sk-toggleable\"><input class=\"sk-toggleable__control sk-hidden--visually\" id=\"sk-estimator-id-4\" type=\"checkbox\" checked><label for=\"sk-estimator-id-4\" class=\"sk-toggleable__label fitted sk-toggleable__label-arrow fitted\">&nbsp;&nbsp;RandomForestRegressor<a class=\"sk-estimator-doc-link fitted\" rel=\"noreferrer\" target=\"_blank\" href=\"https://scikit-learn.org/1.4/modules/generated/sklearn.ensemble.RandomForestRegressor.html\">?<span>Documentation for RandomForestRegressor</span></a><span class=\"sk-estimator-doc-link fitted\">i<span>Fitted</span></span></label><div class=\"sk-toggleable__content fitted\"><pre>RandomForestRegressor(max_depth=4, n_estimators=500)</pre></div> </div></div></div></div>"
      ],
      "text/plain": [
       "RandomForestRegressor(max_depth=4, n_estimators=500)"
      ]
     },
     "execution_count": 44,
     "metadata": {},
     "output_type": "execute_result"
    }
   ],
   "source": [
    "from sklearn.ensemble import RandomForestClassifier, RandomForestRegressor\n",
    "\n",
    "rf = RandomForestRegressor(n_estimators=500, max_depth=4)\n",
    "rf.fit(X_train, y_train)"
   ]
  },
  {
   "cell_type": "code",
   "execution_count": 45,
   "metadata": {},
   "outputs": [
    {
     "data": {
      "image/png": "[encoded data removed]",
      "text/plain": [
       "<Figure size 800x400 with 1 Axes>"
      ]
     },
     "metadata": {},
     "output_type": "display_data"
    }
   ],
   "source": [
    "# Use my premade method for graphing feature importance\n",
    "def graph_feature_importance(model, data):\n",
    "    \"\"\"\n",
    "    model = trained model object from sklearn\n",
    "    data = Usually X_train\n",
    "    \"\"\"\n",
    "    importances = model.feature_importances_\n",
    "    indices = np.argsort(importances)[-10:] # Get top 10 most important features\n",
    "    features = data.columns\n",
    "    f, ax = plt.subplots(figsize=(8, 4))\n",
    "    plt.title('Feature Importances', fontweight='bold', fontsize=14)\n",
    "    plt.barh(range(len(indices)), importances[indices])#, color = colormap.colors)\n",
    "    plt.yticks(range(len(indices)), [features[i] for i in indices])\n",
    "    plt.xlabel('Relative Importance')\n",
    "    plt.tight_layout()\n",
    "    plt.savefig('images/feature_imporances.png')\n",
    "    plt.show()\n",
    "\n",
    "graph_feature_importance(rf, X_train)"
   ]
  },
  {
   "cell_type": "markdown",
   "metadata": {},
   "source": [
    "Let's setup a pipeline to scale our features"
   ]
  },
  {
   "cell_type": "code",
   "execution_count": 46,
   "metadata": {},
   "outputs": [
    {
     "data": {
      "text/html": [
       "<div>\n",
       "<style scoped>\n",
       "    .dataframe tbody tr th:only-of-type {\n",
       "        vertical-align: middle;\n",
       "    }\n",
       "\n",
       "    .dataframe tbody tr th {\n",
       "        vertical-align: top;\n",
       "    }\n",
       "\n",
       "    .dataframe thead th {\n",
       "        text-align: right;\n",
       "    }\n",
       "</style>\n",
       "<table border=\"1\" class=\"dataframe\">\n",
       "  <thead>\n",
       "    <tr style=\"text-align: right;\">\n",
       "      <th></th>\n",
       "      <th>elo</th>\n",
       "      <th>prev_win_pct</th>\n",
       "      <th>conference_rating</th>\n",
       "      <th>talent_level</th>\n",
       "      <th>usages</th>\n",
       "      <th>off_success_rate</th>\n",
       "      <th>sos</th>\n",
       "      <th>sor</th>\n",
       "      <th>career_win_pct</th>\n",
       "    </tr>\n",
       "  </thead>\n",
       "  <tbody>\n",
       "    <tr>\n",
       "      <th>0</th>\n",
       "      <td>-1.510068</td>\n",
       "      <td>-1.589183</td>\n",
       "      <td>-0.917165</td>\n",
       "      <td>-1.335420</td>\n",
       "      <td>0.364177</td>\n",
       "      <td>0.213572</td>\n",
       "      <td>1.316892</td>\n",
       "      <td>1.393102</td>\n",
       "      <td>0.289885</td>\n",
       "    </tr>\n",
       "    <tr>\n",
       "      <th>1</th>\n",
       "      <td>-0.123588</td>\n",
       "      <td>0.437170</td>\n",
       "      <td>-0.917165</td>\n",
       "      <td>-0.640320</td>\n",
       "      <td>-0.171471</td>\n",
       "      <td>-1.030597</td>\n",
       "      <td>1.077786</td>\n",
       "      <td>-0.041468</td>\n",
       "      <td>0.190762</td>\n",
       "    </tr>\n",
       "    <tr>\n",
       "      <th>2</th>\n",
       "      <td>1.423792</td>\n",
       "      <td>1.479295</td>\n",
       "      <td>0.994407</td>\n",
       "      <td>1.379251</td>\n",
       "      <td>-1.581846</td>\n",
       "      <td>0.902212</td>\n",
       "      <td>-0.356852</td>\n",
       "      <td>-1.421905</td>\n",
       "      <td>0.882436</td>\n",
       "    </tr>\n",
       "    <tr>\n",
       "      <th>3</th>\n",
       "      <td>-0.315299</td>\n",
       "      <td>-0.460215</td>\n",
       "      <td>-0.416202</td>\n",
       "      <td>-0.576135</td>\n",
       "      <td>-1.178882</td>\n",
       "      <td>0.115205</td>\n",
       "      <td>-0.091178</td>\n",
       "      <td>0.635216</td>\n",
       "      <td>0.424468</td>\n",
       "    </tr>\n",
       "    <tr>\n",
       "      <th>4</th>\n",
       "      <td>-1.379979</td>\n",
       "      <td>-0.836538</td>\n",
       "      <td>1.435961</td>\n",
       "      <td>-0.214990</td>\n",
       "      <td>0.531260</td>\n",
       "      <td>-0.716986</td>\n",
       "      <td>-1.313277</td>\n",
       "      <td>0.229205</td>\n",
       "      <td>-0.268018</td>\n",
       "    </tr>\n",
       "  </tbody>\n",
       "</table>\n",
       "</div>"
      ],
      "text/plain": [
       "        elo  prev_win_pct  conference_rating  talent_level    usages  \\\n",
       "0 -1.510068     -1.589183          -0.917165     -1.335420  0.364177   \n",
       "1 -0.123588      0.437170          -0.917165     -0.640320 -0.171471   \n",
       "2  1.423792      1.479295           0.994407      1.379251 -1.581846   \n",
       "3 -0.315299     -0.460215          -0.416202     -0.576135 -1.178882   \n",
       "4 -1.379979     -0.836538           1.435961     -0.214990  0.531260   \n",
       "\n",
       "   off_success_rate       sos       sor  career_win_pct  \n",
       "0          0.213572  1.316892  1.393102        0.289885  \n",
       "1         -1.030597  1.077786 -0.041468        0.190762  \n",
       "2          0.902212 -0.356852 -1.421905        0.882436  \n",
       "3          0.115205 -0.091178  0.635216        0.424468  \n",
       "4         -0.716986 -1.313277  0.229205       -0.268018  "
      ]
     },
     "execution_count": 46,
     "metadata": {},
     "output_type": "execute_result"
    }
   ],
   "source": [
    "from sklearn.preprocessing import StandardScaler\n",
    "\n",
    "# Scale data, retaining original column titles and structure. Scale on TRAINING data\n",
    "scaler = StandardScaler()\n",
    "# Fit and transform on TRAINING data\n",
    "X_train_scl = pd.DataFrame(scaler.fit_transform(X_train.copy()), \n",
    "                            columns = X_train.columns)\n",
    "# Now transform TEST data\n",
    "X_test_scl = pd.DataFrame(scaler.transform(X_test.copy()),\n",
    "                            columns = X_test.columns)\n",
    "\n",
    "X_train_scl.head()"
   ]
  },
  {
   "cell_type": "code",
   "execution_count": 47,
   "metadata": {},
   "outputs": [
    {
     "data": {
      "text/html": [
       "<div>\n",
       "<style scoped>\n",
       "    .dataframe tbody tr th:only-of-type {\n",
       "        vertical-align: middle;\n",
       "    }\n",
       "\n",
       "    .dataframe tbody tr th {\n",
       "        vertical-align: top;\n",
       "    }\n",
       "\n",
       "    .dataframe thead th {\n",
       "        text-align: right;\n",
       "    }\n",
       "</style>\n",
       "<table border=\"1\" class=\"dataframe\">\n",
       "  <thead>\n",
       "    <tr style=\"text-align: right;\">\n",
       "      <th></th>\n",
       "      <th>elo</th>\n",
       "      <th>prev_win_pct</th>\n",
       "      <th>conference_rating</th>\n",
       "      <th>talent_level</th>\n",
       "      <th>usages</th>\n",
       "      <th>off_success_rate</th>\n",
       "      <th>sos</th>\n",
       "      <th>sor</th>\n",
       "      <th>career_win_pct</th>\n",
       "    </tr>\n",
       "  </thead>\n",
       "  <tbody>\n",
       "    <tr>\n",
       "      <th>0</th>\n",
       "      <td>0.516589</td>\n",
       "      <td>0.437170</td>\n",
       "      <td>0.041224</td>\n",
       "      <td>-0.004413</td>\n",
       "      <td>-1.213281</td>\n",
       "      <td>0.834517</td>\n",
       "      <td>-0.330284</td>\n",
       "      <td>-0.772288</td>\n",
       "      <td>0.177720</td>\n",
       "    </tr>\n",
       "    <tr>\n",
       "      <th>1</th>\n",
       "      <td>-2.235830</td>\n",
       "      <td>-0.836538</td>\n",
       "      <td>-1.214899</td>\n",
       "      <td>-0.378041</td>\n",
       "      <td>0.835941</td>\n",
       "      <td>-1.201582</td>\n",
       "      <td>1.848239</td>\n",
       "      <td>1.528439</td>\n",
       "      <td>-0.274810</td>\n",
       "    </tr>\n",
       "    <tr>\n",
       "      <th>2</th>\n",
       "      <td>-0.089354</td>\n",
       "      <td>-0.836538</td>\n",
       "      <td>-0.503331</td>\n",
       "      <td>-0.850670</td>\n",
       "      <td>0.364177</td>\n",
       "      <td>-0.845487</td>\n",
       "      <td>0.679275</td>\n",
       "      <td>1.338968</td>\n",
       "      <td>-0.101996</td>\n",
       "    </tr>\n",
       "    <tr>\n",
       "      <th>3</th>\n",
       "      <td>-1.342321</td>\n",
       "      <td>-1.299704</td>\n",
       "      <td>-1.479591</td>\n",
       "      <td>-1.303463</td>\n",
       "      <td>0.270807</td>\n",
       "      <td>-0.704876</td>\n",
       "      <td>0.280765</td>\n",
       "      <td>1.744978</td>\n",
       "      <td>-0.994227</td>\n",
       "    </tr>\n",
       "    <tr>\n",
       "      <th>4</th>\n",
       "      <td>0.811002</td>\n",
       "      <td>0.437170</td>\n",
       "      <td>0.859324</td>\n",
       "      <td>0.055778</td>\n",
       "      <td>-1.680130</td>\n",
       "      <td>0.112477</td>\n",
       "      <td>0.041659</td>\n",
       "      <td>-0.745220</td>\n",
       "      <td>0.562803</td>\n",
       "    </tr>\n",
       "  </tbody>\n",
       "</table>\n",
       "</div>"
      ],
      "text/plain": [
       "        elo  prev_win_pct  conference_rating  talent_level    usages  \\\n",
       "0  0.516589      0.437170           0.041224     -0.004413 -1.213281   \n",
       "1 -2.235830     -0.836538          -1.214899     -0.378041  0.835941   \n",
       "2 -0.089354     -0.836538          -0.503331     -0.850670  0.364177   \n",
       "3 -1.342321     -1.299704          -1.479591     -1.303463  0.270807   \n",
       "4  0.811002      0.437170           0.859324      0.055778 -1.680130   \n",
       "\n",
       "   off_success_rate       sos       sor  career_win_pct  \n",
       "0          0.834517 -0.330284 -0.772288        0.177720  \n",
       "1         -1.201582  1.848239  1.528439       -0.274810  \n",
       "2         -0.845487  0.679275  1.338968       -0.101996  \n",
       "3         -0.704876  0.280765  1.744978       -0.994227  \n",
       "4          0.112477  0.041659 -0.745220        0.562803  "
      ]
     },
     "execution_count": 47,
     "metadata": {},
     "output_type": "execute_result"
    }
   ],
   "source": [
    "X_test_scl.head()"
   ]
  },
  {
   "cell_type": "markdown",
   "metadata": {},
   "source": [
    "### BELOW IS IN PROGRESS"
   ]
  },
  {
   "cell_type": "code",
   "execution_count": 48,
   "metadata": {},
   "outputs": [],
   "source": [
    "from sklearn.model_selection import TimeSeriesSplit, GridSearchCV\n",
    "from sklearn.metrics import mean_squared_error\n",
    "from sklearn.linear_model import LinearRegression\n",
    "from sklearn.ensemble import RandomForestRegressor\n",
    "from xgboost import XGBRegressor\n",
    "from tensorflow.keras.models import Sequential\n",
    "from tensorflow.keras.layers import LSTM, Dense\n",
    "from keras.callbacks import EarlyStopping"
   ]
  },
  {
   "cell_type": "code",
   "execution_count": 49,
   "metadata": {},
   "outputs": [],
   "source": [
    "# Make kfold object. Set shuffle=True to maintain time ordering and prevent data leakage from ELO\n",
    "kfold = TimeSeriesSplit(5)\n",
    "\n",
    "mses = np.zeros((5,5))\n",
    "i = 0\n",
    "for i, (train_index, test_index) in enumerate(kfold.split(X_train)):\n",
    "\n",
    "    X_tt, y_tt = X_train_scl.iloc[train_index], y_train.iloc[train_index]\n",
    "    X_ho, y_ho = X_train_scl.iloc[test_index], y_train.iloc[test_index]\n",
    "    X_ho_base, y_ho_base = X_train.iloc[test_index], y_train.iloc[test_index]\n",
    "\n",
    "    # Baseline model, take previous winning percentage\n",
    "    pred0 = X_ho_base['prev_win_pct']\n",
    "\n",
    "    # Declare Models\n",
    "    model1 = LinearRegression() # All features\n",
    "    model2 = LinearRegression() # Just ELO\n",
    "    model3 = RandomForestRegressor()\n",
    "    model4 = XGBRegressor() # Do XGB but with fine tuning\n",
    "    model5 = \n",
    "\n",
    "\n",
    "    # Train Models\n",
    "    model1.fit(X_tt, y_tt)\n",
    "    model2.fit(X_tt[['elo']], y_tt)\n",
    "    model3.fit(X_tt, y_tt)\n",
    "    model4.fit(X_tt, y_tt)\n",
    "\n",
    "    # add models to list\n",
    "    models = [None, model1, model2, model3, model4]\n",
    "\n",
    "    # Get predictions\n",
    "    pred1 = model1.predict(X_ho)\n",
    "    pred2 = model2.predict(X_ho[['elo']])\n",
    "    pred3 = model3.predict(X_ho)\n",
    "    pred4 = model4.predict(X_ho)\n",
    "\n",
    "    mses[0,i] = mean_squared_error(y_ho_base, pred0)\n",
    "    mses[1,i] = mean_squared_error(y_ho, pred1)\n",
    "    mses[2,i] = mean_squared_error(y_ho, pred2)\n",
    "    mses[3,i] = mean_squared_error(y_ho, pred3)\n",
    "    mses[4,i] = mean_squared_error(y_ho, pred4)\n",
    "    "
   ]
  },
  {
   "cell_type": "code",
   "execution_count": 50,
   "metadata": {},
   "outputs": [
    {
     "name": "stdout",
     "output_type": "stream",
     "text": [
      "Mean MSEs: [0.04840192 0.03087379 0.03388201 0.03280786 0.03925309]\n",
      "Best Model is model: 1\n"
     ]
    }
   ],
   "source": [
    "print(f'Mean MSEs: {np.mean(mses, axis=1)}')\n",
    "best_model_num = np.argmin(np.mean(mses, axis=1))\n",
    "print(f'Best Model is model: {best_model_num}')"
   ]
  },
  {
   "cell_type": "code",
   "execution_count": 51,
   "metadata": {},
   "outputs": [
    {
     "data": {
      "image/png": "[encoded data removed]",
      "text/plain": [
       "<Figure size 800x500 with 1 Axes>"
      ]
     },
     "metadata": {},
     "output_type": "display_data"
    }
   ],
   "source": [
    "## From Erdos lecture, this figure will graphically compare the performance\n",
    "plt.figure(figsize=(8,5))\n",
    "\n",
    "plt.scatter(np.zeros(5), mses[0,:], s=60, c='white', edgecolor='black', label=\"Single Split\")\n",
    "plt.scatter(np.ones(5), mses[1,:], s=60, c='white', edgecolor='black')\n",
    "plt.scatter(2*np.ones(5), mses[2,:], s=60, c='white', edgecolor='black')\n",
    "plt.scatter(3*np.ones(5), mses[3,:], s=60, c='white', edgecolor='black')\n",
    "plt.scatter(4*np.ones(5), mses[3,:], s=60, c='white', edgecolor='black')\n",
    "plt.scatter([0,1,2,3,4], np.mean(mses, axis=1), s=60, c='r',marker='X',label=\"Mean\")\n",
    "\n",
    "plt.legend(fontsize=12)\n",
    "\n",
    "plt.xticks([0,1,2,3, 4],[\"Baseline\", \"Model 1\", \"Model 2\", \"Model 3\", \"Model 4\"], fontsize=10)\n",
    "plt.yticks(fontsize=10)\n",
    "\n",
    "plt.ylabel(\"MSE\", fontsize=12)\n",
    "plt.savefig('images/cross-val-mses.png')\n",
    "plt.show()"
   ]
  },
  {
   "cell_type": "markdown",
   "metadata": {},
   "source": [
    "### Testing the Model\n",
    "- Take the best performing model and use for prediction"
   ]
  },
  {
   "cell_type": "code",
   "execution_count": 52,
   "metadata": {},
   "outputs": [
    {
     "name": "stdout",
     "output_type": "stream",
     "text": [
      "Best Model MSE = 0.02570476495432105\n"
     ]
    }
   ],
   "source": [
    "# Get the best model\n",
    "best_model = models[best_model_num]\n",
    "\n",
    "y_pred = best_model.predict(X_test_scl)\n",
    "mse_test = mean_squared_error(y_pred, y_test)\n",
    "print(f'Best Model MSE = {mse_test}')"
   ]
  },
  {
   "cell_type": "markdown",
   "metadata": {},
   "source": [
    "To interpret the error, we did the following:\n",
    "1. Multiply the win percentage by 12 season games and round to the nearest number of wins\n",
    "2. Find the RMSE of the predicted vs. actual wins"
   ]
  },
  {
   "cell_type": "code",
   "execution_count": 53,
   "metadata": {},
   "outputs": [
    {
     "name": "stdout",
     "output_type": "stream",
     "text": [
      "RMSE of Best Model x 12 = 1.9239246745707668\n"
     ]
    }
   ],
   "source": [
    "print(f'RMSE of Best Model x 12 = {12*np.sqrt(mse_test)}')"
   ]
  },
  {
   "cell_type": "markdown",
   "metadata": {},
   "source": [
    "Compared to the baseline model RMSE (multiply by 12 to get number of games)"
   ]
  },
  {
   "cell_type": "code",
   "execution_count": 54,
   "metadata": {},
   "outputs": [
    {
     "name": "stdout",
     "output_type": "stream",
     "text": [
      "RMSE of Baseline Model x 12 = 2.282922932783502\n"
     ]
    }
   ],
   "source": [
    "y_pred_base = X_test['prev_win_pct']\n",
    "print(f'RMSE of Baseline Model x 12 = {12*np.sqrt(mean_squared_error(y_test, y_pred_base))}')"
   ]
  },
  {
   "cell_type": "markdown",
   "metadata": {},
   "source": [
    "So we see an improvement over the baseline of..."
   ]
  },
  {
   "cell_type": "code",
   "execution_count": 55,
   "metadata": {},
   "outputs": [
    {
     "data": {
      "text/plain": [
       "17.067328875196083"
      ]
     },
     "execution_count": 55,
     "metadata": {},
     "output_type": "execute_result"
    }
   ],
   "source": [
    "def percent_diff(a, b):\n",
    "    return np.abs((a - b) / ((a + b) / 2)) * 100\n",
    "\n",
    "percent_diff(12*np.sqrt(mse_test),12*np.sqrt(mean_squared_error(y_test, y_pred_base)))"
   ]
  },
  {
   "cell_type": "markdown",
   "metadata": {},
   "source": [
    "### Hyperparameter Tuning using XGBoost"
   ]
  },
  {
   "cell_type": "code",
   "execution_count": null,
   "metadata": {},
   "outputs": [],
   "source": [
    "param_grid = {\n",
    "    'n_estimators': [100, 200, 300],\n",
    "    'learning_rate': [0.05, 0.1, 0.2],\n",
    "    'max_depth': [3, 4, 5]\n",
    "    # Add more parameters as needed\n",
    "}"
   ]
  },
  {
   "cell_type": "markdown",
   "metadata": {},
   "source": [
    "### Trying Some Deep Learning Methods\n",
    "- LSTMs often used for time series"
   ]
  },
  {
   "cell_type": "code",
   "execution_count": 72,
   "metadata": {},
   "outputs": [],
   "source": [
    "# Reshape data from (samples, features) to (samples, time steps, features)\n",
    "X_train_scl_reshape = np.reshape(X_train_scl , (X_train_scl.shape[0], 1, X_train_scl.shape[1]))\n",
    "X_test_scl_reshape = np.reshape(X_test_scl , (X_test_scl.shape[0], 1, X_test_scl.shape[1]))"
   ]
  },
  {
   "cell_type": "code",
   "execution_count": null,
   "metadata": {},
   "outputs": [],
   "source": [
    "BATCH_SIZE = 32\n",
    "N_EPOCHS = 50\n",
    "num_batches = len(X_train_scl) // BATCH_SIZE\n"
   ]
  },
  {
   "cell_type": "code",
   "execution_count": 70,
   "metadata": {},
   "outputs": [],
   "source": [
    "# Make kfold object. Set shuffle=True to maintain time ordering and prevent data leakage from ELO\n",
    "kfold = TimeSeriesSplit(5)\n",
    "\n",
    "mses = []\n",
    "histories = []\n",
    "i = 0\n",
    "for i, (train_index, test_index) in enumerate(kfold.split(X_train)):\n",
    "\n",
    "    X_tt, y_tt = X_train_scl.iloc[train_index], y_train.iloc[train_index]\n",
    "    X_ho, y_ho = X_train_scl.iloc[test_index], y_train.iloc[test_index]\n",
    "    X_ho_base, y_ho_base = X_train.iloc[test_index], y_train.iloc[test_index]\n",
    "\n",
    "    # Reshape data from (samples, features) to (samples, time steps, features)\n",
    "    X_tt_reshape = np.reshape(X_tt , (X_tt.shape[0], 1, X_tt.shape[1]))\n",
    "    X_ho_reshape = np.reshape(X_ho , (X_ho.shape[0], 1, X_ho.shape[1]))\n",
    "\n",
    "    # Baseline model, take previous winning percentage\n",
    "    pred0 = X_ho_base['prev_win_pct']\n",
    "\n",
    "    # Declare and Compile Models\n",
    "    model_lstm = Sequential([\n",
    "        LSTM(50, activation='relu'),\n",
    "        Dense(1)\n",
    "    ])\n",
    "    model_lstm.compile(optimizer='adam', loss='mse')\n",
    "    early_stop = EarlyStopping(monitor='val_loss', patience=3, verbose=0)\n",
    "\n",
    "    # Train and store history (which includes predictions)\n",
    "    history = model_lstm.fit(X_tt_reshape, \n",
    "            y_tt, \n",
    "            epochs=N_EPOCHS, \n",
    "            batch_size=BATCH_SIZE, \n",
    "            validation_data=(X_ho_reshape, y_ho),\n",
    "            callbacks=[early_stop],\n",
    "            verbose=0)\n",
    "    histories.append(history)\n",
    "\n",
    "    # Get mses\n",
    "    mses.append(min(history.history['val_loss']))\n",
    "    "
   ]
  },
  {
   "cell_type": "code",
   "execution_count": 73,
   "metadata": {},
   "outputs": [
    {
     "name": "stdout",
     "output_type": "stream",
     "text": [
      "MSEs for Each Cross Val: [0.02729986421763897, 0.030569111928343773, 0.029130928218364716, 0.04703891649842262, 0.03225584328174591]\n",
      "Average MSE: 0.0332589328289032\n"
     ]
    }
   ],
   "source": [
    "print(f\"MSEs for Each Cross Val: {mses}\")\n",
    "print(f'Average MSE: {np.mean(mses)}')"
   ]
  },
  {
   "cell_type": "code",
   "execution_count": 74,
   "metadata": {},
   "outputs": [
    {
     "name": "stdout",
     "output_type": "stream",
     "text": [
      "4/4 [==============================] - 0s 6ms/step\n",
      "LSTM Test MSE: 0.02603916327508988\n"
     ]
    }
   ],
   "source": [
    "# Get results for test set\n",
    "y_pred = model_lstm.predict(X_test_scl_reshape)\n",
    "lstm_error = mean_squared_error(y_pred, y_test)\n",
    "print(f'LSTM Test MSE: {lstm_error}')"
   ]
  },
  {
   "cell_type": "code",
   "execution_count": 75,
   "metadata": {},
   "outputs": [
    {
     "data": {
      "text/plain": [
       "16.42559532318031"
      ]
     },
     "execution_count": 75,
     "metadata": {},
     "output_type": "execute_result"
    }
   ],
   "source": [
    "# Compare to baseline\n",
    "percent_diff(np.sqrt(lstm_error),np.sqrt(mean_squared_error(y_test, y_pred_base)))"
   ]
  },
  {
   "cell_type": "code",
   "execution_count": 64,
   "metadata": {},
   "outputs": [
    {
     "name": "stderr",
     "output_type": "stream",
     "text": [
      "/var/folders/70/g0t97b0x2r964_f_p7d3sgwc0000gn/T/ipykernel_15104/3215021690.py:11: UserWarning: Tight layout not applied. tight_layout cannot make axes width small enough to accommodate all axes decorations\n",
      "  plt.tight_layout()\n"
     ]
    },
    {
     "data": {
      "image/png": "[encoded data removed]",
      "text/plain": [
       "<Figure size 1500x400 with 5 Axes>"
      ]
     },
     "metadata": {},
     "output_type": "display_data"
    }
   ],
   "source": [
    "# Plot the loss history\n",
    "fig, axes = plt.subplots(1,5, figsize=(15,4))\n",
    "for i, history in enumerate(histories):\n",
    "    axes[i].plot(history.history['loss'], label='train')\n",
    "    axes[i].plot(history.history['val_loss'], label='validation')\n",
    "    axes[i].text(0.95, 0.8, f\"Best LSTM MSE: {min(history.history['val_loss']):.4f}\", ha='right', va='center', transform=plt.gca().transAxes, fontweight='bold')\n",
    "    axes[i].text(0.95, 0.75, f\"Baseline MSE: {np.sqrt(mean_squared_error(y_test, y_pred_base)):.4f}\", ha='right', va='center', transform=plt.gca().transAxes, fontweight='bold')\n",
    "    axes[i].legend()\n",
    "\n",
    "plt.suptitle('MSE vs. Epochs for LSTM with Cross Validation', fontweight='bold')\n",
    "plt.tight_layout()\n",
    "plt.savefig('images/lstm_loss.png')\n",
    "plt.show()"
   ]
  },
  {
   "cell_type": "markdown",
   "metadata": {},
   "source": [
    "#### LSTM w/o Cross Validation"
   ]
  },
  {
   "cell_type": "code",
   "execution_count": 76,
   "metadata": {},
   "outputs": [
    {
     "name": "stdout",
     "output_type": "stream",
     "text": [
      "Epoch 16: early stopping\n",
      "4/4 [==============================] - 0s 4ms/step\n"
     ]
    }
   ],
   "source": [
    "BATCH_SIZE = 32\n",
    "N_EPOCHS = 50\n",
    "num_batches = len(X_train_scl) // BATCH_SIZE\n",
    "\n",
    "model = Sequential([\n",
    "    LSTM(50, activation='relu'),\n",
    "    Dense(1)\n",
    "])\n",
    "\n",
    "early_stop = EarlyStopping(monitor='val_loss', patience=3, verbose=1)\n",
    "\n",
    "model.compile(optimizer='adam', loss='mse')\n",
    "history = model.fit(X_train_scl_reshape, \n",
    "            y_train, \n",
    "            epochs=N_EPOCHS, \n",
    "            batch_size=BATCH_SIZE, \n",
    "            validation_data=(X_test_scl_reshape, y_test),\n",
    "            callbacks=[early_stop],\n",
    "            verbose=0)\n",
    "y_pred = model.predict(X_test_scl_reshape)"
   ]
  },
  {
   "cell_type": "code",
   "execution_count": 77,
   "metadata": {},
   "outputs": [
    {
     "data": {
      "image/png": "[encoded data removed]",
      "text/plain": [
       "<Figure size 640x480 with 1 Axes>"
      ]
     },
     "metadata": {},
     "output_type": "display_data"
    }
   ],
   "source": [
    "# Plot the loss history\n",
    "plt.plot(history.history['loss'], label='train')\n",
    "plt.plot(history.history['val_loss'], label='validation')\n",
    "plt.title('MSE vs. Epochs for LSTM', fontweight='bold')\n",
    "plt.text(0.95, 0.8, f\"Best LSTM MSE: {min(history.history['val_loss']):.4f}\", ha='right', va='center', transform=plt.gca().transAxes, fontweight='bold')\n",
    "plt.text(0.95, 0.75, f\"Baseline MSE: {np.sqrt(mean_squared_error(y_test, y_pred_base)):.4f}\", ha='right', va='center', transform=plt.gca().transAxes, fontweight='bold')\n",
    "plt.legend()\n",
    "plt.savefig('images/lstm_loss.png')\n",
    "plt.show()"
   ]
  },
  {
   "cell_type": "code",
   "execution_count": 78,
   "metadata": {},
   "outputs": [
    {
     "data": {
      "text/plain": [
       "16.742691265642502"
      ]
     },
     "execution_count": 78,
     "metadata": {},
     "output_type": "execute_result"
    }
   ],
   "source": [
    "# Take the best val_loss convert into % difference with base model\n",
    "best_mse = min(history.history['val_loss'])\n",
    "\n",
    "percent_diff(np.sqrt(best_mse),np.sqrt(mean_squared_error(y_test, y_pred_base)))"
   ]
  }
 ],
 "metadata": {
  "kernelspec": {
   "display_name": "erdos_may_2024",
   "language": "python",
   "name": "python3"
  },
  "language_info": {
   "codemirror_mode": {
    "name": "ipython",
    "version": 3
   },
   "file_extension": ".py",
   "mimetype": "text/x-python",
   "name": "python",
   "nbconvert_exporter": "python",
   "pygments_lexer": "ipython3",
   "version": "3.11.9"
  }
 },
 "nbformat": 4,
 "nbformat_minor": 2
}
