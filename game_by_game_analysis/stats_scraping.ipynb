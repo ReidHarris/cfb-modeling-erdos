{
 "cells": [
  {
   "cell_type": "code",
   "execution_count": 1,
   "id": "abaa7e06",
   "metadata": {},
   "outputs": [],
   "source": [
    "import pandas as pd\n",
    "import numpy as np"
   ]
  },
  {
   "cell_type": "markdown",
   "id": "a170b5fe",
   "metadata": {},
   "source": [
    "#### Get game stats from CFBD API."
   ]
  },
  {
   "cell_type": "code",
   "execution_count": null,
   "id": "7dcc66ea",
   "metadata": {},
   "outputs": [],
   "source": [
    "import time\n",
    "import cfbd\n",
    "from cfbd.rest import ApiException\n",
    "from dotenv import dotenv_values\n",
    "\n",
    "# Configure API key authorization: ApiKeyAuth\n",
    "env_vars = dotenv_values('.env')\n",
    "\n",
    "configuration = cfbd.Configuration()\n",
    "configuration.api_key['Authorization'] = 'zbg8Bi/2L7I3THKreAd+Z1MN3BQAQ7QJy5Csc10X8ByaOzAyWK+qsXC59U6Z96ap'\n",
    "configuration.api_key_prefix['Authorization'] = 'Bearer'\n",
    "\n",
    "api_config = cfbd.ApiClient(configuration)\n",
    "api_instance = cfbd.GamesApi(api_config)\n",
    "\n",
    "def get_game_info(games) :\n",
    "    team_dict = [\n",
    "        dict(id = g.id,\n",
    "            team1 = g.teams[0].school,\n",
    "            team1_pts = g.teams[0].points,\n",
    "            team1_home_away = g.teams[0].home_away,\n",
    "            **{\"team1_\" + x.category : x.stat for x in g.teams[0].stats},\n",
    "            team2 = g.teams[1].school,\n",
    "            team2_pts = g.teams[1].points,\n",
    "            team2_home_away = g.teams[1].home_away,\n",
    "            **{\"team2_\" + x.category : x.stat for x in g.teams[1].stats}) for g in games]\n",
    "    return pd.DataFrame(team_dict)\n",
    "\n",
    "def get_games_for_year(api, year) :\n",
    "    data_frames = []\n",
    "    for week in range(1, 17) :\n",
    "        print(\"Fetching week \" + str(week) + \".\\n\")\n",
    "        api_response = api.get_team_game_stats(year=year, week=week)\n",
    "        game_stats = get_game_info(api_response)\n",
    "        data_frames.append(game_stats)\n",
    "        time.sleep(1)\n",
    "    return pd.concat(data_frames, ignore_index=True)"
   ]
  },
  {
   "cell_type": "code",
   "execution_count": null,
   "id": "bf6b425e",
   "metadata": {},
   "outputs": [],
   "source": [
    "for year in range(2024, 2001, -1) :\n",
    "    api_instance = cfbd.GamesApi(api_config)\n",
    "    df = get_games_for_year(api_instance, year)\n",
    "    df.to_csv(\"game_by_game_stats/games_\" + str(year) + \".csv\")\n",
    "    time.sleep(1)"
   ]
  },
  {
   "cell_type": "markdown",
   "id": "dad70c34",
   "metadata": {},
   "source": [
    "#### Gather game ids and dates."
   ]
  },
  {
   "cell_type": "code",
   "execution_count": null,
   "id": "62b3441c",
   "metadata": {},
   "outputs": [],
   "source": [
    "def get_game_id_date(games) :\n",
    "    date_dict = [\n",
    "        dict(id = g.id,\n",
    "            date = g.start_date,\n",
    "            home_team = g.home_team,\n",
    "            away_team = g.away_team,\n",
    "            home_pregame_elo = g.home_pregame_elo,\n",
    "            away_pregame_elo = g.away_pregame_elo,\n",
    "            conference_game = g.conference_game,\n",
    "            season_type = g.season_type,\n",
    "            home_division = g.home_division,\n",
    "            away_division = g.away_division)\n",
    "    for g in games]\n",
    "    \n",
    "    return pd.DataFrame(date_dict)\n",
    "\n",
    "def get_game_dates_for_year(api, year) :\n",
    "    data_frames = []\n",
    "    for week in range(1,17) :\n",
    "        print(\"Fetching week \" + str(week) + \".\\n\")\n",
    "        api_response = api.get_games(year=year, week=week)\n",
    "        game_dates = get_game_id_date(api_response)\n",
    "        data_frames.append(game_dates)\n",
    "    return pd.concat(data_frames, ignore_index=True)"
   ]
  },
  {
   "cell_type": "code",
   "execution_count": null,
   "id": "4f0930f6",
   "metadata": {},
   "outputs": [],
   "source": [
    "for year in range(2024, 2001, -1) :\n",
    "    df = get_game_dates_for_year(api_instance, year)\n",
    "    df.to_csv(\"game_by_game_stats/game_dates\" + str(year) + \".csv\")"
   ]
  },
  {
   "cell_type": "code",
   "execution_count": null,
   "id": "7a0c3757",
   "metadata": {},
   "outputs": [],
   "source": []
  }
 ],
 "metadata": {
  "kernelspec": {
   "display_name": "Python 3 (ipykernel)",
   "language": "python",
   "name": "python3"
  },
  "language_info": {
   "codemirror_mode": {
    "name": "ipython",
    "version": 3
   },
   "file_extension": ".py",
   "mimetype": "text/x-python",
   "name": "python",
   "nbconvert_exporter": "python",
   "pygments_lexer": "ipython3",
   "version": "3.9.13"
  }
 },
 "nbformat": 4,
 "nbformat_minor": 5
}
