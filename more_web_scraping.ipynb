{
 "cells": [
  {
   "cell_type": "markdown",
   "metadata": {},
   "source": [
    "# More Data Collection"
   ]
  },
  {
   "cell_type": "markdown",
   "metadata": {},
   "source": [
    "### Strength of Schedule Data\n",
    "- https://www.teamrankings.com/college-football/ranking/schedule-strength-by-other"
   ]
  },
  {
   "cell_type": "code",
   "execution_count": 2,
   "metadata": {},
   "outputs": [],
   "source": [
    "# Get general dependencies\n",
    "import pandas as pd\n",
    "import numpy as np\n",
    "import matplotlib.pyplot as plt\n",
    "import seaborn as sns\n",
    "import time\n",
    "from bs4 import BeautifulSoup\n",
    "import requests\n",
    "import re"
   ]
  },
  {
   "cell_type": "code",
   "execution_count": 52,
   "metadata": {},
   "outputs": [],
   "source": [
    "# Generate dates to grab strength of schedules\n",
    "from datetime import date, timedelta\n",
    "\n",
    "start_date = date(2005, 5, 1)\n",
    "end_date = date(2024, 5, 1)\n",
    "\n",
    "date_list = []\n",
    "current_date = start_date\n",
    "while current_date <= end_date:\n",
    "    date_list.append(current_date)\n",
    "    current_date = current_date.replace(year=current_date.year + 1)\n",
    "\n",
    "# Convert dates to strings in yyyy-mm-dd format for urls\n",
    "date_strings = [d.strftime('%Y-%m-%d') for d in date_list]\n"
   ]
  },
  {
   "cell_type": "code",
   "execution_count": 10,
   "metadata": {},
   "outputs": [
    {
     "data": {
      "text/plain": [
       "['https://www.teamrankings.com/college-football/ranking/schedule-strength-by-other?date=2005-05-01',\n",
       " 'https://www.teamrankings.com/college-football/ranking/schedule-strength-by-other?date=2006-05-01']"
      ]
     },
     "execution_count": 10,
     "metadata": {},
     "output_type": "execute_result"
    }
   ],
   "source": [
    "# Generate list of urls\n",
    "base_url = 'https://www.teamrankings.com/college-football/ranking/schedule-strength-by-other?date='\n",
    "urls = [base_url + date for date in date_strings]\n",
    "urls[:2]"
   ]
  },
  {
   "cell_type": "code",
   "execution_count": 11,
   "metadata": {},
   "outputs": [
    {
     "data": {
      "text/html": [
       "<div>\n",
       "<style scoped>\n",
       "    .dataframe tbody tr th:only-of-type {\n",
       "        vertical-align: middle;\n",
       "    }\n",
       "\n",
       "    .dataframe tbody tr th {\n",
       "        vertical-align: top;\n",
       "    }\n",
       "\n",
       "    .dataframe thead th {\n",
       "        text-align: right;\n",
       "    }\n",
       "</style>\n",
       "<table border=\"1\" class=\"dataframe\">\n",
       "  <thead>\n",
       "    <tr style=\"text-align: right;\">\n",
       "      <th></th>\n",
       "      <th>year</th>\n",
       "      <th>rank</th>\n",
       "      <th>team</th>\n",
       "      <th>rating</th>\n",
       "    </tr>\n",
       "  </thead>\n",
       "  <tbody>\n",
       "    <tr>\n",
       "      <th>0</th>\n",
       "      <td>2005</td>\n",
       "      <td>1</td>\n",
       "      <td>USC</td>\n",
       "      <td>8.4</td>\n",
       "    </tr>\n",
       "    <tr>\n",
       "      <th>1</th>\n",
       "      <td>2005</td>\n",
       "      <td>2</td>\n",
       "      <td>Miami</td>\n",
       "      <td>6.8</td>\n",
       "    </tr>\n",
       "    <tr>\n",
       "      <th>2</th>\n",
       "      <td>2005</td>\n",
       "      <td>3</td>\n",
       "      <td>Oregon St</td>\n",
       "      <td>6.7</td>\n",
       "    </tr>\n",
       "    <tr>\n",
       "      <th>3</th>\n",
       "      <td>2005</td>\n",
       "      <td>4</td>\n",
       "      <td>Oklahoma</td>\n",
       "      <td>6.4</td>\n",
       "    </tr>\n",
       "    <tr>\n",
       "      <th>4</th>\n",
       "      <td>2005</td>\n",
       "      <td>5</td>\n",
       "      <td>Arizona St</td>\n",
       "      <td>6.4</td>\n",
       "    </tr>\n",
       "  </tbody>\n",
       "</table>\n",
       "</div>"
      ],
      "text/plain": [
       "   year rank        team rating\n",
       "0  2005    1         USC    8.4\n",
       "1  2005    2       Miami    6.8\n",
       "2  2005    3   Oregon St    6.7\n",
       "3  2005    4    Oklahoma    6.4\n",
       "4  2005    5  Arizona St    6.4"
      ]
     },
     "execution_count": 11,
     "metadata": {},
     "output_type": "execute_result"
    }
   ],
   "source": [
    "headers = {'User-Agent': 'Mozilla/5.0 (Macintosh; Intel Mac OS X 10_10_1) AppleWebKit/537.36 (KHTML, like Gecko) Chrome/39.0.2171.95 Safari/537.36'}\n",
    "\n",
    "years, ranks, teams, ratings = [], [], [], []\n",
    "schedule_strengths = pd.DataFrame()\n",
    "# Get all tables using loop\n",
    "for url in urls:\n",
    "    response = requests.get(url, headers=headers)\n",
    "    soup = BeautifulSoup(response.content, 'html.parser')\n",
    "    table = soup.find_all('table')[0]\n",
    "    entries = table.find_all('td')\n",
    "\n",
    "    for i, entry in enumerate(entries):\n",
    "        # Add all of the entries\n",
    "        n = i % 6\n",
    "        try:\n",
    "            if n == 0:\n",
    "                ranks.append(entry.text)\n",
    "            elif n == 1:\n",
    "                teams.append(re.findall(r'^(.*?)\\(', entry.text)[0].strip())\n",
    "            elif n == 2:\n",
    "                ratings.append(entry.text)\n",
    "            elif n == 3:\n",
    "                # Add the year\n",
    "                years.append(url[-10:-6])\n",
    "            else:\n",
    "                continue\n",
    "        except:\n",
    "            break\n",
    "    \n",
    "schedule_strengths_df = pd.DataFrame({'year': years, 'rank': ranks, 'team': teams, 'rating': ratings})\n",
    "schedule_strengths_df.head()    "
   ]
  },
  {
   "cell_type": "code",
   "execution_count": 27,
   "metadata": {},
   "outputs": [
    {
     "data": {
      "text/html": [
       "<div>\n",
       "<style scoped>\n",
       "    .dataframe tbody tr th:only-of-type {\n",
       "        vertical-align: middle;\n",
       "    }\n",
       "\n",
       "    .dataframe tbody tr th {\n",
       "        vertical-align: top;\n",
       "    }\n",
       "\n",
       "    .dataframe thead th {\n",
       "        text-align: right;\n",
       "    }\n",
       "</style>\n",
       "<table border=\"1\" class=\"dataframe\">\n",
       "  <thead>\n",
       "    <tr style=\"text-align: right;\">\n",
       "      <th></th>\n",
       "      <th>year</th>\n",
       "      <th>rank</th>\n",
       "      <th>team</th>\n",
       "      <th>rating</th>\n",
       "    </tr>\n",
       "  </thead>\n",
       "  <tbody>\n",
       "    <tr>\n",
       "      <th>2494</th>\n",
       "      <td>2024</td>\n",
       "      <td>129</td>\n",
       "      <td>Florida Intl</td>\n",
       "      <td>-11.3</td>\n",
       "    </tr>\n",
       "    <tr>\n",
       "      <th>2495</th>\n",
       "      <td>2024</td>\n",
       "      <td>130</td>\n",
       "      <td>N Illinois</td>\n",
       "      <td>-11.4</td>\n",
       "    </tr>\n",
       "    <tr>\n",
       "      <th>2496</th>\n",
       "      <td>2024</td>\n",
       "      <td>131</td>\n",
       "      <td>E Michigan</td>\n",
       "      <td>-13.3</td>\n",
       "    </tr>\n",
       "    <tr>\n",
       "      <th>2497</th>\n",
       "      <td>2024</td>\n",
       "      <td>132</td>\n",
       "      <td>Akron</td>\n",
       "      <td>-13.3</td>\n",
       "    </tr>\n",
       "    <tr>\n",
       "      <th>2498</th>\n",
       "      <td>2024</td>\n",
       "      <td>133</td>\n",
       "      <td>Kent St</td>\n",
       "      <td>-13.9</td>\n",
       "    </tr>\n",
       "  </tbody>\n",
       "</table>\n",
       "</div>"
      ],
      "text/plain": [
       "      year rank          team rating\n",
       "2494  2024  129  Florida Intl  -11.3\n",
       "2495  2024  130    N Illinois  -11.4\n",
       "2496  2024  131    E Michigan  -13.3\n",
       "2497  2024  132         Akron  -13.3\n",
       "2498  2024  133       Kent St  -13.9"
      ]
     },
     "execution_count": 27,
     "metadata": {},
     "output_type": "execute_result"
    }
   ],
   "source": [
    "schedule_strengths_df.tail()  "
   ]
  },
  {
   "cell_type": "markdown",
   "metadata": {},
   "source": [
    "### Editing the Team Names with Fuzzy Matching"
   ]
  },
  {
   "cell_type": "code",
   "execution_count": 9,
   "metadata": {},
   "outputs": [],
   "source": [
    "# Install fuzzy to do name matching\n",
    "!pip install --q fuzzywuzzy"
   ]
  },
  {
   "cell_type": "code",
   "execution_count": 10,
   "metadata": {},
   "outputs": [
    {
     "name": "stderr",
     "output_type": "stream",
     "text": [
      "/opt/anaconda3/envs/erdos_may_2024/lib/python3.11/site-packages/fuzzywuzzy/fuzz.py:11: UserWarning: Using slow pure-python SequenceMatcher. Install python-Levenshtein to remove this warning\n",
      "  warnings.warn('Using slow pure-python SequenceMatcher. Install python-Levenshtein to remove this warning')\n"
     ]
    }
   ],
   "source": [
    "import pandas as pd\n",
    "from fuzzywuzzy import process"
   ]
  },
  {
   "cell_type": "code",
   "execution_count": 64,
   "metadata": {},
   "outputs": [
    {
     "data": {
      "text/plain": [
       "array(['Air Force', 'Akron', 'Alabama', 'Appalachian State', 'Arizona',\n",
       "       'Arizona State', 'Arkansas', 'Arkansas State', 'Army', 'Auburn',\n",
       "       'Ball State', 'Baylor', 'Boise State', 'Boston College',\n",
       "       'Bowling Green', 'Buffalo', 'BYU', 'California',\n",
       "       'Central Michigan', 'Charlotte', 'Cincinnati', 'Clemson',\n",
       "       'Coastal Carolina', 'Colorado', 'Colorado State', 'Connecticut',\n",
       "       'Duke', 'East Carolina', 'Eastern Michigan', 'Florida',\n",
       "       'Florida Atlantic', 'Florida International', 'Florida State',\n",
       "       'Fresno State', 'Georgia', 'Georgia Southern', 'Georgia State',\n",
       "       'Georgia Tech', \"Hawai'i\", 'Houston', 'Illinois', 'Indiana',\n",
       "       'Iowa', 'Iowa State', 'Jacksonville State', 'James Madison',\n",
       "       'Kansas', 'Kansas State', 'Kent State', 'Kentucky', 'Liberty',\n",
       "       'Louisiana', 'Louisiana Monroe', 'Louisiana Tech', 'Louisville',\n",
       "       'LSU', 'Marshall', 'Maryland', 'Memphis', 'Miami', 'Miami (OH)',\n",
       "       'Michigan', 'Michigan State', 'Middle Tennessee', 'Minnesota',\n",
       "       'Mississippi State', 'Missouri', 'Navy', 'NC State', 'Nebraska',\n",
       "       'Nevada', 'New Mexico', 'New Mexico State', 'North Carolina',\n",
       "       'Northern Illinois', 'North Texas', 'Northwestern', 'Notre Dame',\n",
       "       'Ohio', 'Ohio State', 'Oklahoma', 'Oklahoma State', 'Old Dominion',\n",
       "       'Ole Miss', 'Oregon', 'Oregon State', 'Penn State', 'Pittsburgh',\n",
       "       'Purdue', 'Rice', 'Rutgers', 'Sam Houston State',\n",
       "       'San Diego State', 'San José State', 'SMU', 'South Alabama',\n",
       "       'South Carolina', 'Southern Mississippi', 'South Florida',\n",
       "       'Stanford', 'Syracuse', 'TCU', 'Temple', 'Tennessee', 'Texas',\n",
       "       'Texas A&M', 'Texas State', 'Texas Tech', 'Toledo', 'Troy',\n",
       "       'Tulane', 'Tulsa', 'UAB', 'UCF', 'UCLA', 'UMass', 'UNLV', 'USC',\n",
       "       'Utah', 'Utah State', 'UTEP', 'UT San Antonio', 'Vanderbilt',\n",
       "       'Virginia', 'Virginia Tech', 'Wake Forest', 'Washington',\n",
       "       'Washington State', 'Western Kentucky', 'Western Michigan',\n",
       "       'West Virginia', 'Wisconsin', 'Wyoming'], dtype=object)"
      ]
     },
     "execution_count": 64,
     "metadata": {},
     "output_type": "execute_result"
    }
   ],
   "source": [
    "# Get list of FBS team names\n",
    "team_info_df = pd.read_csv('data/team_info.csv')\n",
    "team_info_df.team.unique()"
   ]
  },
  {
   "cell_type": "code",
   "execution_count": 3,
   "metadata": {},
   "outputs": [
    {
     "data": {
      "text/plain": [
       "array(['USC', 'Miami', 'Oregon St', 'Oklahoma', 'Arizona St',\n",
       "       'California', 'VA Tech', 'Texas', 'Texas Tech', 'Texas A&M',\n",
       "       'N Carolina', 'Iowa', 'Stanford', 'Louisville', 'Oklahoma St',\n",
       "       'Virginia', 'Notre Dame', 'LSU', 'Ohio St', 'Michigan', 'Georgia',\n",
       "       'Florida St', 'Auburn', 'Tennessee', 'GA Tech', 'UCLA', 'Arkansas',\n",
       "       'Purdue', 'Florida', 'BYU', 'Northwestern', 'Colorado', 'Clemson',\n",
       "       'Arizona', 'NC State', 'Kansas', 'Oregon', 'Boise St', 'Maryland',\n",
       "       'Washington', 'Wisconsin', 'Wash State', 'Penn St', 'Kansas St',\n",
       "       'Iowa St', 'S Carolina', 'New Mexico', 'Michigan St', 'Minnesota',\n",
       "       'Alabama', 'Duke', 'Mississippi', 'Indiana', 'Syracuse',\n",
       "       'Fresno St', 'Wake Forest', 'Kentucky', 'LA Tech', 'Utah',\n",
       "       'Colorado St', 'Nebraska', 'Cincinnati', 'San Diego St',\n",
       "       'Missouri', 'Illinois', 'TX El Paso', 'Wyoming', 'W Virginia',\n",
       "       'Houston', 'Baylor', 'UNLV', 'Bowling Grn', 'Marshall',\n",
       "       'S Mississippi', 'Boston Col', 'Pittsburgh', 'Vanderbilt',\n",
       "       'Air Force', 'Miss State', 'Temple', 'Memphis', 'TX Christian',\n",
       "       'Army', 'Toledo', 'Rutgers', 'E Carolina', 'UAB', 'S Methodist',\n",
       "       'S Florida', 'Rice', 'Troy', 'Connecticut', 'Tulsa', 'UCF',\n",
       "       'Akron', 'Utah St', 'Hawaii', 'Tulane', 'Ohio', 'San Jose St',\n",
       "       'N Illinois', 'N Mex State', 'Arkansas St', 'Ball St', 'Navy',\n",
       "       'Kent St', 'Buffalo', 'Nevada', 'Idaho', 'W Michigan',\n",
       "       'Central Mich', 'North Texas', 'Middle Tenn', 'UL Monroe',\n",
       "       'Louisiana', 'E Michigan', 'Fla Atlantic', 'Florida Intl',\n",
       "       'W Kentucky', 'Texas St', 'U Mass', 'S Alabama', 'UTSA',\n",
       "       'Georgia St', 'GA Southern', 'Old Dominion', 'App State',\n",
       "       'Charlotte', 'Coastal Car', 'Liberty', 'James Mad', 'Jksnville St',\n",
       "       'Sam Hous St'], dtype=object)"
      ]
     },
     "execution_count": 3,
     "metadata": {},
     "output_type": "execute_result"
    }
   ],
   "source": [
    "schedule_strengths_df['team'].unique()"
   ]
  },
  {
   "cell_type": "markdown",
   "metadata": {},
   "source": [
    "There are many team names we should edit first before doing fuzzy matching. We want \"Florida St\" to become \"Florida State\" for example. We also want \"Mississippi\" to correct to \"Ole Miss.\" We'll have to do some of these by hand because Fuzzy matching will correct \"Florida St\" to \"Florida\" for example.\n",
    "\n",
    "Ultimately, it ended up being easier to just do the names by hand."
   ]
  },
  {
   "cell_type": "code",
   "execution_count": 12,
   "metadata": {},
   "outputs": [
    {
     "data": {
      "text/html": [
       "<div>\n",
       "<style scoped>\n",
       "    .dataframe tbody tr th:only-of-type {\n",
       "        vertical-align: middle;\n",
       "    }\n",
       "\n",
       "    .dataframe tbody tr th {\n",
       "        vertical-align: top;\n",
       "    }\n",
       "\n",
       "    .dataframe thead th {\n",
       "        text-align: right;\n",
       "    }\n",
       "</style>\n",
       "<table border=\"1\" class=\"dataframe\">\n",
       "  <thead>\n",
       "    <tr style=\"text-align: right;\">\n",
       "      <th></th>\n",
       "      <th>year</th>\n",
       "      <th>rank</th>\n",
       "      <th>team</th>\n",
       "      <th>rating</th>\n",
       "    </tr>\n",
       "  </thead>\n",
       "  <tbody>\n",
       "    <tr>\n",
       "      <th>0</th>\n",
       "      <td>2005</td>\n",
       "      <td>1</td>\n",
       "      <td>USC</td>\n",
       "      <td>8.4</td>\n",
       "    </tr>\n",
       "    <tr>\n",
       "      <th>1</th>\n",
       "      <td>2005</td>\n",
       "      <td>2</td>\n",
       "      <td>Miami</td>\n",
       "      <td>6.8</td>\n",
       "    </tr>\n",
       "    <tr>\n",
       "      <th>2</th>\n",
       "      <td>2005</td>\n",
       "      <td>3</td>\n",
       "      <td>Oregon State</td>\n",
       "      <td>6.7</td>\n",
       "    </tr>\n",
       "    <tr>\n",
       "      <th>3</th>\n",
       "      <td>2005</td>\n",
       "      <td>4</td>\n",
       "      <td>Oklahoma</td>\n",
       "      <td>6.4</td>\n",
       "    </tr>\n",
       "    <tr>\n",
       "      <th>4</th>\n",
       "      <td>2005</td>\n",
       "      <td>5</td>\n",
       "      <td>Arizona State</td>\n",
       "      <td>6.4</td>\n",
       "    </tr>\n",
       "  </tbody>\n",
       "</table>\n",
       "</div>"
      ],
      "text/plain": [
       "   year rank           team rating\n",
       "0  2005    1            USC    8.4\n",
       "1  2005    2          Miami    6.8\n",
       "2  2005    3   Oregon State    6.7\n",
       "3  2005    4       Oklahoma    6.4\n",
       "4  2005    5  Arizona State    6.4"
      ]
     },
     "execution_count": 12,
     "metadata": {},
     "output_type": "execute_result"
    }
   ],
   "source": [
    "replacements = {\n",
    "    'Oregon St': 'Oregon State',\n",
    "    'Arizona St': 'Arizona State',\n",
    "    'Mississippi St': 'Mississippi State',\n",
    "    'VA Tech': \"Virginia Tech\",\n",
    "    'N Carolina': \"North Carolina\",\n",
    "    'Oklahoma St': 'Oklahoma State',\n",
    "    'Ohio St': 'Ohio State',\n",
    "    'Florida St': \"Florida State\",\n",
    "    'GA Tech': 'Georgia Tech',\n",
    "    'Boise St': 'Boise State',\n",
    "    'Wash St': 'Washington State',\n",
    "    'Penn St': 'Penn State',\n",
    "    'Kansas St': 'Kansas State',\n",
    "    'Iowa St': 'Iowa State',\n",
    "    'S Carolina': 'South Carolina',\n",
    "    'Michigan St': 'Michigan State',\n",
    "    'Mississippi': \"Ole Miss\",\n",
    "    'Fresno St': 'Fresno State',\n",
    "    'LA Tech': 'Louisiana Tech',\n",
    "    'Colorado St': 'Colorado State',\n",
    "    'San Diego St': 'San Diego State',\n",
    "    'TX El Paso': 'UTEP',\n",
    "    'W Virginia': 'West Virginia',\n",
    "    'Bowling Grn': 'Bowling Green',\n",
    "    'S Mississippi': 'Southern Mississippi',\n",
    "    'Boston Col': \"Boston College\",\n",
    "    'Miss State': \"Mississippi State\",\n",
    "    'TX Christian': \"TCU\",\n",
    "    'E Carolina': 'East Carolina',\n",
    "    'S Methodist': \"SMU\",\n",
    "    'S Florida': 'South Florida',\n",
    "    'Utah St': 'Utah State',\n",
    "    'San Jose St': 'San Jose State',\n",
    "    'N Illinois': 'Northern Illinois',\n",
    "    'N Mex State': \"New Mexico State\",\n",
    "    'Arkansas St': 'Arkansas State',\n",
    "    'Ball St': 'Ball State',\n",
    "    'Kent St': 'Kent State',\n",
    "    'W Michigan': 'Western Michigan',\n",
    "    'Central Mich': \"Central Michigan\",\n",
    "    'Middle Tenn': 'Middle Tennessee',\n",
    "    'UL Monroe': 'Louisiana Monroe',\n",
    "    'E Michigan': 'Eastern Michigan',\n",
    "    'Fla Atlantic': 'Florida Atlantic',\n",
    "    'Florida Intl': 'Florida International',\n",
    "    'W Kentucky': 'Western Kentucky',\n",
    "    'Texas St': 'Texas State',\n",
    "    'U Mass': 'UMass',\n",
    "    'S Alabama': 'South Alabama',\n",
    "    'Georgia St': 'Georgia State',\n",
    "    'GA Southern': 'Georgia Southern',\n",
    "    'App St': 'Appalachian State',\n",
    "    'Coastal Car': 'Coastal Carolina',\n",
    "    'James Mad': 'James Madison',\n",
    "    'Jksnville St': 'Jacksonville State',\n",
    "    'Sam Hous St': 'Sam Houston State'\n",
    "}\n",
    "\n",
    "# Replace the values in the 'team' column\n",
    "schedule_strengths_df['team'] = schedule_strengths_df['team'].replace(replacements)\n",
    "schedule_strengths_df.head()"
   ]
  },
  {
   "cell_type": "code",
   "execution_count": 5,
   "metadata": {},
   "outputs": [
    {
     "data": {
      "text/plain": [
       "\"\\n# Use fuzzy to match team names\\ndef match_and_replace(bad_name, correct_names):\\n    # Get fuzzy matches and scores. Keep when beats threshold of 80\\n    match, score = process.extractOne(bad_name, correct_names)\\n    return match if score > 80 else bad_name\\n\\n# Apply to the rows of our schedule strengths\\nschedule_strengths_df['team'] = schedule_strengths_df['team'].apply(lambda x: match_and_replace(x, team_info_df['team'].tolist()))\\n\\nschedule_strengths_df['team']\\n\""
      ]
     },
     "execution_count": 5,
     "metadata": {},
     "output_type": "execute_result"
    }
   ],
   "source": [
    "'''\n",
    "# Use fuzzy to match team names\n",
    "def match_and_replace(bad_name, correct_names):\n",
    "    # Get fuzzy matches and scores. Keep when beats threshold of 80\n",
    "    match, score = process.extractOne(bad_name, correct_names)\n",
    "    return match if score > 80 else bad_name\n",
    "\n",
    "# Apply to the rows of our schedule strengths\n",
    "schedule_strengths_df['team'] = schedule_strengths_df['team'].apply(lambda x: match_and_replace(x, team_info_df['team'].tolist()))\n",
    "\n",
    "schedule_strengths_df['team']\n",
    "'''"
   ]
  },
  {
   "cell_type": "code",
   "execution_count": 13,
   "metadata": {},
   "outputs": [],
   "source": [
    "schedule_strengths_df.to_csv('data/schedule_strengths.csv', index=False)"
   ]
  },
  {
   "cell_type": "markdown",
   "metadata": {},
   "source": [
    "### Grab ESPN SOS Ratings"
   ]
  },
  {
   "cell_type": "code",
   "execution_count": 152,
   "metadata": {},
   "outputs": [],
   "source": [
    "headers = {'User-Agent': 'Mozilla/5.0 (Macintosh; Intel Mac OS X 10_10_1) AppleWebKit/537.36 (KHTML, like Gecko) Chrome/39.0.2171.95 Safari/537.36'}\n",
    "\n",
    "url = 'https://www.espn.com/college-football/fpi/_/view/resume/season/2020'\n",
    "\n",
    "response = requests.get(url, headers=headers)\n",
    "soup = BeautifulSoup(response.content, 'html.parser')"
   ]
  },
  {
   "cell_type": "code",
   "execution_count": 153,
   "metadata": {},
   "outputs": [
    {
     "data": {
      "text/plain": [
       "['Alabama Crimson Tide',\n",
       " 'Ohio State Buckeyes',\n",
       " 'Texas A&M Aggies',\n",
       " 'Notre Dame Fighting Irish',\n",
       " 'Oklahoma Sooners']"
      ]
     },
     "execution_count": 153,
     "metadata": {},
     "output_type": "execute_result"
    }
   ],
   "source": [
    "# Get team names\n",
    "team_rows = soup.find_all('span', {'class': 'TeamLink__Name'})\n",
    "teams = [row.text for row in team_rows]\n",
    "teams[:5]"
   ]
  },
  {
   "cell_type": "code",
   "execution_count": 154,
   "metadata": {},
   "outputs": [
    {
     "data": {
      "text/plain": [
       "['https://www.espn.com/college-football/fpi/_/view/resume/season/2005',\n",
       " 'https://www.espn.com/college-football/fpi/_/view/resume/season/2006',\n",
       " 'https://www.espn.com/college-football/fpi/_/view/resume/season/2007',\n",
       " 'https://www.espn.com/college-football/fpi/_/view/resume/season/2008',\n",
       " 'https://www.espn.com/college-football/fpi/_/view/resume/season/2009']"
      ]
     },
     "execution_count": 154,
     "metadata": {},
     "output_type": "execute_result"
    }
   ],
   "source": [
    "# Generate list of urls\n",
    "base_url = 'https://www.espn.com/college-football/fpi/_/view/resume/season/'\n",
    "date_strings = [str(year) for year in range(2005, 2023+1)]\n",
    "urls = [base_url + date for date in date_strings]\n",
    "urls[:5]"
   ]
  },
  {
   "cell_type": "code",
   "execution_count": 155,
   "metadata": {},
   "outputs": [
    {
     "data": {
      "text/html": [
       "<div>\n",
       "<style scoped>\n",
       "    .dataframe tbody tr th:only-of-type {\n",
       "        vertical-align: middle;\n",
       "    }\n",
       "\n",
       "    .dataframe tbody tr th {\n",
       "        vertical-align: top;\n",
       "    }\n",
       "\n",
       "    .dataframe thead th {\n",
       "        text-align: right;\n",
       "    }\n",
       "</style>\n",
       "<table border=\"1\" class=\"dataframe\">\n",
       "  <thead>\n",
       "    <tr style=\"text-align: right;\">\n",
       "      <th></th>\n",
       "      <th>year</th>\n",
       "      <th>team</th>\n",
       "      <th>sor</th>\n",
       "      <th>sos</th>\n",
       "    </tr>\n",
       "  </thead>\n",
       "  <tbody>\n",
       "    <tr>\n",
       "      <th>0</th>\n",
       "      <td>2005</td>\n",
       "      <td>Texas Longhorns</td>\n",
       "      <td>1</td>\n",
       "      <td>25</td>\n",
       "    </tr>\n",
       "    <tr>\n",
       "      <th>1</th>\n",
       "      <td>2005</td>\n",
       "      <td>USC Trojans</td>\n",
       "      <td>2</td>\n",
       "      <td>1</td>\n",
       "    </tr>\n",
       "    <tr>\n",
       "      <th>2</th>\n",
       "      <td>2005</td>\n",
       "      <td>Penn State Nittany Lions</td>\n",
       "      <td>3</td>\n",
       "      <td>21</td>\n",
       "    </tr>\n",
       "    <tr>\n",
       "      <th>3</th>\n",
       "      <td>2005</td>\n",
       "      <td>Ohio State Buckeyes</td>\n",
       "      <td>4</td>\n",
       "      <td>12</td>\n",
       "    </tr>\n",
       "    <tr>\n",
       "      <th>4</th>\n",
       "      <td>2005</td>\n",
       "      <td>West Virginia Mountaineers</td>\n",
       "      <td>5</td>\n",
       "      <td>60</td>\n",
       "    </tr>\n",
       "    <tr>\n",
       "      <th>...</th>\n",
       "      <td>...</td>\n",
       "      <td>...</td>\n",
       "      <td>...</td>\n",
       "      <td>...</td>\n",
       "    </tr>\n",
       "    <tr>\n",
       "      <th>2377</th>\n",
       "      <td>2023</td>\n",
       "      <td>Buffalo Bulls</td>\n",
       "      <td>129</td>\n",
       "      <td>123</td>\n",
       "    </tr>\n",
       "    <tr>\n",
       "      <th>2378</th>\n",
       "      <td>2023</td>\n",
       "      <td>East Carolina Pirates</td>\n",
       "      <td>130</td>\n",
       "      <td>64</td>\n",
       "    </tr>\n",
       "    <tr>\n",
       "      <th>2379</th>\n",
       "      <td>2023</td>\n",
       "      <td>Nevada Wolf Pack</td>\n",
       "      <td>131</td>\n",
       "      <td>109</td>\n",
       "    </tr>\n",
       "    <tr>\n",
       "      <th>2380</th>\n",
       "      <td>2023</td>\n",
       "      <td>Akron Zips</td>\n",
       "      <td>132</td>\n",
       "      <td>127</td>\n",
       "    </tr>\n",
       "    <tr>\n",
       "      <th>2381</th>\n",
       "      <td>2023</td>\n",
       "      <td>Kent State Golden Flashes</td>\n",
       "      <td>133</td>\n",
       "      <td>118</td>\n",
       "    </tr>\n",
       "  </tbody>\n",
       "</table>\n",
       "<p>2382 rows × 4 columns</p>\n",
       "</div>"
      ],
      "text/plain": [
       "      year                        team  sor  sos\n",
       "0     2005             Texas Longhorns    1   25\n",
       "1     2005                 USC Trojans    2    1\n",
       "2     2005    Penn State Nittany Lions    3   21\n",
       "3     2005         Ohio State Buckeyes    4   12\n",
       "4     2005  West Virginia Mountaineers    5   60\n",
       "...    ...                         ...  ...  ...\n",
       "2377  2023               Buffalo Bulls  129  123\n",
       "2378  2023       East Carolina Pirates  130   64\n",
       "2379  2023            Nevada Wolf Pack  131  109\n",
       "2380  2023                  Akron Zips  132  127\n",
       "2381  2023   Kent State Golden Flashes  133  118\n",
       "\n",
       "[2382 rows x 4 columns]"
      ]
     },
     "execution_count": 155,
     "metadata": {},
     "output_type": "execute_result"
    }
   ],
   "source": [
    "headers = {'User-Agent': 'Mozilla/5.0 (Macintosh; Intel Mac OS X 10_10_1) AppleWebKit/537.36 (KHTML, like Gecko) Chrome/39.0.2171.95 Safari/537.36'}\n",
    "\n",
    "years, teams, sor, sos = [], [], [], []\n",
    "\n",
    "for url in urls:\n",
    "    # Request url\n",
    "    response = requests.get(url, headers=headers)\n",
    "    soup = BeautifulSoup(response.content, 'html.parser')\n",
    "    # Get names\n",
    "    team_rows = soup.find_all('span', {'class': 'TeamLink__Name'})\n",
    "    teams.extend([row.text for row in team_rows])\n",
    "\n",
    "    # Get right hand table on ESPN page\n",
    "    table = soup.find_all('tbody', {'class': 'Table__TBODY'})[1]\n",
    "    # Create list of SOS's which are the 4th of 7 elements\n",
    "    entries = table.find_all('td',{'class': 'Table__TD'})\n",
    "\n",
    "    for i, entry in enumerate(entries):\n",
    "        # Make sure entry is number\n",
    "        n = i % 7\n",
    "        if entry == '--':\n",
    "            continue\n",
    "        else:\n",
    "            if n == 0:\n",
    "                sor.append(entry.text)\n",
    "            elif n == 3:\n",
    "                sos.append(entry.text)\n",
    "                # Add the year\n",
    "                years.append(url[-4:])\n",
    "            else:\n",
    "                continue\n",
    "sos_df = pd.DataFrame({'year': years, 'team': teams, 'sor': sor, 'sos': sos})\n",
    "sos_df  "
   ]
  },
  {
   "cell_type": "markdown",
   "metadata": {},
   "source": [
    "We need to fix the team names for later merging. We'll do this with an ad hoc approach"
   ]
  },
  {
   "cell_type": "code",
   "execution_count": 159,
   "metadata": {},
   "outputs": [
    {
     "name": "stdout",
     "output_type": "stream",
     "text": [
      "['Air Force' 'Akron' 'Alabama' 'Appalachian State' 'Arizona'\n",
      " 'Arizona State' 'Arkansas' 'Arkansas State' 'Army' 'Auburn' 'BYU'\n",
      " 'Ball State' 'Baylor' 'Boise State' 'Boston College' 'Bowling Green'\n",
      " 'Buffalo' 'California' 'Central Michigan' 'Charlotte' 'Cincinnati'\n",
      " 'Clemson' 'Coastal Carolina' 'Colorado' 'Colorado State' 'Connecticut'\n",
      " 'Duke' 'East Carolina' 'Eastern Michigan' 'Florida' 'Florida Atlantic'\n",
      " 'Florida International' 'Florida State' 'Fresno State' 'Georgia'\n",
      " 'Georgia Southern' 'Georgia State' 'Georgia Tech' \"Hawai'i\" 'Houston'\n",
      " 'Idaho' 'Illinois' 'Indiana' 'Iowa' 'Iowa State' 'Jacksonville State'\n",
      " 'James Madison' 'Kansas' 'Kansas State' 'Kent State' 'Kentucky' 'LSU'\n",
      " 'Liberty' 'Louisiana' 'Louisiana Monroe' 'Louisiana Tech' 'Louisville'\n",
      " 'Marshall' 'Maryland' 'Memphis' 'Miami' 'Miami (OH)' 'Michigan'\n",
      " 'Michigan State' 'Middle Tennessee' 'Minnesota' 'Mississippi State'\n",
      " 'Missouri' 'NC State' 'Navy' 'Nebraska' 'Nevada' 'New Mexico'\n",
      " 'New Mexico State' 'North Carolina' 'North Texas' 'Northern Illinois'\n",
      " 'Northwestern' 'Notre Dame' 'Ohio' 'Ohio State' 'Oklahoma'\n",
      " 'Oklahoma State' 'Old Dominion' 'Ole Miss' 'Oregon' 'Oregon State'\n",
      " 'Penn State' 'Pittsburgh' 'Purdue' 'Rice' 'Rutgers' 'SMU'\n",
      " 'Sam Houston State' 'San Diego State' 'San José State' 'South Alabama'\n",
      " 'South Carolina' 'South Florida' 'Southern Mississippi' 'Stanford'\n",
      " 'Syracuse' 'TCU' 'Temple' 'Tennessee' 'Texas' 'Texas A&M' 'Texas State'\n",
      " 'Texas Tech' 'Toledo' 'Troy' 'Tulane' 'Tulsa' 'UAB' 'UCF' 'UCLA' 'UMass'\n",
      " 'UNLV' 'USC' 'UT San Antonio' 'UTEP' 'Utah' 'Utah State' 'Vanderbilt'\n",
      " 'Virginia' 'Virginia Tech' 'Wake Forest' 'Washington' 'Washington State'\n",
      " 'West Virginia' 'Western Kentucky' 'Western Michigan' 'Wisconsin'\n",
      " 'Wyoming']\n",
      "134\n"
     ]
    }
   ],
   "source": [
    "# Define a custom function to extract the desired words from the team names\n",
    "def extract_words(team_name):\n",
    "    words = team_name.split()\n",
    "\n",
    "    if ' '.join(words[:3]) in [\"UT San Antonio\"]:\n",
    "        return \"UT San Antonio\"\n",
    "    elif words[0] in [\"Massachusetts\" ]:\n",
    "        return \"UMass\" \n",
    "    elif ' '.join(words[:2]) in [\"Louisiana Monroe\", \"UL Monroe\" ]:\n",
    "        return \"Louisiana Monroe\" \n",
    "    elif words[0] in [\"Connecticut\", \"UConn\"]:\n",
    "        return \"Connecticut\" \n",
    "    elif ' '.join(words[:2]) in [\"Western Kentucky\"]:\n",
    "        return \"Western Kentucky\"             \n",
    "    elif ' '.join(words[:3]) in [\"New Mexico State\"]:\n",
    "        return \"New Mexico State\"\n",
    "    elif ' '.join(words[:3]) in [\"New Mexico State\"]:\n",
    "        return \"New Mexico State\"    \n",
    "    elif ' '.join(words[:3]) in [\"Sam Houston State\" ]:\n",
    "        return \"Sam Houston State\" \n",
    "    elif ' '.join(words[:2]) in [\"Sam Houston\" ]:\n",
    "        return \"Sam Houston State\"         \n",
    "    elif ' '.join(words[:2]) in [\"Middle Tennessee\" ]:\n",
    "        return \"Middle Tennessee\"    \n",
    "    elif ' '.join(words[:2]) in [\"Florida Intl\" ]:\n",
    "        return \"Florida International\"             \n",
    "    elif ' '.join(words[:3]) in ['UT San Antonio']:\n",
    "        return 'UT San Antonio'\n",
    "    elif ' '.join(words[:2]) in ['Bowling Green']:\n",
    "        return ' '.join(words[:2])\n",
    "    elif words[0] in ['UTSA']:\n",
    "        return 'UT San Antonio'      \n",
    "    elif ' '.join(words[:2]) == \"Southern Miss\":\n",
    "        return \"Southern Mississippi\"\n",
    "    elif ' '.join(words[:3]) in ['San José St','San José State', 'San Jose State']:\n",
    "        return 'San José State'\n",
    "    elif ' '.join(words[:3]) in ['San Diego St', 'San Diego State']:\n",
    "        return 'San Diego State'   \n",
    "    elif len(words) >= 2 and words[1] in [\"Atlantic\", \"State\", \"Virginia\", \"Dominion\", \"Carolina\", \"Tech\", \"Florida\", \"Madison\",\n",
    "                                        \"International\", \"Monroe\", \"Force\", \"Texas\", \"Houston\", \"Mexico\", \"Tennessee\"\n",
    "                                        \"Kentucky\", \"Alabama\", \"(OH)\", \"Dame\", \"A&M\", \"Mississippi\", \"College\",\n",
    "                                        \"Michigan\", \"Forest\", \"Illinois\", \"Southern\", \"Miss\"]:\n",
    "        return ' '.join(words[:2])\n",
    "    else:\n",
    "        return words[0]\n",
    "\n",
    "# Assuming 'team_names' is the column containing team names\n",
    "# Apply the custom function to the column to extract the desired words\n",
    "sos_df['team'] = sos_df['team'].apply(extract_words)\n",
    "\n",
    "# Display the DataFrame with the new column containing the processed team names\n",
    "print(sos_df['team'].sort_values().unique())\n",
    "print(len(sos_df['team'].sort_values().unique()))\n"
   ]
  },
  {
   "cell_type": "code",
   "execution_count": 160,
   "metadata": {},
   "outputs": [
    {
     "name": "stdout",
     "output_type": "stream",
     "text": [
      "133\n"
     ]
    }
   ],
   "source": [
    "# Get list of FBS team names\n",
    "team_info_df = pd.read_csv('data/team_info.csv')\n",
    "\n",
    "print(len(team_info_df.team.unique()))"
   ]
  },
  {
   "cell_type": "code",
   "execution_count": 162,
   "metadata": {},
   "outputs": [
    {
     "data": {
      "text/plain": [
       "{'Idaho'}"
      ]
     },
     "execution_count": 162,
     "metadata": {},
     "output_type": "execute_result"
    }
   ],
   "source": [
    "set(team_info_df.team.sort_values().unique()).symmetric_difference(set(sos_df['team'].sort_values().unique()))"
   ]
  },
  {
   "cell_type": "code",
   "execution_count": 163,
   "metadata": {},
   "outputs": [],
   "source": [
    "sos_df.to_csv('data/schedule_strength.csv', index=False)"
   ]
  },
  {
   "cell_type": "markdown",
   "metadata": {},
   "source": []
  }
 ],
 "metadata": {
  "kernelspec": {
   "display_name": "erdos_may_2024",
   "language": "python",
   "name": "python3"
  },
  "language_info": {
   "codemirror_mode": {
    "name": "ipython",
    "version": 3
   },
   "file_extension": ".py",
   "mimetype": "text/x-python",
   "name": "python",
   "nbconvert_exporter": "python",
   "pygments_lexer": "ipython3",
   "version": "3.11.9"
  }
 },
 "nbformat": 4,
 "nbformat_minor": 2
}
