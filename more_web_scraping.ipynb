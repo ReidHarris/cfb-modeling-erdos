{
 "cells": [
  {
   "cell_type": "markdown",
   "metadata": {},
   "source": [
    "# More Data Collection"
   ]
  },
  {
   "cell_type": "markdown",
   "metadata": {},
   "source": [
    "### Strength of Schedule Data\n",
    "- https://www.teamrankings.com/college-football/ranking/schedule-strength-by-other"
   ]
  },
  {
   "cell_type": "code",
   "execution_count": 1,
   "metadata": {},
   "outputs": [],
   "source": [
    "# Get general dependencies\n",
    "import pandas as pd\n",
    "import numpy as np\n",
    "import matplotlib.pyplot as plt\n",
    "import seaborn as sns\n",
    "import time\n",
    "from bs4 import BeautifulSoup\n",
    "import requests\n",
    "import re"
   ]
  },
  {
   "cell_type": "code",
   "execution_count": 24,
   "metadata": {},
   "outputs": [],
   "source": [
    "# Generate dates to grab strength of schedules\n",
    "from datetime import date, timedelta\n",
    "\n",
    "start_date = date(2005, 5, 1)\n",
    "end_date = date(2024, 5, 1)\n",
    "\n",
    "date_list = []\n",
    "current_date = start_date\n",
    "while current_date <= end_date:\n",
    "    date_list.append(current_date)\n",
    "    current_date = current_date.replace(year=current_date.year + 1)\n",
    "\n",
    "# Convert dates to strings in yyyy-mm-dd format for urls\n",
    "date_strings = [d.strftime('%Y-%m-%d') for d in date_list]\n"
   ]
  },
  {
   "cell_type": "code",
   "execution_count": 25,
   "metadata": {},
   "outputs": [
    {
     "data": {
      "text/plain": [
       "['https://www.teamrankings.com/college-football/ranking/schedule-strength-by-other?date=2005-05-01',\n",
       " 'https://www.teamrankings.com/college-football/ranking/schedule-strength-by-other?date=2006-05-01']"
      ]
     },
     "execution_count": 25,
     "metadata": {},
     "output_type": "execute_result"
    }
   ],
   "source": [
    "# Generate list of urls\n",
    "base_url = 'https://www.teamrankings.com/college-football/ranking/schedule-strength-by-other?date='\n",
    "urls = [base_url + date for date in date_strings]\n",
    "urls[:2]"
   ]
  },
  {
   "cell_type": "code",
   "execution_count": 26,
   "metadata": {},
   "outputs": [
    {
     "data": {
      "text/html": [
       "<div>\n",
       "<style scoped>\n",
       "    .dataframe tbody tr th:only-of-type {\n",
       "        vertical-align: middle;\n",
       "    }\n",
       "\n",
       "    .dataframe tbody tr th {\n",
       "        vertical-align: top;\n",
       "    }\n",
       "\n",
       "    .dataframe thead th {\n",
       "        text-align: right;\n",
       "    }\n",
       "</style>\n",
       "<table border=\"1\" class=\"dataframe\">\n",
       "  <thead>\n",
       "    <tr style=\"text-align: right;\">\n",
       "      <th></th>\n",
       "      <th>year</th>\n",
       "      <th>rank</th>\n",
       "      <th>team</th>\n",
       "      <th>rating</th>\n",
       "    </tr>\n",
       "  </thead>\n",
       "  <tbody>\n",
       "    <tr>\n",
       "      <th>0</th>\n",
       "      <td>2005</td>\n",
       "      <td>1</td>\n",
       "      <td>USC</td>\n",
       "      <td>8.4</td>\n",
       "    </tr>\n",
       "    <tr>\n",
       "      <th>1</th>\n",
       "      <td>2005</td>\n",
       "      <td>2</td>\n",
       "      <td>Miami</td>\n",
       "      <td>6.8</td>\n",
       "    </tr>\n",
       "    <tr>\n",
       "      <th>2</th>\n",
       "      <td>2005</td>\n",
       "      <td>3</td>\n",
       "      <td>Oregon St</td>\n",
       "      <td>6.7</td>\n",
       "    </tr>\n",
       "    <tr>\n",
       "      <th>3</th>\n",
       "      <td>2005</td>\n",
       "      <td>4</td>\n",
       "      <td>Oklahoma</td>\n",
       "      <td>6.4</td>\n",
       "    </tr>\n",
       "    <tr>\n",
       "      <th>4</th>\n",
       "      <td>2005</td>\n",
       "      <td>5</td>\n",
       "      <td>Arizona St</td>\n",
       "      <td>6.4</td>\n",
       "    </tr>\n",
       "  </tbody>\n",
       "</table>\n",
       "</div>"
      ],
      "text/plain": [
       "   year rank        team rating\n",
       "0  2005    1         USC    8.4\n",
       "1  2005    2       Miami    6.8\n",
       "2  2005    3   Oregon St    6.7\n",
       "3  2005    4    Oklahoma    6.4\n",
       "4  2005    5  Arizona St    6.4"
      ]
     },
     "execution_count": 26,
     "metadata": {},
     "output_type": "execute_result"
    }
   ],
   "source": [
    "# Set up bs4 for scraping\n",
    "headers = {'User-Agent': 'Mozilla/5.0 (Macintosh; Intel Mac OS X 10_10_1) AppleWebKit/537.36 (KHTML, like Gecko) Chrome/39.0.2171.95 Safari/537.36'}\n",
    "\n",
    "years, ranks, teams, ratings = [], [], [], []\n",
    "schedule_strengths = pd.DataFrame()\n",
    "# Get all tables using loop\n",
    "for url in urls:\n",
    "    response = requests.get(url, headers=headers)\n",
    "    soup = BeautifulSoup(response.content, 'html.parser')\n",
    "    table = soup.find_all('table')[0]\n",
    "    entries = table.find_all('td')\n",
    "\n",
    "    for i, entry in enumerate(entries):\n",
    "        # Add all of the entries\n",
    "        n = i % 6\n",
    "        try:\n",
    "            if n == 0:\n",
    "                ranks.append(entry.text)\n",
    "            elif n == 1:\n",
    "                teams.append(re.findall(r'^(.*?)\\(', entry.text)[0].strip())\n",
    "            elif n == 2:\n",
    "                ratings.append(entry.text)\n",
    "            elif n == 3:\n",
    "                # Add the year\n",
    "                years.append(url[-10:-6])\n",
    "            else:\n",
    "                continue\n",
    "        except:\n",
    "            break\n",
    "    \n",
    "schedule_strengths_df = pd.DataFrame({'year': years, 'rank': ranks, 'team': teams, 'rating': ratings})\n",
    "schedule_strengths_df.head()    "
   ]
  },
  {
   "cell_type": "code",
   "execution_count": 27,
   "metadata": {},
   "outputs": [
    {
     "data": {
      "text/html": [
       "<div>\n",
       "<style scoped>\n",
       "    .dataframe tbody tr th:only-of-type {\n",
       "        vertical-align: middle;\n",
       "    }\n",
       "\n",
       "    .dataframe tbody tr th {\n",
       "        vertical-align: top;\n",
       "    }\n",
       "\n",
       "    .dataframe thead th {\n",
       "        text-align: right;\n",
       "    }\n",
       "</style>\n",
       "<table border=\"1\" class=\"dataframe\">\n",
       "  <thead>\n",
       "    <tr style=\"text-align: right;\">\n",
       "      <th></th>\n",
       "      <th>year</th>\n",
       "      <th>rank</th>\n",
       "      <th>team</th>\n",
       "      <th>rating</th>\n",
       "    </tr>\n",
       "  </thead>\n",
       "  <tbody>\n",
       "    <tr>\n",
       "      <th>2494</th>\n",
       "      <td>2024</td>\n",
       "      <td>129</td>\n",
       "      <td>Florida Intl</td>\n",
       "      <td>-11.3</td>\n",
       "    </tr>\n",
       "    <tr>\n",
       "      <th>2495</th>\n",
       "      <td>2024</td>\n",
       "      <td>130</td>\n",
       "      <td>N Illinois</td>\n",
       "      <td>-11.4</td>\n",
       "    </tr>\n",
       "    <tr>\n",
       "      <th>2496</th>\n",
       "      <td>2024</td>\n",
       "      <td>131</td>\n",
       "      <td>E Michigan</td>\n",
       "      <td>-13.3</td>\n",
       "    </tr>\n",
       "    <tr>\n",
       "      <th>2497</th>\n",
       "      <td>2024</td>\n",
       "      <td>132</td>\n",
       "      <td>Akron</td>\n",
       "      <td>-13.3</td>\n",
       "    </tr>\n",
       "    <tr>\n",
       "      <th>2498</th>\n",
       "      <td>2024</td>\n",
       "      <td>133</td>\n",
       "      <td>Kent St</td>\n",
       "      <td>-13.9</td>\n",
       "    </tr>\n",
       "  </tbody>\n",
       "</table>\n",
       "</div>"
      ],
      "text/plain": [
       "      year rank          team rating\n",
       "2494  2024  129  Florida Intl  -11.3\n",
       "2495  2024  130    N Illinois  -11.4\n",
       "2496  2024  131    E Michigan  -13.3\n",
       "2497  2024  132         Akron  -13.3\n",
       "2498  2024  133       Kent St  -13.9"
      ]
     },
     "execution_count": 27,
     "metadata": {},
     "output_type": "execute_result"
    }
   ],
   "source": [
    "schedule_strengths_df.tail()  "
   ]
  },
  {
   "cell_type": "code",
   "execution_count": 28,
   "metadata": {},
   "outputs": [],
   "source": [
    "schedule_strengths_df.to_csv('data/schedule_strengths.csv', index=False)"
   ]
  },
  {
   "cell_type": "markdown",
   "metadata": {},
   "source": [
    "### Editing the Team Names with Fuzzy Matching"
   ]
  },
  {
   "cell_type": "code",
   "execution_count": 9,
   "metadata": {},
   "outputs": [],
   "source": [
    "# Install fuzzy to do name matching\n",
    "!pip install --q fuzzywuzzy"
   ]
  },
  {
   "cell_type": "code",
   "execution_count": 10,
   "metadata": {},
   "outputs": [
    {
     "name": "stderr",
     "output_type": "stream",
     "text": [
      "/opt/anaconda3/envs/erdos_may_2024/lib/python3.11/site-packages/fuzzywuzzy/fuzz.py:11: UserWarning: Using slow pure-python SequenceMatcher. Install python-Levenshtein to remove this warning\n",
      "  warnings.warn('Using slow pure-python SequenceMatcher. Install python-Levenshtein to remove this warning')\n"
     ]
    }
   ],
   "source": [
    "import pandas as pd\n",
    "from fuzzywuzzy import process"
   ]
  },
  {
   "cell_type": "code",
   "execution_count": 2,
   "metadata": {},
   "outputs": [
    {
     "data": {
      "text/html": [
       "<div>\n",
       "<style scoped>\n",
       "    .dataframe tbody tr th:only-of-type {\n",
       "        vertical-align: middle;\n",
       "    }\n",
       "\n",
       "    .dataframe tbody tr th {\n",
       "        vertical-align: top;\n",
       "    }\n",
       "\n",
       "    .dataframe thead th {\n",
       "        text-align: right;\n",
       "    }\n",
       "</style>\n",
       "<table border=\"1\" class=\"dataframe\">\n",
       "  <thead>\n",
       "    <tr style=\"text-align: right;\">\n",
       "      <th></th>\n",
       "      <th>year</th>\n",
       "      <th>rank</th>\n",
       "      <th>team</th>\n",
       "      <th>rating</th>\n",
       "    </tr>\n",
       "  </thead>\n",
       "  <tbody>\n",
       "    <tr>\n",
       "      <th>0</th>\n",
       "      <td>2005</td>\n",
       "      <td>1</td>\n",
       "      <td>USC</td>\n",
       "      <td>8.4</td>\n",
       "    </tr>\n",
       "    <tr>\n",
       "      <th>1</th>\n",
       "      <td>2005</td>\n",
       "      <td>2</td>\n",
       "      <td>Miami</td>\n",
       "      <td>6.8</td>\n",
       "    </tr>\n",
       "    <tr>\n",
       "      <th>2</th>\n",
       "      <td>2005</td>\n",
       "      <td>3</td>\n",
       "      <td>Oregon St</td>\n",
       "      <td>6.7</td>\n",
       "    </tr>\n",
       "    <tr>\n",
       "      <th>3</th>\n",
       "      <td>2005</td>\n",
       "      <td>4</td>\n",
       "      <td>Oklahoma</td>\n",
       "      <td>6.4</td>\n",
       "    </tr>\n",
       "    <tr>\n",
       "      <th>4</th>\n",
       "      <td>2005</td>\n",
       "      <td>5</td>\n",
       "      <td>Arizona St</td>\n",
       "      <td>6.4</td>\n",
       "    </tr>\n",
       "  </tbody>\n",
       "</table>\n",
       "</div>"
      ],
      "text/plain": [
       "   year  rank        team  rating\n",
       "0  2005     1         USC     8.4\n",
       "1  2005     2       Miami     6.8\n",
       "2  2005     3   Oregon St     6.7\n",
       "3  2005     4    Oklahoma     6.4\n",
       "4  2005     5  Arizona St     6.4"
      ]
     },
     "execution_count": 2,
     "metadata": {},
     "output_type": "execute_result"
    }
   ],
   "source": [
    "schedule_strengths_df = pd.read_csv('data/schedule_strengths.csv')\n",
    "schedule_strengths_df.head()"
   ]
  },
  {
   "cell_type": "code",
   "execution_count": 64,
   "metadata": {},
   "outputs": [
    {
     "data": {
      "text/plain": [
       "array(['Air Force', 'Akron', 'Alabama', 'Appalachian State', 'Arizona',\n",
       "       'Arizona State', 'Arkansas', 'Arkansas State', 'Army', 'Auburn',\n",
       "       'Ball State', 'Baylor', 'Boise State', 'Boston College',\n",
       "       'Bowling Green', 'Buffalo', 'BYU', 'California',\n",
       "       'Central Michigan', 'Charlotte', 'Cincinnati', 'Clemson',\n",
       "       'Coastal Carolina', 'Colorado', 'Colorado State', 'Connecticut',\n",
       "       'Duke', 'East Carolina', 'Eastern Michigan', 'Florida',\n",
       "       'Florida Atlantic', 'Florida International', 'Florida State',\n",
       "       'Fresno State', 'Georgia', 'Georgia Southern', 'Georgia State',\n",
       "       'Georgia Tech', \"Hawai'i\", 'Houston', 'Illinois', 'Indiana',\n",
       "       'Iowa', 'Iowa State', 'Jacksonville State', 'James Madison',\n",
       "       'Kansas', 'Kansas State', 'Kent State', 'Kentucky', 'Liberty',\n",
       "       'Louisiana', 'Louisiana Monroe', 'Louisiana Tech', 'Louisville',\n",
       "       'LSU', 'Marshall', 'Maryland', 'Memphis', 'Miami', 'Miami (OH)',\n",
       "       'Michigan', 'Michigan State', 'Middle Tennessee', 'Minnesota',\n",
       "       'Mississippi State', 'Missouri', 'Navy', 'NC State', 'Nebraska',\n",
       "       'Nevada', 'New Mexico', 'New Mexico State', 'North Carolina',\n",
       "       'Northern Illinois', 'North Texas', 'Northwestern', 'Notre Dame',\n",
       "       'Ohio', 'Ohio State', 'Oklahoma', 'Oklahoma State', 'Old Dominion',\n",
       "       'Ole Miss', 'Oregon', 'Oregon State', 'Penn State', 'Pittsburgh',\n",
       "       'Purdue', 'Rice', 'Rutgers', 'Sam Houston State',\n",
       "       'San Diego State', 'San José State', 'SMU', 'South Alabama',\n",
       "       'South Carolina', 'Southern Mississippi', 'South Florida',\n",
       "       'Stanford', 'Syracuse', 'TCU', 'Temple', 'Tennessee', 'Texas',\n",
       "       'Texas A&M', 'Texas State', 'Texas Tech', 'Toledo', 'Troy',\n",
       "       'Tulane', 'Tulsa', 'UAB', 'UCF', 'UCLA', 'UMass', 'UNLV', 'USC',\n",
       "       'Utah', 'Utah State', 'UTEP', 'UT San Antonio', 'Vanderbilt',\n",
       "       'Virginia', 'Virginia Tech', 'Wake Forest', 'Washington',\n",
       "       'Washington State', 'Western Kentucky', 'Western Michigan',\n",
       "       'West Virginia', 'Wisconsin', 'Wyoming'], dtype=object)"
      ]
     },
     "execution_count": 64,
     "metadata": {},
     "output_type": "execute_result"
    }
   ],
   "source": [
    "# Get list of FBS team names\n",
    "team_info_df = pd.read_csv('data/team_info.csv')\n",
    "team_info_df.team.unique()"
   ]
  },
  {
   "cell_type": "code",
   "execution_count": 3,
   "metadata": {},
   "outputs": [
    {
     "data": {
      "text/plain": [
       "array(['USC', 'Miami', 'Oregon St', 'Oklahoma', 'Arizona St',\n",
       "       'California', 'VA Tech', 'Texas', 'Texas Tech', 'Texas A&M',\n",
       "       'N Carolina', 'Iowa', 'Stanford', 'Louisville', 'Oklahoma St',\n",
       "       'Virginia', 'Notre Dame', 'LSU', 'Ohio St', 'Michigan', 'Georgia',\n",
       "       'Florida St', 'Auburn', 'Tennessee', 'GA Tech', 'UCLA', 'Arkansas',\n",
       "       'Purdue', 'Florida', 'BYU', 'Northwestern', 'Colorado', 'Clemson',\n",
       "       'Arizona', 'NC State', 'Kansas', 'Oregon', 'Boise St', 'Maryland',\n",
       "       'Washington', 'Wisconsin', 'Wash State', 'Penn St', 'Kansas St',\n",
       "       'Iowa St', 'S Carolina', 'New Mexico', 'Michigan St', 'Minnesota',\n",
       "       'Alabama', 'Duke', 'Mississippi', 'Indiana', 'Syracuse',\n",
       "       'Fresno St', 'Wake Forest', 'Kentucky', 'LA Tech', 'Utah',\n",
       "       'Colorado St', 'Nebraska', 'Cincinnati', 'San Diego St',\n",
       "       'Missouri', 'Illinois', 'TX El Paso', 'Wyoming', 'W Virginia',\n",
       "       'Houston', 'Baylor', 'UNLV', 'Bowling Grn', 'Marshall',\n",
       "       'S Mississippi', 'Boston Col', 'Pittsburgh', 'Vanderbilt',\n",
       "       'Air Force', 'Miss State', 'Temple', 'Memphis', 'TX Christian',\n",
       "       'Army', 'Toledo', 'Rutgers', 'E Carolina', 'UAB', 'S Methodist',\n",
       "       'S Florida', 'Rice', 'Troy', 'Connecticut', 'Tulsa', 'UCF',\n",
       "       'Akron', 'Utah St', 'Hawaii', 'Tulane', 'Ohio', 'San Jose St',\n",
       "       'N Illinois', 'N Mex State', 'Arkansas St', 'Ball St', 'Navy',\n",
       "       'Kent St', 'Buffalo', 'Nevada', 'Idaho', 'W Michigan',\n",
       "       'Central Mich', 'North Texas', 'Middle Tenn', 'UL Monroe',\n",
       "       'Louisiana', 'E Michigan', 'Fla Atlantic', 'Florida Intl',\n",
       "       'W Kentucky', 'Texas St', 'U Mass', 'S Alabama', 'UTSA',\n",
       "       'Georgia St', 'GA Southern', 'Old Dominion', 'App State',\n",
       "       'Charlotte', 'Coastal Car', 'Liberty', 'James Mad', 'Jksnville St',\n",
       "       'Sam Hous St'], dtype=object)"
      ]
     },
     "execution_count": 3,
     "metadata": {},
     "output_type": "execute_result"
    }
   ],
   "source": [
    "schedule_strengths_df['team'].unique()"
   ]
  },
  {
   "cell_type": "markdown",
   "metadata": {},
   "source": [
    "There are many team names we should edit first before doing fuzzy matching. We want \"Florida St\" to become \"Florida State\" for example. We also want \"Mississippi\" to correct to \"Ole Miss.\" We'll have to do some of these by hand because Fuzzy matching will correct \"Florida St\" to \"Florida\" for example.\n",
    "\n",
    "Ultimately, it ended up being easier to just do the names by hand."
   ]
  },
  {
   "cell_type": "code",
   "execution_count": 7,
   "metadata": {},
   "outputs": [
    {
     "data": {
      "text/html": [
       "<div>\n",
       "<style scoped>\n",
       "    .dataframe tbody tr th:only-of-type {\n",
       "        vertical-align: middle;\n",
       "    }\n",
       "\n",
       "    .dataframe tbody tr th {\n",
       "        vertical-align: top;\n",
       "    }\n",
       "\n",
       "    .dataframe thead th {\n",
       "        text-align: right;\n",
       "    }\n",
       "</style>\n",
       "<table border=\"1\" class=\"dataframe\">\n",
       "  <thead>\n",
       "    <tr style=\"text-align: right;\">\n",
       "      <th></th>\n",
       "      <th>year</th>\n",
       "      <th>rank</th>\n",
       "      <th>team</th>\n",
       "      <th>rating</th>\n",
       "    </tr>\n",
       "  </thead>\n",
       "  <tbody>\n",
       "    <tr>\n",
       "      <th>0</th>\n",
       "      <td>2005</td>\n",
       "      <td>1</td>\n",
       "      <td>USC</td>\n",
       "      <td>8.4</td>\n",
       "    </tr>\n",
       "    <tr>\n",
       "      <th>1</th>\n",
       "      <td>2005</td>\n",
       "      <td>2</td>\n",
       "      <td>Miami</td>\n",
       "      <td>6.8</td>\n",
       "    </tr>\n",
       "    <tr>\n",
       "      <th>2</th>\n",
       "      <td>2005</td>\n",
       "      <td>3</td>\n",
       "      <td>Oregon State</td>\n",
       "      <td>6.7</td>\n",
       "    </tr>\n",
       "    <tr>\n",
       "      <th>3</th>\n",
       "      <td>2005</td>\n",
       "      <td>4</td>\n",
       "      <td>Oklahoma</td>\n",
       "      <td>6.4</td>\n",
       "    </tr>\n",
       "    <tr>\n",
       "      <th>4</th>\n",
       "      <td>2005</td>\n",
       "      <td>5</td>\n",
       "      <td>Arizona State</td>\n",
       "      <td>6.4</td>\n",
       "    </tr>\n",
       "  </tbody>\n",
       "</table>\n",
       "</div>"
      ],
      "text/plain": [
       "   year  rank           team  rating\n",
       "0  2005     1            USC     8.4\n",
       "1  2005     2          Miami     6.8\n",
       "2  2005     3   Oregon State     6.7\n",
       "3  2005     4       Oklahoma     6.4\n",
       "4  2005     5  Arizona State     6.4"
      ]
     },
     "execution_count": 7,
     "metadata": {},
     "output_type": "execute_result"
    }
   ],
   "source": [
    "replacements = {\n",
    "    'Oregon St': 'Oregon State',\n",
    "    'Arizona St': 'Arizona State',\n",
    "    'Mississippi St': 'Mississippi State',\n",
    "    'VA Tech': \"Virginia Tech\",\n",
    "    'N Carolina': \"North Carolina\",\n",
    "    'Oklahoma St': 'Oklahoma State',\n",
    "    'Ohio St': 'Ohio State',\n",
    "    'Florida St': \"Florida State\",\n",
    "    'GA Tech': 'Georgia Tech',\n",
    "    'Boise St': 'Boise State',\n",
    "    'Wash St': 'Washington State',\n",
    "    'Penn St': 'Penn State',\n",
    "    'Kansas St': 'Kansas State',\n",
    "    'Iowa St': 'Iowa State',\n",
    "    'S Carolina': 'South Carolina',\n",
    "    'Michigan St': 'Michigan State',\n",
    "    'Mississippi': \"Ole Miss\",\n",
    "    'Fresno St': 'Fresno State',\n",
    "    'LA Tech': 'Louisiana Tech',\n",
    "    'Colorado St': 'Colorado State',\n",
    "    'San Diego St': 'San Diego State',\n",
    "    'TX El Paso': 'UTEP',\n",
    "    'W Virginia': 'West Virginia',\n",
    "    'Bowling Grn': 'Bowling Green',\n",
    "    'S Mississippi': 'Southern Mississippi',\n",
    "    'Boston Col': \"Boston College\",\n",
    "    'Miss State': \"Mississippi State\",\n",
    "    'TX Christian': \"TCU\",\n",
    "    'E Carolina': 'East Carolina',\n",
    "    'S Methodist': \"SMU\",\n",
    "    'S Florida': 'South Florida',\n",
    "    'Utah St': 'Utah State',\n",
    "    'San Jose St': 'San Jose State',\n",
    "    'N Illinois': 'Northern Illinois',\n",
    "    'N Mex State': \"New Mexico State\",\n",
    "    'Arkansas St': 'Arkansas State',\n",
    "    'Ball St': 'Ball State',\n",
    "    'Kent St': 'Kent State',\n",
    "    'W Michigan': 'Western Michigan',\n",
    "    'Central Mich': \"Central Michigan\",\n",
    "    'Middle Tenn': 'Middle Tennessee',\n",
    "    'UL Monroe': 'Louisiana Monroe',\n",
    "    'E Michigan': 'Eastern Michigan',\n",
    "    'Fla Atlantic': 'Florida Atlantic',\n",
    "    'Florida Intl': 'Florida International',\n",
    "    'W Kentucky': 'Western Kentucky',\n",
    "    'Texas St': 'Texas State',\n",
    "    'U Mass': 'UMass',\n",
    "    'S Alabama': 'South Alabama',\n",
    "    'Georgia St': 'Georgia State',\n",
    "    'GA Southern': 'Georgia Southern',\n",
    "    'App St': 'Appalachian State',\n",
    "    'Coastal Car': 'Coastal Carolina',\n",
    "    'James Mad': 'James Madison',\n",
    "    'Jksnville St': 'Jacksonville State',\n",
    "    'Sam Hous St': 'Sam Houston State'\n",
    "}\n",
    "\n",
    "# Replace the values in the 'team' column\n",
    "schedule_strengths_df['team'] = schedule_strengths_df['team'].replace(replacements)\n",
    "schedule_strengths_df.head()"
   ]
  },
  {
   "cell_type": "code",
   "execution_count": 5,
   "metadata": {},
   "outputs": [
    {
     "data": {
      "text/plain": [
       "\"\\n# Use fuzzy to match team names\\ndef match_and_replace(bad_name, correct_names):\\n    # Get fuzzy matches and scores. Keep when beats threshold of 80\\n    match, score = process.extractOne(bad_name, correct_names)\\n    return match if score > 80 else bad_name\\n\\n# Apply to the rows of our schedule strengths\\nschedule_strengths_df['team'] = schedule_strengths_df['team'].apply(lambda x: match_and_replace(x, team_info_df['team'].tolist()))\\n\\nschedule_strengths_df['team']\\n\""
      ]
     },
     "execution_count": 5,
     "metadata": {},
     "output_type": "execute_result"
    }
   ],
   "source": [
    "'''\n",
    "# Use fuzzy to match team names\n",
    "def match_and_replace(bad_name, correct_names):\n",
    "    # Get fuzzy matches and scores. Keep when beats threshold of 80\n",
    "    match, score = process.extractOne(bad_name, correct_names)\n",
    "    return match if score > 80 else bad_name\n",
    "\n",
    "# Apply to the rows of our schedule strengths\n",
    "schedule_strengths_df['team'] = schedule_strengths_df['team'].apply(lambda x: match_and_replace(x, team_info_df['team'].tolist()))\n",
    "\n",
    "schedule_strengths_df['team']\n",
    "'''"
   ]
  },
  {
   "cell_type": "code",
   "execution_count": 8,
   "metadata": {},
   "outputs": [],
   "source": [
    "schedule_strengths_df.to_csv('data/schedule_strengths_fixed.csv', index=False)"
   ]
  },
  {
   "cell_type": "markdown",
   "metadata": {},
   "source": []
  }
 ],
 "metadata": {
  "kernelspec": {
   "display_name": "erdos_may_2024",
   "language": "python",
   "name": "python3"
  },
  "language_info": {
   "codemirror_mode": {
    "name": "ipython",
    "version": 3
   },
   "file_extension": ".py",
   "mimetype": "text/x-python",
   "name": "python",
   "nbconvert_exporter": "python",
   "pygments_lexer": "ipython3",
   "version": "3.11.9"
  }
 },
 "nbformat": 4,
 "nbformat_minor": 2
}
