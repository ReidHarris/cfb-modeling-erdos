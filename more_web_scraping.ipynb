{
 "cells": [
  {
   "cell_type": "markdown",
   "metadata": {},
   "source": [
    "# More Data Collection"
   ]
  },
  {
   "cell_type": "markdown",
   "metadata": {},
   "source": [
    "### Strength of Schedule Data\n",
    "- https://www.teamrankings.com/college-football/ranking/schedule-strength-by-other"
   ]
  },
  {
   "cell_type": "code",
   "execution_count": 1,
   "metadata": {},
   "outputs": [],
   "source": [
    "# Get general dependencies\n",
    "import pandas as pd\n",
    "import numpy as np\n",
    "import matplotlib.pyplot as plt\n",
    "import seaborn as sns\n",
    "import time\n",
    "from bs4 import BeautifulSoup\n",
    "import requests\n",
    "import re"
   ]
  },
  {
   "cell_type": "code",
   "execution_count": 7,
   "metadata": {},
   "outputs": [],
   "source": [
    "# Generate dates to grab strength of schedules\n",
    "from datetime import date, timedelta\n",
    "\n",
    "start_date = date(2005, 5, 1)\n",
    "end_date = date(2024, 5, 1)\n",
    "\n",
    "date_list = []\n",
    "current_date = start_date\n",
    "while current_date <= end_date:\n",
    "    date_list.append(current_date)\n",
    "    current_date = current_date.replace(year=current_date.year + 1)\n",
    "\n",
    "# Convert dates to strings in yyyy-mm-dd format for urls\n",
    "date_strings = [d.strftime('%Y-%m-%d') for d in date_list]\n"
   ]
  },
  {
   "cell_type": "code",
   "execution_count": 9,
   "metadata": {},
   "outputs": [
    {
     "data": {
      "text/plain": [
       "['https://www.teamrankings.com/college-football/ranking/schedule-strength-by-other?date=2005-05-01',\n",
       " 'https://www.teamrankings.com/college-football/ranking/schedule-strength-by-other?date=2006-05-01',\n",
       " 'https://www.teamrankings.com/college-football/ranking/schedule-strength-by-other?date=2007-05-01',\n",
       " 'https://www.teamrankings.com/college-football/ranking/schedule-strength-by-other?date=2008-05-01',\n",
       " 'https://www.teamrankings.com/college-football/ranking/schedule-strength-by-other?date=2009-05-01',\n",
       " 'https://www.teamrankings.com/college-football/ranking/schedule-strength-by-other?date=2010-05-01',\n",
       " 'https://www.teamrankings.com/college-football/ranking/schedule-strength-by-other?date=2011-05-01',\n",
       " 'https://www.teamrankings.com/college-football/ranking/schedule-strength-by-other?date=2012-05-01',\n",
       " 'https://www.teamrankings.com/college-football/ranking/schedule-strength-by-other?date=2013-05-01',\n",
       " 'https://www.teamrankings.com/college-football/ranking/schedule-strength-by-other?date=2014-05-01',\n",
       " 'https://www.teamrankings.com/college-football/ranking/schedule-strength-by-other?date=2015-05-01',\n",
       " 'https://www.teamrankings.com/college-football/ranking/schedule-strength-by-other?date=2016-05-01',\n",
       " 'https://www.teamrankings.com/college-football/ranking/schedule-strength-by-other?date=2017-05-01',\n",
       " 'https://www.teamrankings.com/college-football/ranking/schedule-strength-by-other?date=2018-05-01',\n",
       " 'https://www.teamrankings.com/college-football/ranking/schedule-strength-by-other?date=2019-05-01',\n",
       " 'https://www.teamrankings.com/college-football/ranking/schedule-strength-by-other?date=2020-05-01',\n",
       " 'https://www.teamrankings.com/college-football/ranking/schedule-strength-by-other?date=2021-05-01',\n",
       " 'https://www.teamrankings.com/college-football/ranking/schedule-strength-by-other?date=2022-05-01',\n",
       " 'https://www.teamrankings.com/college-football/ranking/schedule-strength-by-other?date=2023-05-01',\n",
       " 'https://www.teamrankings.com/college-football/ranking/schedule-strength-by-other?date=2024-05-01']"
      ]
     },
     "execution_count": 9,
     "metadata": {},
     "output_type": "execute_result"
    }
   ],
   "source": [
    "# Generate list of urls\n",
    "base_url = 'https://www.teamrankings.com/college-football/ranking/schedule-strength-by-other?date='\n",
    "urls = [base_url + date for date in date_strings]\n",
    "urls"
   ]
  },
  {
   "cell_type": "code",
   "execution_count": null,
   "metadata": {},
   "outputs": [],
   "source": [
    "years = np.arange()\n",
    "url = 'https://www.teamrankings.com/college-football/ranking/schedule-strength-by-other'\n",
    "\n",
    "headers = {'User-Agent': 'Mozilla/5.0 (Macintosh; Intel Mac OS X 10_10_1) AppleWebKit/537.36 (KHTML, like Gecko) Chrome/39.0.2171.95 Safari/537.36'}\n",
    "\n",
    "response = requests.get(url, headers=headers)\n",
    "soup = BeautifulSoup(response.content, 'html.parser')\n",
    "table = soup.find_all('li', {'class': 'rankings-page__list-item'})"
   ]
  },
  {
   "cell_type": "code",
   "execution_count": null,
   "metadata": {},
   "outputs": [],
   "source": [
    "years, rankings, teams, totals, five_stars, four_stars, avgs, points = [], [], [], [], [], [], [], []\n",
    "for row in table:\n",
    "    years.append(2024)\n",
    "    rankings.append(row.find('div', {'class': 'rank-column'}).find('div', {'class': 'primary'}).text.strip())\n",
    "    teams.append(row.find('a', {'class': 'rankings-page__name-link'}).text.strip())\n",
    "    totals.append(int(re.findall(r'\\d+', row.find('div', {'class': 'total'}).text)[0]))\n",
    "    five_stars.append(int(re.findall(r'\\s(\\d+)', row.find('ul', {'class':'star-commits-list'}).find_all('li')[0].text.strip())[0]))\n",
    "    four_stars.append(int(re.findall(r'\\s(\\d+)', row.find('ul', {'class':'star-commits-list'}).find_all('li')[1].text.strip())[0]))\n",
    "    avgs.append(float(row.find('div', {'class': 'avg'}).text.strip()))\n",
    "    points.append(float(row.find('div', {'class': 'points'}).text.strip()))\n",
    "\n",
    "newest_rankings_df = pd.DataFrame({'rank': rankings, 'points': points, 'year': years, \n",
    "                                   'team': teams, 'four_stars': four_stars, 'five_stars': five_stars,\n",
    "                                   'total': totals, 'average_player': avgs, 'points': points})\n",
    "newest_rankings_df['blue_chip'] = newest_rankings_df['four_stars'] + newest_rankings_df['five_stars']\n",
    "\n",
    "newest_rankings_df.head()"
   ]
  },
  {
   "cell_type": "markdown",
   "metadata": {},
   "source": []
  }
 ],
 "metadata": {
  "kernelspec": {
   "display_name": "erdos_may_2024",
   "language": "python",
   "name": "python3"
  },
  "language_info": {
   "codemirror_mode": {
    "name": "ipython",
    "version": 3
   },
   "file_extension": ".py",
   "mimetype": "text/x-python",
   "name": "python",
   "nbconvert_exporter": "python",
   "pygments_lexer": "ipython3",
   "version": "3.11.9"
  }
 },
 "nbformat": 4,
 "nbformat_minor": 2
}
